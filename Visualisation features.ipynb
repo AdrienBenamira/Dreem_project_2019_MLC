{
 "cells": [
  {
   "cell_type": "markdown",
   "metadata": {},
   "source": [
    "# Visualisation des features"
   ]
  },
  {
   "cell_type": "code",
   "execution_count": 1,
   "metadata": {},
   "outputs": [],
   "source": [
    "from tools.data import DreemDatasets\n",
    "from preprocessing.features import ExtractFeatures"
   ]
  },
  {
   "cell_type": "code",
   "execution_count": 5,
   "metadata": {},
   "outputs": [],
   "source": [
    "dataset_transforms = {\n",
    "    \"eeg_1\": ExtractFeatures(['min', 'max', 'energy', 'mmd', 'esis'], bands='*'),\n",
    "    \"eeg_2\": ExtractFeatures(['min', 'max', 'energy', 'mmd', 'esis'], bands='*'),\n",
    "    \"eeg_3\": ExtractFeatures(['min', 'max', 'energy', 'mmd', 'esis'], bands='*'),\n",
    "    \"eeg_4\": ExtractFeatures(['min', 'max', 'energy', 'mmd', 'esis'], bands='*'),\n",
    "    \"eeg_5\": ExtractFeatures(['min', 'max', 'energy', 'mmd', 'esis'], bands='*'),\n",
    "    \"eeg_6\": ExtractFeatures(['min', 'max', 'energy', 'mmd', 'esis'], bands='*')\n",
    "}"
   ]
  },
  {
   "cell_type": "code",
   "execution_count": null,
   "metadata": {},
   "outputs": [],
   "source": [
    "use_datasets = ['eeg_1', 'eeg_2', 'eeg_3', 'eeg_4', 'eeg_5', 'eeg_6']\n",
    "\n",
    "train_set, val_set = DreemDatasets('dataset/train.h5', 'dataset/train_y.csv', \n",
    "                                   keep_datasets=use_datasets, split_train_val=0.8, seed=0,\n",
    "                                   size=5000, transforms=dataset_transforms).get()\n",
    "\n",
    "train_set.load_data()  # Charge en mémoire. Peut-être un peu long\n",
    "\n",
    "train_set.close()  # On ferme les fichiers h5\n",
    "val_set.close()"
   ]
  },
  {
   "cell_type": "code",
   "execution_count": 4,
   "metadata": {},
   "outputs": [
    {
     "name": "stdout",
     "output_type": "stream",
     "text": [
      "torch.Size([6, 4, 6])\n"
     ]
    }
   ],
   "source": [
    "data, _, _ = train_set[0]\n",
    "\n",
    "print(data.shape)"
   ]
  }
 ],
 "metadata": {
  "kernelspec": {
   "display_name": "Python 3",
   "language": "python",
   "name": "python3"
  },
  "language_info": {
   "codemirror_mode": {
    "name": "ipython",
    "version": 3
   },
   "file_extension": ".py",
   "mimetype": "text/x-python",
   "name": "python",
   "nbconvert_exporter": "python",
   "pygments_lexer": "ipython3",
   "version": "3.7.1"
  }
 },
 "nbformat": 4,
 "nbformat_minor": 2
}
