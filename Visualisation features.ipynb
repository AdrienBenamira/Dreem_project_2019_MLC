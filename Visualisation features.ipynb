{
 "cells": [
  {
   "cell_type": "markdown",
   "metadata": {},
   "source": [
    "# Visualisation des features"
   ]
  },
  {
   "cell_type": "code",
   "execution_count": 1,
   "metadata": {},
   "outputs": [],
   "source": [
    "from tools.data import DreemDatasets\n",
    "from preprocessing.features import ExtractFeatures\n",
    "import numpy as np\n",
    "import matplotlib.pyplot as plt"
   ]
  },
  {
   "cell_type": "code",
   "execution_count": 2,
   "metadata": {},
   "outputs": [],
   "source": [
    "use_datasets = ['eeg_1', 'eeg_2', 'eeg_3', 'eeg_4', 'eeg_5', 'eeg_6']\n",
    "features = ['min', 'max', 'energy', 'mmd', 'esis']"
   ]
  },
  {
   "cell_type": "markdown",
   "metadata": {},
   "source": [
    "## Créer features\n",
    "\n",
    "Sauter à la prochaine section si déjà créées."
   ]
  },
  {
   "cell_type": "markdown",
   "metadata": {},
   "source": [
    "On définit les transformations pour les différents eeg. On choisit d'extraire toutes les bandes de fréquence (d'où la wildcard `'*'`)."
   ]
  },
  {
   "cell_type": "code",
   "execution_count": 3,
   "metadata": {},
   "outputs": [],
   "source": [
    "dataset_transforms = {\n",
    "    \"eeg_1\": ExtractFeatures(features, bands='*'),\n",
    "    \"eeg_2\": ExtractFeatures(features, bands='*'),\n",
    "    \"eeg_3\": ExtractFeatures(features, bands='*'),\n",
    "    \"eeg_4\": ExtractFeatures(features, bands='*'),\n",
    "    \"eeg_5\": ExtractFeatures(features, bands='*'),\n",
    "    \"eeg_6\": ExtractFeatures(features, bands='*')\n",
    "}"
   ]
  },
  {
   "cell_type": "markdown",
   "metadata": {},
   "source": [
    "Récupère tout les datasets et load en mémoire."
   ]
  },
  {
   "cell_type": "code",
   "execution_count": 4,
   "metadata": {},
   "outputs": [],
   "source": [
    "train_set, val_set = DreemDatasets('dataset/train.h5', 'dataset/train_y.csv', \n",
    "                                   keep_datasets=use_datasets, split_train_val=0.8, seed=0,\n",
    "                                   size=5000, transforms=dataset_transforms).get()\n",
    "\n",
    "train_set.load_data()  # Charge en mémoire. Peut-être un peu long\n",
    "\n",
    "train_set.close()  # On ferme les fichiers h5\n",
    "val_set.close()"
   ]
  },
  {
   "cell_type": "code",
   "execution_count": 16,
   "metadata": {},
   "outputs": [
    {
     "name": "stdout",
     "output_type": "stream",
     "text": [
      "torch.Size([6, 4, 5412, 5])\n"
     ]
    }
   ],
   "source": [
    "data, _, targets = train_set[:]\n",
    "\n",
    "print(data.shape)"
   ]
  },
  {
   "cell_type": "code",
   "execution_count": 17,
   "metadata": {},
   "outputs": [],
   "source": [
    "np.save(\"dataset/train_features.npy\", data)\n",
    "np.save(\"dataset/train_targets.npy\", targets)"
   ]
  },
  {
   "cell_type": "markdown",
   "metadata": {},
   "source": [
    "## Visualiser les features"
   ]
  },
  {
   "cell_type": "code",
   "execution_count": 18,
   "metadata": {},
   "outputs": [
    {
     "name": "stdout",
     "output_type": "stream",
     "text": [
      "(6, 4, 5412, 5)\n"
     ]
    }
   ],
   "source": [
    "data = np.load(\"dataset/train_features.npy\")\n",
    "targets = np.load(\"dataset/train_targets.npy\")\n",
    "\n",
    "print(data.shape)  # Shape: nombre eeg x nombre bande x nombre de data x nombre features"
   ]
  },
  {
   "cell_type": "markdown",
   "metadata": {},
   "source": [
    "Calcul les moyennes et écarts type pour chaque features"
   ]
  },
  {
   "cell_type": "code",
   "execution_count": 39,
   "metadata": {},
   "outputs": [
    {
     "name": "stdout",
     "output_type": "stream",
     "text": [
      "[[3.91906439e+11 1.77342339e+09 3.85493598e+08 1.67295816e+08]\n",
      " [2.23530653e+09 1.85387195e+08 7.56094186e+07 5.33588293e+07]\n",
      " [4.00329381e+11 1.63203297e+09 3.28742870e+08 1.38065804e+08]\n",
      " [3.95744810e+11 1.59899798e+09 3.36073319e+08 1.38781569e+08]\n",
      " [3.95971831e+11 1.59601065e+09 3.39927189e+08 1.41394434e+08]\n",
      " [3.05201776e+09 2.46106883e+08 8.05863961e+07 5.63361816e+07]]\n"
     ]
    }
   ],
   "source": [
    "target_labels = ['awake', 'rem', 'stage 1', 'stage 2', 'stage 3']\n",
    "\n",
    "keys = {name: targets == k for k, name in enumerate(target_labels)}\n",
    "data_labeled = {name: data[:, :, keys[name]] for name in target_labels}\n",
    "print(data_labeled['awake'][:, :, 0, 4])\n",
    "plt.plot()"
   ]
  },
  {
   "cell_type": "code",
   "execution_count": 22,
   "metadata": {},
   "outputs": [],
   "source": [
    "bands = ['delta', 'theta', 'alpha', 'beta']"
   ]
  },
  {
   "cell_type": "code",
   "execution_count": 33,
   "metadata": {
    "scrolled": true
   },
   "outputs": [
    {
     "name": "stdout",
     "output_type": "stream",
     "text": [
      "std\n",
      "[[[2.34175350e+05 1.70818732e+05 2.28951389e+11 6.28677043e+05\n",
      "   4.57902779e+13]\n",
      "  [5.40892034e+04 5.58943029e+04 7.94389757e+09 1.90833122e+05\n",
      "   4.76633854e+12]\n",
      "  [3.93917261e+04 3.96964625e+04 2.91554612e+09 1.19773538e+05\n",
      "   3.06132342e+12]\n",
      "  [3.29303131e+04 3.32432339e+04 1.66589573e+09 8.13442291e+04\n",
      "   2.91531752e+12]]\n",
      "\n",
      " [[2.21008476e+05 2.40038345e+05 2.54737784e+11 8.49229654e+05\n",
      "   5.09475568e+13]\n",
      "  [6.67890100e+04 6.88002126e+04 1.01442818e+10 2.58502041e+05\n",
      "   6.08656910e+12]\n",
      "  [3.64326321e+04 3.81870268e+04 2.37871556e+09 1.24855230e+05\n",
      "   2.49765134e+12]\n",
      "  [2.40996498e+04 2.53814095e+04 7.65672976e+08 7.45609544e+04\n",
      "   1.33992771e+12]]\n",
      "\n",
      " [[2.58726984e+05 1.86547300e+05 3.18823252e+11 8.07818100e+05\n",
      "   6.37646504e+13]\n",
      "  [5.89851174e+04 5.76132127e+04 6.98181420e+09 2.24768809e+05\n",
      "   4.18908852e+12]\n",
      "  [3.66911974e+04 3.73444792e+04 2.41359633e+09 1.28520656e+05\n",
      "   2.53427614e+12]\n",
      "  [3.08992698e+04 2.78920237e+04 1.11750859e+09 9.07502944e+04\n",
      "   1.95564004e+12]]\n",
      "\n",
      " [[2.03729482e+05 2.50060342e+05 3.16951801e+11 7.88510393e+05\n",
      "   6.33903603e+13]\n",
      "  [6.67540973e+04 6.46876208e+04 9.91319135e+09 2.45469949e+05\n",
      "   5.94791481e+12]\n",
      "  [5.64545441e+04 5.33945053e+04 6.65247304e+09 1.81175048e+05\n",
      "   6.98509670e+12]\n",
      "  [4.41914368e+04 4.60643445e+04 3.61910937e+09 1.41604358e+05\n",
      "   6.33344140e+12]]\n",
      "\n",
      " [[2.33931156e+05 2.02664252e+05 2.98207287e+11 7.40784438e+05\n",
      "   5.96414573e+13]\n",
      "  [6.72737428e+04 6.81979662e+04 1.19782079e+10 2.20150722e+05\n",
      "   7.18692477e+12]\n",
      "  [4.47297024e+04 4.26477736e+04 3.52524660e+09 1.28116899e+05\n",
      "   3.70150892e+12]\n",
      "  [3.87863269e+04 4.07666994e+04 2.15655417e+09 9.93451846e+04\n",
      "   3.77396979e+12]]\n",
      "\n",
      " [[1.88205366e+05 2.97144722e+05 3.73427849e+11 8.43951729e+05\n",
      "   7.46855697e+13]\n",
      "  [7.19242290e+04 7.27445720e+04 1.05403212e+10 2.59067164e+05\n",
      "   6.32419270e+12]\n",
      "  [5.08110105e+04 5.07885549e+04 6.36637033e+09 1.61041727e+05\n",
      "   6.68468885e+12]\n",
      "  [4.04226222e+04 3.82399920e+04 2.86122595e+09 1.12523862e+05\n",
      "   5.00714540e+12]]]\n",
      "mean\n",
      "[[[-3.95846906e+04  2.54186735e+04  2.27690990e+10  1.19051271e+05\n",
      "    4.55381980e+12]\n",
      "  [-7.74739620e+03  7.72267238e+03  5.98612062e+08  2.91886832e+04\n",
      "    3.59167237e+11]\n",
      "  [-4.30580652e+03  4.41455335e+03  1.83673825e+08  1.51249375e+04\n",
      "    1.92857516e+11]\n",
      "  [-3.28731338e+03  3.09009722e+03  9.33733792e+07  9.91614346e+03\n",
      "    1.63403414e+11]]\n",
      "\n",
      " [[-4.18806831e+04  4.52440272e+04  3.05586761e+10  1.70604939e+05\n",
      "    6.11173523e+12]\n",
      "  [-1.15080010e+04  1.18201442e+04  8.73786688e+08  4.51089931e+04\n",
      "    5.24272013e+11]\n",
      "  [-5.89191617e+03  5.94783674e+03  1.95945042e+08  2.11701135e+04\n",
      "    2.05742294e+11]\n",
      "  [-3.70106824e+03  3.83951884e+03  6.53164378e+07  1.28790270e+04\n",
      "    1.14303766e+11]]\n",
      "\n",
      " [[-4.29855726e+04  2.68407541e+04  3.08564942e+10  1.40078076e+05\n",
      "    6.17129884e+12]\n",
      "  [-1.03130315e+04  9.86624351e+03  6.95218095e+08  3.97031812e+04\n",
      "    4.17130857e+11]\n",
      "  [-5.46686290e+03  5.58776665e+03  1.90946310e+08  2.08625562e+04\n",
      "    2.00493626e+11]\n",
      "  [-4.14509055e+03  3.78250626e+03  8.27130457e+07  1.38999692e+04\n",
      "    1.44747830e+11]]\n",
      "\n",
      " [[-3.46448069e+04  3.45965436e+04  2.82299161e+10  1.44572677e+05\n",
      "    5.64598321e+12]\n",
      "  [-1.07578740e+04  1.04479004e+04  8.94265001e+08  4.20251455e+04\n",
      "    5.36559001e+11]\n",
      "  [-6.62059453e+03  6.32637238e+03  3.98801082e+08  2.45688579e+04\n",
      "    4.18741136e+11]\n",
      "  [-4.64009896e+03  4.87556935e+03  2.08877553e+08  1.72718234e+04\n",
      "    3.65535717e+11]]\n",
      "\n",
      " [[-3.69353665e+04  3.11492701e+04  2.58903877e+10  1.39736203e+05\n",
      "    5.17807755e+12]\n",
      "  [-1.09339006e+04  1.08607874e+04  9.62276926e+08  4.16383411e+04\n",
      "    5.77366156e+11]\n",
      "  [-6.30061968e+03  6.14486779e+03  2.58882194e+08  2.21515415e+04\n",
      "    2.71826303e+11]\n",
      "  [-4.74364912e+03  4.73231735e+03  1.50178761e+08  1.51910932e+04\n",
      "    2.62812831e+11]]\n",
      "\n",
      " [[-3.79691557e+04  5.19426372e+04  3.51681361e+10  1.80746670e+05\n",
      "    7.03362723e+12]\n",
      "  [-1.18417691e+04  1.19173159e+04  9.34385588e+08  4.60128753e+04\n",
      "    5.60631353e+11]\n",
      "  [-6.37303274e+03  6.27921193e+03  3.70994835e+08  2.34022360e+04\n",
      "    3.89544577e+11]\n",
      "  [-4.26364074e+03  4.39093599e+03  1.48187645e+08  1.51946634e+04\n",
      "    2.59328379e+11]]]\n"
     ]
    }
   ],
   "source": [
    "means = {name: data_labeled[name].mean(axis=2) for name in target_labels}\n",
    "std = {name: data_labeled[name].std(axis=2) for name in target_labels}\n",
    "\n",
    "print('std')\n",
    "print(std['awake'])\n",
    "print('mean')\n",
    "print(means['awake'])"
   ]
  }
 ],
 "metadata": {
  "kernelspec": {
   "display_name": "Python 3",
   "language": "python",
   "name": "python3"
  },
  "language_info": {
   "codemirror_mode": {
    "name": "ipython",
    "version": 3
   },
   "file_extension": ".py",
   "mimetype": "text/x-python",
   "name": "python",
   "nbconvert_exporter": "python",
   "pygments_lexer": "ipython3",
   "version": "3.7.1"
  }
 },
 "nbformat": 4,
 "nbformat_minor": 2
}
