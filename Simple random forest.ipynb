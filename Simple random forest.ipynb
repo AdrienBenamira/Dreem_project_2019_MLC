{
 "cells": [
  {
   "cell_type": "code",
   "execution_count": 1,
   "metadata": {},
   "outputs": [],
   "source": [
    "import numpy as np\n",
    "from sklearn.ensemble import RandomForestClassifier\n",
    "from sklearn.metrics import accuracy_score, f1_score, confusion_matrix\n",
    "from tools.data import DreemDatasets\n",
    "from preprocessing import Compose, ExtractBands, ExtractSpectrum"
   ]
  },
  {
   "cell_type": "code",
   "execution_count": 2,
   "metadata": {},
   "outputs": [],
   "source": [
    "use_datasets = ['eeg_1', 'eeg_2', 'eeg_3', 'eeg_4', 'eeg_5', 'eeg_6', 'eeg_7']\n",
    "seed = 1"
   ]
  },
  {
   "cell_type": "markdown",
   "metadata": {},
   "source": [
    "## Des transformations"
   ]
  },
  {
   "cell_type": "code",
   "execution_count": 3,
   "metadata": {},
   "outputs": [],
   "source": [
    "dataset_transform_extract_bands = {\n",
    "    \"eeg_1\": ExtractBands(),\n",
    "    \"eeg_2\": ExtractBands(),\n",
    "    \"eeg_3\": ExtractBands(),\n",
    "    \"eeg_4\": ExtractBands(),\n",
    "    \"eeg_5\": ExtractBands(),\n",
    "    \"eeg_6\": ExtractBands(),\n",
    "    \"eeg_7\": ExtractBands()\n",
    "}"
   ]
  },
  {
   "cell_type": "code",
   "execution_count": 4,
   "metadata": {},
   "outputs": [],
   "source": [
    "dataset_transform_spectrum = {\n",
    "    \"eeg_1\": Compose([ExtractBands(), ExtractSpectrum(window=100)]),\n",
    "    \"eeg_2\": Compose([ExtractBands(), ExtractSpectrum(window=100)]),\n",
    "    \"eeg_3\": Compose([ExtractBands(), ExtractSpectrum(window=100)]),\n",
    "    \"eeg_4\": Compose([ExtractBands(), ExtractSpectrum(window=100)]),\n",
    "    \"eeg_5\": Compose([ExtractBands(), ExtractSpectrum(window=100)]),\n",
    "    \"eeg_6\": Compose([ExtractBands(), ExtractSpectrum(window=100)]),\n",
    "    \"eeg_7\": Compose([ExtractBands(), ExtractSpectrum(window=100)])\n",
    "}"
   ]
  },
  {
   "cell_type": "markdown",
   "metadata": {},
   "source": [
    "## Générer le dataset\n",
    "\n",
    "Si les données ont déjà été générés, sauter cette étape."
   ]
  },
  {
   "cell_type": "markdown",
   "metadata": {},
   "source": [
    "### Données brutes\n",
    "Avec directement tous les eeg"
   ]
  },
  {
   "cell_type": "code",
   "execution_count": 5,
   "metadata": {},
   "outputs": [
    {
     "name": "stdout",
     "output_type": "stream",
     "text": [
      "Saving into dataset/all_eegs/train ...\n",
      "Loading dataset eeg_1 ...\n"
     ]
    },
    {
     "ename": "KeyboardInterrupt",
     "evalue": "",
     "output_type": "error",
     "traceback": [
      "\u001b[0;31m---------------------------------------------------------------------------\u001b[0m",
      "\u001b[0;31mKeyboardInterrupt\u001b[0m                         Traceback (most recent call last)",
      "\u001b[0;32m<ipython-input-5-9b4141e74d5e>\u001b[0m in \u001b[0;36m<module>\u001b[0;34m\u001b[0m\n\u001b[1;32m      2\u001b[0m                                    split_train_val=0.8, seed=seed, keep_datasets=use_datasets).get()\n\u001b[1;32m      3\u001b[0m \u001b[0;34m\u001b[0m\u001b[0m\n\u001b[0;32m----> 4\u001b[0;31m \u001b[0mtrain_set\u001b[0m\u001b[0;34m.\u001b[0m\u001b[0msave_data\u001b[0m\u001b[0;34m(\u001b[0m\u001b[0;34m\"dataset/all_eegs/train\"\u001b[0m\u001b[0;34m)\u001b[0m\u001b[0;34m\u001b[0m\u001b[0;34m\u001b[0m\u001b[0m\n\u001b[0m\u001b[1;32m      5\u001b[0m \u001b[0;34m\u001b[0m\u001b[0m\n\u001b[1;32m      6\u001b[0m \u001b[0mval_set\u001b[0m\u001b[0;34m.\u001b[0m\u001b[0msave_data\u001b[0m\u001b[0;34m(\u001b[0m\u001b[0;34m\"dataset/all_eegs/val\"\u001b[0m\u001b[0;34m)\u001b[0m\u001b[0;34m\u001b[0m\u001b[0;34m\u001b[0m\u001b[0m\n",
      "\u001b[0;32m/run/media/bdvllrs/Data/Documents/Supelec/OMA/MLC/Projet/tools/data.py\u001b[0m in \u001b[0;36msave_data\u001b[0;34m(self, path)\u001b[0m\n\u001b[1;32m    213\u001b[0m         \u001b[0;32mfor\u001b[0m \u001b[0mdataset_name\u001b[0m \u001b[0;32min\u001b[0m \u001b[0mself\u001b[0m\u001b[0;34m.\u001b[0m\u001b[0mh5_datasets\u001b[0m\u001b[0;34m.\u001b[0m\u001b[0mkeys\u001b[0m\u001b[0;34m(\u001b[0m\u001b[0;34m)\u001b[0m\u001b[0;34m:\u001b[0m\u001b[0;34m\u001b[0m\u001b[0;34m\u001b[0m\u001b[0m\n\u001b[1;32m    214\u001b[0m             \u001b[0mdataset\u001b[0m \u001b[0;34m=\u001b[0m \u001b[0mself\u001b[0m\u001b[0;34m.\u001b[0m\u001b[0mget_dataset\u001b[0m\u001b[0;34m(\u001b[0m\u001b[0mdataset_name\u001b[0m\u001b[0;34m)\u001b[0m  \u001b[0;31m# Force not loading from path\u001b[0m\u001b[0;34m\u001b[0m\u001b[0;34m\u001b[0m\u001b[0m\n\u001b[0;32m--> 215\u001b[0;31m             \u001b[0mnp\u001b[0m\u001b[0;34m.\u001b[0m\u001b[0msave\u001b[0m\u001b[0;34m(\u001b[0m\u001b[0mpath\u001b[0m \u001b[0;34m+\u001b[0m \u001b[0;34m\"/\"\u001b[0m \u001b[0;34m+\u001b[0m \u001b[0mdataset_name\u001b[0m \u001b[0;34m+\u001b[0m \u001b[0;34m\".npy\"\u001b[0m\u001b[0;34m,\u001b[0m \u001b[0mdataset\u001b[0m\u001b[0;34m)\u001b[0m\u001b[0;34m\u001b[0m\u001b[0;34m\u001b[0m\u001b[0m\n\u001b[0m\u001b[1;32m    216\u001b[0m         \u001b[0mself\u001b[0m\u001b[0;34m.\u001b[0m\u001b[0mtargets\u001b[0m \u001b[0;34m=\u001b[0m \u001b[0mnp\u001b[0m\u001b[0;34m.\u001b[0m\u001b[0marray\u001b[0m\u001b[0;34m(\u001b[0m\u001b[0;34m[\u001b[0m\u001b[0mself\u001b[0m\u001b[0;34m.\u001b[0m\u001b[0mtargets\u001b[0m\u001b[0;34m[\u001b[0m\u001b[0mi\u001b[0m\u001b[0;34m]\u001b[0m \u001b[0;32mfor\u001b[0m \u001b[0mi\u001b[0m \u001b[0;32min\u001b[0m \u001b[0mself\u001b[0m\u001b[0;34m.\u001b[0m\u001b[0mkeys_to_keep\u001b[0m\u001b[0;34m]\u001b[0m\u001b[0;34m)\u001b[0m\u001b[0;34m\u001b[0m\u001b[0;34m\u001b[0m\u001b[0m\n\u001b[1;32m    217\u001b[0m         \u001b[0mself\u001b[0m\u001b[0;34m.\u001b[0m\u001b[0msave_targets\u001b[0m\u001b[0;34m(\u001b[0m\u001b[0mpath\u001b[0m \u001b[0;34m+\u001b[0m \u001b[0;34m\"/\"\u001b[0m \u001b[0;34m+\u001b[0m \u001b[0;34m\"targets.npy\"\u001b[0m\u001b[0;34m)\u001b[0m\u001b[0;34m\u001b[0m\u001b[0;34m\u001b[0m\u001b[0m\n",
      "\u001b[0;32m/usr/lib/python3.7/site-packages/numpy/lib/npyio.py\u001b[0m in \u001b[0;36msave\u001b[0;34m(file, arr, allow_pickle, fix_imports)\u001b[0m\n\u001b[1;32m    519\u001b[0m         \u001b[0marr\u001b[0m \u001b[0;34m=\u001b[0m \u001b[0mnp\u001b[0m\u001b[0;34m.\u001b[0m\u001b[0masanyarray\u001b[0m\u001b[0;34m(\u001b[0m\u001b[0marr\u001b[0m\u001b[0;34m)\u001b[0m\u001b[0;34m\u001b[0m\u001b[0;34m\u001b[0m\u001b[0m\n\u001b[1;32m    520\u001b[0m         format.write_array(fid, arr, allow_pickle=allow_pickle,\n\u001b[0;32m--> 521\u001b[0;31m                            pickle_kwargs=pickle_kwargs)\n\u001b[0m\u001b[1;32m    522\u001b[0m     \u001b[0;32mfinally\u001b[0m\u001b[0;34m:\u001b[0m\u001b[0;34m\u001b[0m\u001b[0;34m\u001b[0m\u001b[0m\n\u001b[1;32m    523\u001b[0m         \u001b[0;32mif\u001b[0m \u001b[0mown_fid\u001b[0m\u001b[0;34m:\u001b[0m\u001b[0;34m\u001b[0m\u001b[0;34m\u001b[0m\u001b[0m\n",
      "\u001b[0;32m/usr/lib/python3.7/site-packages/numpy/lib/format.py\u001b[0m in \u001b[0;36mwrite_array\u001b[0;34m(fp, array, version, allow_pickle, pickle_kwargs)\u001b[0m\n\u001b[1;32m    602\u001b[0m     \u001b[0;32melse\u001b[0m\u001b[0;34m:\u001b[0m\u001b[0;34m\u001b[0m\u001b[0;34m\u001b[0m\u001b[0m\n\u001b[1;32m    603\u001b[0m         \u001b[0;32mif\u001b[0m \u001b[0misfileobj\u001b[0m\u001b[0;34m(\u001b[0m\u001b[0mfp\u001b[0m\u001b[0;34m)\u001b[0m\u001b[0;34m:\u001b[0m\u001b[0;34m\u001b[0m\u001b[0;34m\u001b[0m\u001b[0m\n\u001b[0;32m--> 604\u001b[0;31m             \u001b[0marray\u001b[0m\u001b[0;34m.\u001b[0m\u001b[0mtofile\u001b[0m\u001b[0;34m(\u001b[0m\u001b[0mfp\u001b[0m\u001b[0;34m)\u001b[0m\u001b[0;34m\u001b[0m\u001b[0;34m\u001b[0m\u001b[0m\n\u001b[0m\u001b[1;32m    605\u001b[0m         \u001b[0;32melse\u001b[0m\u001b[0;34m:\u001b[0m\u001b[0;34m\u001b[0m\u001b[0;34m\u001b[0m\u001b[0m\n\u001b[1;32m    606\u001b[0m             for chunk in numpy.nditer(\n",
      "\u001b[0;31mKeyboardInterrupt\u001b[0m: "
     ]
    }
   ],
   "source": [
    "train_set, val_set = DreemDatasets('dataset/train.h5', 'dataset/train_y.csv', \n",
    "                                   split_train_val=0.8, seed=seed, keep_datasets=use_datasets).get()\n",
    "\n",
    "train_set.save_data(\"dataset/all_eegs/train\") \n",
    "\n",
    "val_set.save_data(\"dataset/all_eegs/val\")\n",
    "\n",
    "train_set.close()  # Ne ferme que les fichiers h5. Si mis en mémoire, on a toujours accès aux données !\n",
    "val_set.close()"
   ]
  },
  {
   "cell_type": "markdown",
   "metadata": {},
   "source": [
    "### Séparés en bandes"
   ]
  },
  {
   "cell_type": "code",
   "execution_count": null,
   "metadata": {},
   "outputs": [],
   "source": [
    "train_set, val_set = DreemDatasets('dataset/train.h5', 'dataset/train_y.csv', \n",
    "                                   split_train_val=0.8, seed=seed, keep_datasets=use_datasets,\n",
    "                                   transforms=dataset_transform_extract_bands).get()\n",
    "\n",
    "train_set.save_data(\"dataset/eegs_bands/train\") \n",
    "\n",
    "val_set.save_data(\"dataset/eegs_bands/val\")\n",
    "\n",
    "train_set.close()  # Ne ferme que les fichiers h5. Si mis en mémoire, on a toujours accès aux données !\n",
    "val_set.close()"
   ]
  },
  {
   "cell_type": "markdown",
   "metadata": {},
   "source": [
    "### Spectre sur les données séparée en bande"
   ]
  },
  {
   "cell_type": "code",
   "execution_count": 6,
   "metadata": {},
   "outputs": [
    {
     "name": "stdout",
     "output_type": "stream",
     "text": [
      "Saving into dataset/eegs_band_spectrum/train ...\n",
      "Loading dataset eeg_1 ...\n",
      "Apply transformations...\n",
      "Applied.\n",
      "Loading dataset eeg_2 ...\n",
      "Apply transformations...\n",
      "Applied.\n",
      "Loading dataset eeg_3 ...\n",
      "Apply transformations...\n",
      "Applied.\n",
      "Loading dataset eeg_4 ...\n",
      "Apply transformations...\n",
      "Applied.\n",
      "Loading dataset eeg_5 ...\n",
      "Apply transformations...\n",
      "Applied.\n",
      "Loading dataset eeg_6 ...\n",
      "Apply transformations...\n",
      "Applied.\n",
      "Loading dataset eeg_7 ...\n",
      "Apply transformations...\n",
      "Applied.\n",
      "Saved.\n",
      "Saving into dataset/eegs_band_spectrum/val ...\n",
      "Loading dataset eeg_1 ...\n",
      "Apply transformations...\n",
      "Applied.\n",
      "Loading dataset eeg_2 ...\n",
      "Apply transformations...\n",
      "Applied.\n",
      "Loading dataset eeg_3 ...\n",
      "Apply transformations...\n",
      "Applied.\n",
      "Loading dataset eeg_4 ...\n",
      "Apply transformations...\n",
      "Applied.\n",
      "Loading dataset eeg_5 ...\n",
      "Apply transformations...\n",
      "Applied.\n",
      "Loading dataset eeg_6 ...\n",
      "Apply transformations...\n",
      "Applied.\n",
      "Loading dataset eeg_7 ...\n",
      "Apply transformations...\n",
      "Applied.\n",
      "Saved.\n"
     ]
    }
   ],
   "source": [
    "train_set, val_set = DreemDatasets('dataset/train.h5', 'dataset/train_y.csv', \n",
    "                                   split_train_val=0.8, seed=seed, keep_datasets=use_datasets,\n",
    "                                   transforms=dataset_transform_spectrum).get()\n",
    "\n",
    "train_set.save_data(\"dataset/eegs_band_spectrum/train\") \n",
    "\n",
    "val_set.save_data(\"dataset/eegs_band_spectrum/val\")\n",
    "\n",
    "train_set.close()  # Ne ferme que les fichiers h5. Si mis en mémoire, on a toujours accès aux données !\n",
    "val_set.close()"
   ]
  },
  {
   "cell_type": "markdown",
   "metadata": {},
   "source": [
    "## Charger les données en mémoire"
   ]
  },
  {
   "cell_type": "code",
   "execution_count": 5,
   "metadata": {},
   "outputs": [
    {
     "name": "stdout",
     "output_type": "stream",
     "text": [
      "Loading data in memory...\n",
      "5412 in 7 datasets to load\n",
      "Loading dataset eeg_1 ...\n",
      "Loading dataset eeg_2 ...\n",
      "Loading dataset eeg_3 ...\n",
      "Loading dataset eeg_4 ...\n",
      "Loading dataset eeg_5 ...\n",
      "Loading dataset eeg_6 ...\n",
      "Loading dataset eeg_7 ...\n",
      "Done.\n",
      "Loading data in memory...\n",
      "1353 in 7 datasets to load\n",
      "Loading dataset eeg_1 ...\n",
      "Loading dataset eeg_2 ...\n",
      "Loading dataset eeg_3 ...\n",
      "Loading dataset eeg_4 ...\n",
      "Loading dataset eeg_5 ...\n",
      "Loading dataset eeg_6 ...\n",
      "Loading dataset eeg_7 ...\n",
      "Done.\n"
     ]
    }
   ],
   "source": [
    "train_set, val_set = DreemDatasets('dataset/train.h5', 'dataset/train_y.csv', \n",
    "                                   split_train_val=0.8, seed=seed, keep_datasets=use_datasets,\n",
    "                                   verbose=False).get()\n",
    "\n",
    "train_set.load_data(\"dataset/all_eegs/train\") \n",
    "\n",
    "val_set.load_data(\"dataset/all_eegs/val\")\n",
    "\n",
    "train_set.close()  # Ne ferme que les fichiers h5. Si mis en mémoire, on a toujours accès aux données !\n",
    "val_set.close()"
   ]
  },
  {
   "cell_type": "markdown",
   "metadata": {},
   "source": [
    "## Simple random forest sur les données brutes"
   ]
  },
  {
   "cell_type": "code",
   "execution_count": 7,
   "metadata": {},
   "outputs": [],
   "source": [
    "clf = RandomForestClassifier(n_estimators=100, random_state=0)"
   ]
  },
  {
   "cell_type": "code",
   "execution_count": 6,
   "metadata": {},
   "outputs": [],
   "source": [
    "X, _, y = train_set[:]\n",
    "X_val, _, y_val = val_set[:]\n",
    "\n",
    "X = X.transpose((1, 0, 2))\n",
    "X = X.reshape(-1, 7*1500)\n",
    "\n",
    "X_val = X_val.transpose((1, 0, 2))\n",
    "X_val = X_val.reshape(-1, 7*1500)"
   ]
  },
  {
   "cell_type": "code",
   "execution_count": 8,
   "metadata": {},
   "outputs": [
    {
     "data": {
      "text/plain": [
       "RandomForestClassifier(bootstrap=True, class_weight=None, criterion='gini',\n",
       "            max_depth=None, max_features='auto', max_leaf_nodes=None,\n",
       "            min_impurity_decrease=0.0, min_impurity_split=None,\n",
       "            min_samples_leaf=1, min_samples_split=2,\n",
       "            min_weight_fraction_leaf=0.0, n_estimators=100, n_jobs=None,\n",
       "            oob_score=False, random_state=0, verbose=0, warm_start=False)"
      ]
     },
     "execution_count": 8,
     "metadata": {},
     "output_type": "execute_result"
    }
   ],
   "source": [
    "clf.fit(X, y)"
   ]
  },
  {
   "cell_type": "code",
   "execution_count": 9,
   "metadata": {},
   "outputs": [
    {
     "name": "stdout",
     "output_type": "stream",
     "text": [
      "[[110  43  42  41  41]\n",
      " [ 63  72  52  41  57]\n",
      " [ 23  17  89  70  59]\n",
      " [ 30  12  44 170  11]\n",
      " [ 25  27  75  24 115]] 0.4109386548410939 0.404781216562207\n"
     ]
    }
   ],
   "source": [
    "labels_pred = clf.predict(X_val)\n",
    "cm = confusion_matrix(y_val, labels_pred)\n",
    "acc = accuracy_score(y_val, labels_pred)\n",
    "f1 = f1_score(y_val, labels_pred, average='macro')\n",
    "\n",
    "print(cm, acc, f1)"
   ]
  },
  {
   "cell_type": "markdown",
   "metadata": {},
   "source": [
    "## En utilisant les données séparées en bandes"
   ]
  },
  {
   "cell_type": "code",
   "execution_count": 10,
   "metadata": {},
   "outputs": [],
   "source": [
    "train_set, val_set = DreemDatasets('dataset/train.h5', 'dataset/train_y.csv', \n",
    "                                   split_train_val=0.8, seed=seed, keep_datasets=use_datasets,\n",
    "                                   verbose=False).get()\n",
    "\n",
    "train_set.load_data(\"dataset/eegs_bands/train\") \n",
    "\n",
    "val_set.load_data(\"dataset/eegs_bands/val\")\n",
    "\n",
    "train_set.close()  # Ne ferme que les fichiers h5. Si mis en mémoire, on a toujours accès aux données !\n",
    "val_set.close()"
   ]
  },
  {
   "cell_type": "code",
   "execution_count": 11,
   "metadata": {},
   "outputs": [],
   "source": [
    "clf = RandomForestClassifier(n_estimators=100, random_state=0)"
   ]
  },
  {
   "cell_type": "code",
   "execution_count": 14,
   "metadata": {},
   "outputs": [
    {
     "name": "stdout",
     "output_type": "stream",
     "text": [
      "(5412, 42000)\n",
      "(1353, 42000)\n"
     ]
    }
   ],
   "source": [
    "X, _, y = train_set[:]\n",
    "X_val, _, y_val = val_set[:]\n",
    "\n",
    "X = X.transpose((1, 0, 2, 3))\n",
    "X_val = X_val.transpose((1, 0, 2, 3))\n",
    "\n",
    "X = X.reshape(-1, 7*4*1500)\n",
    "X_val = X_val.reshape(-1, 7*4*1500)"
   ]
  },
  {
   "cell_type": "code",
   "execution_count": 15,
   "metadata": {},
   "outputs": [
    {
     "data": {
      "text/plain": [
       "RandomForestClassifier(bootstrap=True, class_weight=None, criterion='gini',\n",
       "            max_depth=None, max_features='auto', max_leaf_nodes=None,\n",
       "            min_impurity_decrease=0.0, min_impurity_split=None,\n",
       "            min_samples_leaf=1, min_samples_split=2,\n",
       "            min_weight_fraction_leaf=0.0, n_estimators=100, n_jobs=None,\n",
       "            oob_score=False, random_state=0, verbose=0, warm_start=False)"
      ]
     },
     "execution_count": 15,
     "metadata": {},
     "output_type": "execute_result"
    }
   ],
   "source": [
    "clf.fit(X, y)"
   ]
  },
  {
   "cell_type": "code",
   "execution_count": 16,
   "metadata": {},
   "outputs": [
    {
     "name": "stdout",
     "output_type": "stream",
     "text": [
      "[[137  38  49  23  30]\n",
      " [ 65  64  53  42  61]\n",
      " [ 27  27  78  65  61]\n",
      " [ 27  17  42 174   7]\n",
      " [ 41  24  59  26 116]] 0.4205469327420547 0.41196910424927663\n"
     ]
    }
   ],
   "source": [
    "labels_pred = clf.predict(X_val)\n",
    "cm = confusion_matrix(y_val, labels_pred)\n",
    "acc = accuracy_score(y_val, labels_pred)\n",
    "f1 = f1_score(y_val, labels_pred, average='macro')\n",
    "\n",
    "print(cm, acc, f1)"
   ]
  },
  {
   "cell_type": "markdown",
   "metadata": {},
   "source": [
    "## En utilisant les bandes en fréquence"
   ]
  },
  {
   "cell_type": "code",
   "execution_count": 7,
   "metadata": {},
   "outputs": [],
   "source": [
    "train_set, val_set = DreemDatasets('dataset/train.h5', 'dataset/train_y.csv', \n",
    "                                   split_train_val=0.8, seed=seed, keep_datasets=use_datasets,\n",
    "                                   verbose=False).get()\n",
    "\n",
    "train_set.load_data(\"dataset/eegs_band_spectrum/train\") \n",
    "\n",
    "val_set.load_data(\"dataset/eegs_band_spectrum/val\")\n",
    "\n",
    "train_set.close()  # Ne ferme que les fichiers h5. Si mis en mémoire, on a toujours accès aux données !\n",
    "val_set.close()"
   ]
  },
  {
   "cell_type": "code",
   "execution_count": 8,
   "metadata": {},
   "outputs": [],
   "source": [
    "clf = RandomForestClassifier(n_estimators=100, random_state=0)"
   ]
  },
  {
   "cell_type": "code",
   "execution_count": 11,
   "metadata": {},
   "outputs": [],
   "source": [
    "X, _, y = train_set[:]\n",
    "X_val, _, y_val = val_set[:]\n",
    "\n",
    "X = X.transpose((2, 0, 1, 3, 4))\n",
    "X_val = X_val.transpose((2, 0, 1, 3, 4))\n",
    "\n",
    "X = X.reshape(-1, 7*4*1500)\n",
    "X_val = X_val.reshape(-1, 7*4*1500)"
   ]
  },
  {
   "cell_type": "code",
   "execution_count": 12,
   "metadata": {},
   "outputs": [
    {
     "data": {
      "text/plain": [
       "RandomForestClassifier(bootstrap=True, class_weight=None, criterion='gini',\n",
       "            max_depth=None, max_features='auto', max_leaf_nodes=None,\n",
       "            min_impurity_decrease=0.0, min_impurity_split=None,\n",
       "            min_samples_leaf=1, min_samples_split=2,\n",
       "            min_weight_fraction_leaf=0.0, n_estimators=100, n_jobs=None,\n",
       "            oob_score=False, random_state=0, verbose=0, warm_start=False)"
      ]
     },
     "execution_count": 12,
     "metadata": {},
     "output_type": "execute_result"
    }
   ],
   "source": [
    "clf.fit(X, y)"
   ]
  },
  {
   "cell_type": "code",
   "execution_count": 13,
   "metadata": {},
   "outputs": [
    {
     "name": "stdout",
     "output_type": "stream",
     "text": [
      "[[163  43  24  15  32]\n",
      " [ 61  77  50  30  67]\n",
      " [ 25  20  96  64  53]\n",
      " [ 14  11  41 195   6]\n",
      " [ 31  23  54  23 135]] 0.49223946784922396 0.4826248025434654\n"
     ]
    }
   ],
   "source": [
    "labels_pred = clf.predict(X_val)\n",
    "cm = confusion_matrix(y_val, labels_pred)\n",
    "acc = accuracy_score(y_val, labels_pred)\n",
    "f1 = f1_score(y_val, labels_pred, average='macro')\n",
    "\n",
    "print(cm, acc, f1)"
   ]
  }
 ],
 "metadata": {
  "kernelspec": {
   "display_name": "Python 3",
   "language": "python",
   "name": "python3"
  },
  "language_info": {
   "codemirror_mode": {
    "name": "ipython",
    "version": 3
   },
   "file_extension": ".py",
   "mimetype": "text/x-python",
   "name": "python",
   "nbconvert_exporter": "python",
   "pygments_lexer": "ipython3",
   "version": "3.7.1"
  }
 },
 "nbformat": 4,
 "nbformat_minor": 2
}
