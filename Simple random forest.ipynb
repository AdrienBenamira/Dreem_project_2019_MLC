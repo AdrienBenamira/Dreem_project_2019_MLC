{
 "cells": [
  {
   "cell_type": "code",
   "execution_count": 1,
   "metadata": {},
   "outputs": [],
   "source": [
    "import numpy as np\n",
    "from sklearn.ensemble import RandomForestClassifier\n",
    "from sklearn.metrics import confusion_matrix, accuracy_score\n",
    "from tools.data import DreemDatasets"
   ]
  },
  {
   "cell_type": "code",
   "execution_count": 2,
   "metadata": {},
   "outputs": [
    {
     "name": "stdout",
     "output_type": "stream",
     "text": [
      "Loading data in memory...\n",
      "5412 in 7 datasets to load\n",
      "Loading dataset eeg_1 ...\n",
      "Loading dataset eeg_2 ...\n",
      "Loading dataset eeg_3 ...\n",
      "Loading dataset eeg_4 ...\n",
      "Loading dataset eeg_5 ...\n",
      "Loading dataset eeg_6 ...\n",
      "Loading dataset eeg_7 ...\n",
      "Done.\n",
      "Loading data in memory...\n",
      "1353 in 7 datasets to load\n",
      "Loading dataset eeg_1 ...\n",
      "Loading dataset eeg_2 ...\n",
      "Loading dataset eeg_3 ...\n",
      "Loading dataset eeg_4 ...\n",
      "Loading dataset eeg_5 ...\n",
      "Loading dataset eeg_6 ...\n",
      "Loading dataset eeg_7 ...\n",
      "Done.\n"
     ]
    }
   ],
   "source": [
    "use_datasets = ['eeg_1', 'eeg_2', 'eeg_3', 'eeg_4', 'eeg_5', 'eeg_6', 'eeg_7']\n",
    "\n",
    "\n",
    "train_set, val_set = DreemDatasets('dataset/train.h5', 'dataset/train_y.csv', \n",
    "                                   split_train_val=0.8, seed=0, keep_datasets=use_datasets).get()\n",
    "\n",
    "train_set.load_data(\"dataset/all_eegs/train\") \n",
    "\n",
    "val_set.load_data(\"dataset/all_eegs/val\")\n",
    "\n",
    "train_set.close()  # Ne ferme que les fichiers h5. Si mis en mémoire, on a toujours accès aux données !\n",
    "val_set.close()"
   ]
  },
  {
   "cell_type": "code",
   "execution_count": 3,
   "metadata": {},
   "outputs": [],
   "source": [
    "clf = RandomForestClassifier(n_estimators=1000, random_state=0)"
   ]
  },
  {
   "cell_type": "code",
   "execution_count": 4,
   "metadata": {},
   "outputs": [],
   "source": [
    "X, _, y = train_set[:]\n",
    "X_val, _, y_val = val_set[:]\n",
    "\n",
    "X = X.detach().numpy()\n",
    "y = y.detach().numpy()\n",
    "X_val = X_val.detach().numpy()\n",
    "y_val = y_val.detach().numpy()\n",
    "\n",
    "X = X.transpose((1, 0, 2))\n",
    "X = X.reshape(-1, 7*1500)\n",
    "\n",
    "X_val = X_val.reshape(-1, 7*1500)"
   ]
  },
  {
   "cell_type": "code",
   "execution_count": 5,
   "metadata": {},
   "outputs": [
    {
     "data": {
      "text/plain": [
       "RandomForestClassifier(bootstrap=True, class_weight=None, criterion='gini',\n",
       "            max_depth=None, max_features='auto', max_leaf_nodes=None,\n",
       "            min_impurity_decrease=0.0, min_impurity_split=None,\n",
       "            min_samples_leaf=1, min_samples_split=2,\n",
       "            min_weight_fraction_leaf=0.0, n_estimators=1000, n_jobs=None,\n",
       "            oob_score=False, random_state=0, verbose=0, warm_start=False)"
      ]
     },
     "execution_count": 5,
     "metadata": {},
     "output_type": "execute_result"
    }
   ],
   "source": [
    "clf.fit(X, y)"
   ]
  },
  {
   "cell_type": "code",
   "execution_count": 6,
   "metadata": {},
   "outputs": [
    {
     "name": "stdout",
     "output_type": "stream",
     "text": [
      "0.19881744271988175\n",
      "[[ 99  58  26  41  28]\n",
      " [101  58  21  56  42]\n",
      " [109  56  24  37  36]\n",
      " [103  59  21  44  38]\n",
      " [105  69  32  46  44]]\n"
     ]
    }
   ],
   "source": [
    "y_pred = clf.predict(X_val)\n",
    "print(accuracy_score(y_val, y_pred))\n",
    "print(confusion_matrix(y_val, y_pred))"
   ]
  }
 ],
 "metadata": {
  "kernelspec": {
   "display_name": "Python 3",
   "language": "python",
   "name": "python3"
  },
  "language_info": {
   "codemirror_mode": {
    "name": "ipython",
    "version": 3
   },
   "file_extension": ".py",
   "mimetype": "text/x-python",
   "name": "python",
   "nbconvert_exporter": "python",
   "pygments_lexer": "ipython3",
   "version": "3.7.1"
  }
 },
 "nbformat": 4,
 "nbformat_minor": 2
}
