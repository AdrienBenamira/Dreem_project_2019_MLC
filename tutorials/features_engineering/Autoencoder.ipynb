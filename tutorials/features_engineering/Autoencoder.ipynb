{
 "cells": [
  {
   "cell_type": "code",
   "execution_count": 1,
   "metadata": {},
   "outputs": [],
   "source": [
    "import numpy as np\n",
    "from tools.data import DreemDatasets\n",
    "from models.autoencoder import AE\n",
    "from sklearn.ensemble import RandomForestClassifier\n",
    "from sklearn.metrics import accuracy_score, f1_score, confusion_matrix\n",
    "import torch\n",
    "import torch.utils.data\n",
    "import torch.optim"
   ]
  },
  {
   "cell_type": "code",
   "execution_count": 2,
   "metadata": {},
   "outputs": [],
   "source": [
    "use_cuda = torch.cuda.is_available()\n",
    "# use_cuda = False"
   ]
  },
  {
   "cell_type": "code",
   "execution_count": 3,
   "metadata": {},
   "outputs": [],
   "source": [
    "use_datasets = ['eeg_1', 'eeg_2', 'eeg_3', 'eeg_4', 'eeg_5', 'eeg_6', 'eeg_7']\n",
    "seed = 1\n",
    "\n",
    "batch_size = 64\n",
    "lr = 0.1\n",
    "momentum = 0.5"
   ]
  },
  {
   "cell_type": "code",
   "execution_count": 4,
   "metadata": {},
   "outputs": [],
   "source": [
    "train_set, val_set = DreemDatasets('dataset/train.h5', 'dataset/train_y.csv', \n",
    "                                   split_train_val=0.8, seed=seed, keep_datasets=use_datasets,\n",
    "                                   verbose=False).get()\n",
    "\n",
    "train_set.load_data(\"dataset/all_eegs/train\") \n",
    "\n",
    "val_set.load_data(\"dataset/all_eegs/val\")\n",
    "\n",
    "train_set.close()  # Ne ferme que les fichiers h5. Si mis en mémoire, on a toujours accès aux données !\n",
    "val_set.close()"
   ]
  },
  {
   "cell_type": "code",
   "execution_count": 5,
   "metadata": {},
   "outputs": [],
   "source": [
    "ae = AE(1500*7, 100*7)\n",
    "\n",
    "ae = ae.cuda() if use_cuda else ae\n",
    "\n",
    "train_loader = torch.utils.data.DataLoader(train_set.torch_dataset(), batch_size=batch_size, shuffle=True, num_workers=1)\n",
    "test_loader = torch.utils.data.DataLoader(val_set.torch_dataset(), batch_size=batch_size, num_workers=1)\n",
    "\n",
    "optimizer = torch.optim.SGD(ae.parameters(), lr=lr, momentum=momentum)"
   ]
  },
  {
   "cell_type": "code",
   "execution_count": 6,
   "metadata": {},
   "outputs": [],
   "source": [
    "def correlation_loss(x, y):\n",
    "    vx = x - torch.mean(x)\n",
    "    vy = y - torch.mean(y)\n",
    "\n",
    "    cost = torch.sum(vx * vy) / (torch.sqrt(torch.sum(vx ** 2)) * torch.sqrt(torch.sum(vy ** 2)))\n",
    "    return -cost"
   ]
  },
  {
   "cell_type": "code",
   "execution_count": 7,
   "metadata": {},
   "outputs": [
    {
     "name": "stdout",
     "output_type": "stream",
     "text": [
      "tensor(-0.0039, grad_fn=<NegBackward>)\n",
      "tensor(0.0039, grad_fn=<NegBackward>)\n",
      "tensor(0.0054, grad_fn=<NegBackward>)\n",
      "tensor(0.0025, grad_fn=<NegBackward>)\n",
      "tensor(-0.0038, grad_fn=<NegBackward>)\n",
      "tensor(-0.0121, grad_fn=<NegBackward>)\n",
      "tensor(0.0060, grad_fn=<NegBackward>)\n",
      "tensor(-0.0025, grad_fn=<NegBackward>)\n",
      "tensor(0.0011, grad_fn=<NegBackward>)\n"
     ]
    }
   ],
   "source": [
    "ae.train()\n",
    "for epoch in range(5):\n",
    "    print(\"Epoch\", epoch+1)\n",
    "    for batch_id, (data_50hz, _, _) in enumerate(train_loader):\n",
    "        if use_cuda:\n",
    "            data_50hz = data_50hz.cuda()\n",
    "        \n",
    "        data_50hz = data_50hz.to(dtype=torch.float)\n",
    "        optimizer.zero_grad()\n",
    "        data_50hz = data_50hz.view(-1, 7*1500)\n",
    "        out, inter = ae(data_50hz) \n",
    "        out = out.to(dtype=torch.float)\n",
    "        # criterion = correlation_loss\n",
    "        criterion = torch.nn.MSELoss(reduction='elementwise_mean')\n",
    "        loss = criterion(data_50hz, out)\n",
    "        loss.backward()\n",
    "        optimizer.step()\n",
    "        if batch_id % 10 == 0:\n",
    "            print(loss)"
   ]
  },
  {
   "cell_type": "code",
   "execution_count": 9,
   "metadata": {},
   "outputs": [],
   "source": [
    "ae.eval()\n",
    "\n",
    "X, _, y = train_set[:]\n",
    "X_val, _, y_val = val_set[:]\n",
    "\n",
    "X = X.numpy().transpose((1, 0, 2))\n",
    "X = X.reshape(-1, 7*1500)\n",
    "\n",
    "X_val = X_val.numpy().transpose((1, 0, 2))\n",
    "X_val = X_val.reshape(-1, 7*1500)\n",
    "\n",
    "X = torch.tensor(X)\n",
    "X_val = torch.tensor(X_val)\n",
    "\n",
    "_, z = ae(X)\n",
    "_, z_val = ae(X_val)"
   ]
  },
  {
   "cell_type": "code",
   "execution_count": 10,
   "metadata": {},
   "outputs": [],
   "source": [
    "clf = RandomForestClassifier(n_estimators=100, random_state=0)"
   ]
  },
  {
   "cell_type": "code",
   "execution_count": 12,
   "metadata": {},
   "outputs": [
    {
     "data": {
      "text/plain": [
       "RandomForestClassifier(bootstrap=True, class_weight=None, criterion='gini',\n",
       "            max_depth=None, max_features='auto', max_leaf_nodes=None,\n",
       "            min_impurity_decrease=0.0, min_impurity_split=None,\n",
       "            min_samples_leaf=1, min_samples_split=2,\n",
       "            min_weight_fraction_leaf=0.0, n_estimators=100, n_jobs=None,\n",
       "            oob_score=False, random_state=0, verbose=0, warm_start=False)"
      ]
     },
     "execution_count": 12,
     "metadata": {},
     "output_type": "execute_result"
    }
   ],
   "source": [
    "clf.fit(z.detach().numpy(), y)"
   ]
  },
  {
   "cell_type": "code",
   "execution_count": 14,
   "metadata": {},
   "outputs": [
    {
     "name": "stdout",
     "output_type": "stream",
     "text": [
      "[[ 93  57  43  64  20]\n",
      " [ 76  42  44  85  38]\n",
      " [ 27  22  66 101  42]\n",
      " [ 22  22  53 161   9]\n",
      " [ 31  21  66  73  75]] 0.3229859571322986 0.31036923217686685\n"
     ]
    }
   ],
   "source": [
    "labels_pred = clf.predict(z_val.detach().numpy())\n",
    "cm = confusion_matrix(y_val, labels_pred)\n",
    "acc = accuracy_score(y_val, labels_pred)\n",
    "f1 = f1_score(y_val, labels_pred, average='macro')\n",
    "\n",
    "print(cm, acc, f1)"
   ]
  },
  {
   "cell_type": "code",
   "execution_count": null,
   "metadata": {},
   "outputs": [],
   "source": [
    ""
   ]
  }
 ],
 "metadata": {
  "kernelspec": {
   "display_name": "Python 3",
   "language": "python",
   "name": "python3"
  },
  "language_info": {
   "codemirror_mode": {
    "name": "ipython",
    "version": 3.0
   },
   "file_extension": ".py",
   "mimetype": "text/x-python",
   "name": "python",
   "nbconvert_exporter": "python",
   "pygments_lexer": "ipython3",
   "version": "3.6.6"
  }
 },
 "nbformat": 4,
 "nbformat_minor": 0
}