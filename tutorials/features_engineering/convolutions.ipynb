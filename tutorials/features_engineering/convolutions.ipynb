{
 "cells": [
  {
   "cell_type": "code",
   "execution_count": 1,
   "metadata": {},
   "outputs": [],
   "source": [
    "from tools.data import DreemDatasets\n",
    "from preprocessing.features import ExtractFeatures\n",
    "import numpy as np\n",
    "import matplotlib.pyplot as plt\n",
    "from models.cnn import CNN\n",
    "import torch\n",
    "import torch.utils.data\n",
    "import torch.optim as optim\n",
    "from tools.trainer import CNNTrainer as Trainer"
   ]
  },
  {
   "cell_type": "code",
   "execution_count": 2,
   "metadata": {},
   "outputs": [],
   "source": [
    "use_datasets = ['eeg_1', 'eeg_2', 'eeg_3', 'eeg_4', 'eeg_5', 'eeg_6', 'eeg_7']\n",
    "batch_size = 32"
   ]
  },
  {
   "cell_type": "code",
   "execution_count": 3,
   "metadata": {},
   "outputs": [
    {
     "name": "stdout",
     "output_type": "stream",
     "text": [
      "Loading data in memory...\n",
      "5412 in 7 datasets to load\n",
      "Loading dataset eeg_1 ...\n",
      "Loading dataset eeg_2 ...\n",
      "Loading dataset eeg_3 ...\n",
      "Loading dataset eeg_4 ...\n",
      "Loading dataset eeg_5 ...\n",
      "Loading dataset eeg_6 ...\n",
      "Loading dataset eeg_7 ...\n",
      "Done.\n",
      "Loading data in memory...\n",
      "1353 in 7 datasets to load\n",
      "Loading dataset eeg_1 ...\n",
      "Loading dataset eeg_2 ...\n",
      "Loading dataset eeg_3 ...\n",
      "Loading dataset eeg_4 ...\n",
      "Loading dataset eeg_5 ...\n",
      "Loading dataset eeg_6 ...\n",
      "Loading dataset eeg_7 ...\n",
      "Done.\n"
     ]
    }
   ],
   "source": [
    "train_set, val_set = DreemDatasets('dataset/train.h5', 'dataset/train_y.csv', \n",
    "                                   keep_datasets=use_datasets, split_train_val=0.8, seed=0,\n",
    "                                   size=5000).get()\n",
    "\n",
    "train_set.load_data(\"dataset/eegs_bands/train\")  # Charge en mémoire. Peut-être un peu long\n",
    "val_set.load_data(\"dataset/eegs_bands/val\")  # Charge en mémoire. Peut-être un peu long\n",
    "\n",
    "train_set.close()  # On ferme les fichiers h5\n",
    "val_set.close()"
   ]
  },
  {
   "cell_type": "code",
   "execution_count": 4,
   "metadata": {},
   "outputs": [
    {
     "name": "stdout",
     "output_type": "stream",
     "text": [
      "(5412, 1)\n"
     ]
    }
   ],
   "source": [
    "X, _, y = train_set[:]\n",
    "X_val, _, y_val = train_set[:]\n",
    "\n",
    "X = X.transpose(1, 0, 2, 3)\n",
    "X_val = X_val.transpose(1, 0, 2, 3)\n",
    "\n",
    "X = X.reshape(-1, 7*4, 1500)\n",
    "X_val = X_val.reshape(-1, 7*4, 1500)\n",
    "\n",
    "y = y.reshape(-1, 1)\n",
    "y_val = y_val.reshape(-1, 1)\n",
    "\n",
    "print(y.shape)"
   ]
  },
  {
   "cell_type": "code",
   "execution_count": 5,
   "metadata": {},
   "outputs": [],
   "source": [
    "train_loader = torch.utils.data.DataLoader(train_set.torch_dataset(), \n",
    "                                           batch_size=batch_size, \n",
    "                                           shuffle=True)\n",
    "val_loader = torch.utils.data.DataLoader(val_set.torch_dataset(), batch_size=batch_size)"
   ]
  },
  {
   "cell_type": "code",
   "execution_count": 6,
   "metadata": {},
   "outputs": [],
   "source": [
    "number_groups = 3\n",
    "channels = [128, 64, 32]\n",
    "kernel_sizes = [100, 50, 50]\n",
    "kernel_pooling = [5, 2, 2]\n",
    "use_cuda = True\n",
    "\n",
    "def transform(data, _):\n",
    "    data = data.view(-1, 7*4, 1500)\n",
    "    return data, None\n"
   ]
  },
  {
   "cell_type": "code",
   "execution_count": 7,
   "metadata": {},
   "outputs": [],
   "source": [
    "model = CNN(in_features=1500, out_features=5, in_channels=7*4,\n",
    "            number_groups=number_groups, size_groups=1, hidden_channels=channels, kernel_sizes=kernel_sizes,\n",
    "            kernel_pooling=kernel_pooling)\n",
    "if use_cuda:\n",
    "    model.cuda()"
   ]
  },
  {
   "cell_type": "code",
   "execution_count": 8,
   "metadata": {},
   "outputs": [
    {
     "name": "stderr",
     "output_type": "stream",
     "text": [
      "  0%|          | 0/169.125 [00:00<?, ?it/s]/usr/lib/python3.7/site-packages/torch/nn/modules/container.py:91: UserWarning: Implicit dimension choice for softmax has been deprecated. Change the call to include dim=X as an argument.\n",
      "  input = module(input)\n",
      "Train - Epoch 1: : 170it [00:21,  7.76it/s, Loss: 1.6202894449234009]                           \n",
      "Val - Epoch 1: : 43it [00:03, 14.10it/s, Loss: 1.6980857849121094]                            \n"
     ]
    },
    {
     "name": "stdout",
     "output_type": "stream",
     "text": [
      "\n",
      "Validation set: Average loss: 1.6669, Accuracy: 343/1353 (25%)\n",
      "\n"
     ]
    },
    {
     "name": "stderr",
     "output_type": "stream",
     "text": [
      "Train - Epoch 2:   1%|          | 1/169.125 [00:00<00:27,  6.08it/s, Loss: 1.6395312547683716]"
     ]
    },
    {
     "name": "stdout",
     "output_type": "stream",
     "text": [
      "\n",
      "Saved models in builds/2018-12-03 13:52:17.\n"
     ]
    },
    {
     "name": "stderr",
     "output_type": "stream",
     "text": [
      "Train - Epoch 2: : 170it [00:19,  8.60it/s, Loss: 1.6123155355453491]                           \n",
      "Val - Epoch 2: : 43it [00:02, 14.98it/s, Loss: 1.663747787475586]                             \n",
      "Train - Epoch 3:   0%|          | 0/169.125 [00:00<?, ?it/s]"
     ]
    },
    {
     "name": "stdout",
     "output_type": "stream",
     "text": [
      "\n",
      "Validation set: Average loss: 1.6746, Accuracy: 320/1353 (23%)\n",
      "\n",
      "\n",
      "Saved models in builds/2018-12-03 13:52:17.\n"
     ]
    },
    {
     "name": "stderr",
     "output_type": "stream",
     "text": [
      "Train - Epoch 3: : 170it [00:19, 13.58it/s, Loss: 1.5938670635223389]                           \n",
      "Val - Epoch 3: : 43it [00:04,  9.82it/s, Loss: 1.6804420948028564]                            \n",
      "Train - Epoch 4:   0%|          | 0/169.125 [00:00<?, ?it/s]"
     ]
    },
    {
     "name": "stdout",
     "output_type": "stream",
     "text": [
      "\n",
      "Validation set: Average loss: 1.6566, Accuracy: 358/1353 (26%)\n",
      "\n",
      "\n",
      "Saved models in builds/2018-12-03 13:52:17.\n"
     ]
    },
    {
     "name": "stderr",
     "output_type": "stream",
     "text": [
      "Train - Epoch 4: : 170it [00:23,  3.92it/s, Loss: 1.536651611328125]                            \n",
      "Val - Epoch 4: : 43it [00:02, 14.62it/s, Loss: 1.686047911643982]                            \n",
      "Train - Epoch 5:   0%|          | 0/169.125 [00:00<?, ?it/s, Loss: 1.5940333604812622]"
     ]
    },
    {
     "name": "stdout",
     "output_type": "stream",
     "text": [
      "\n",
      "Validation set: Average loss: 1.6471, Accuracy: 366/1353 (27%)\n",
      "\n",
      "\n",
      "Saved models in builds/2018-12-03 13:52:17.\n"
     ]
    },
    {
     "name": "stderr",
     "output_type": "stream",
     "text": [
      "Train - Epoch 5: : 170it [00:19,  8.62it/s, Loss: 1.4561983346939087]                           \n",
      "Val - Epoch 5: : 43it [00:05,  8.32it/s, Loss: 1.7354542016983032]                            \n",
      "Train - Epoch 6:   0%|          | 0/169.125 [00:00<?, ?it/s]"
     ]
    },
    {
     "name": "stdout",
     "output_type": "stream",
     "text": [
      "\n",
      "Validation set: Average loss: 1.6450, Accuracy: 374/1353 (27%)\n",
      "\n",
      "\n",
      "Saved models in builds/2018-12-03 13:52:17.\n"
     ]
    },
    {
     "name": "stderr",
     "output_type": "stream",
     "text": [
      "Train - Epoch 6: : 170it [00:22,  6.02it/s, Loss: 1.2503067255020142]                           \n",
      "Val - Epoch 6: : 43it [00:02, 15.08it/s, Loss: 1.6666842699050903]                            \n",
      "  0%|          | 0/169.125 [00:00<?, ?it/s]"
     ]
    },
    {
     "name": "stdout",
     "output_type": "stream",
     "text": [
      "\n",
      "Validation set: Average loss: 1.6401, Accuracy: 381/1353 (28%)\n",
      "\n",
      "\n",
      "Saved models in builds/2018-12-03 13:52:17.\n"
     ]
    },
    {
     "name": "stderr",
     "output_type": "stream",
     "text": [
      "Train - Epoch 7: : 170it [00:19,  8.59it/s, Loss: 1.450714111328125]                            \n",
      "Val - Epoch 7: : 43it [00:04,  8.99it/s, Loss: 1.7180752754211426]                            \n",
      "Train - Epoch 8:   0%|          | 0/169.125 [00:00<?, ?it/s]"
     ]
    },
    {
     "name": "stdout",
     "output_type": "stream",
     "text": [
      "\n",
      "Validation set: Average loss: 1.6343, Accuracy: 387/1353 (28%)\n",
      "\n",
      "\n",
      "Saved models in builds/2018-12-03 13:52:17.\n"
     ]
    },
    {
     "name": "stderr",
     "output_type": "stream",
     "text": [
      "Train - Epoch 8: : 170it [00:23,  7.26it/s, Loss: 1.5210355520248413]                           \n",
      "Val - Epoch 8: : 43it [00:02, 14.72it/s, Loss: 1.6998323202133179]                            \n",
      "Train - Epoch 9:   0%|          | 0/169.125 [00:00<?, ?it/s, Loss: 1.4456874132156372]"
     ]
    },
    {
     "name": "stdout",
     "output_type": "stream",
     "text": [
      "\n",
      "Validation set: Average loss: 1.6305, Accuracy: 390/1353 (28%)\n",
      "\n",
      "\n",
      "Saved models in builds/2018-12-03 13:52:17.\n"
     ]
    },
    {
     "name": "stderr",
     "output_type": "stream",
     "text": [
      "Train - Epoch 9: : 170it [00:19,  8.62it/s, Loss: 1.3735445737838745]                           \n",
      "Val - Epoch 9: : 43it [00:04,  9.50it/s, Loss: 1.706855297088623]                             \n",
      "Train - Epoch 10:   0%|          | 0/169.125 [00:00<?, ?it/s]"
     ]
    },
    {
     "name": "stdout",
     "output_type": "stream",
     "text": [
      "\n",
      "Validation set: Average loss: 1.6293, Accuracy: 398/1353 (29%)\n",
      "\n",
      "\n",
      "Saved models in builds/2018-12-03 13:52:17.\n"
     ]
    },
    {
     "name": "stderr",
     "output_type": "stream",
     "text": [
      "Train - Epoch 10: : 170it [00:23,  4.10it/s, Loss: 1.583541989326477]                            \n",
      "Val - Epoch 10: : 43it [00:03, 12.49it/s, Loss: 1.674306035041809]                             \n",
      "  0%|          | 0/169.125 [00:00<?, ?it/s]"
     ]
    },
    {
     "name": "stdout",
     "output_type": "stream",
     "text": [
      "\n",
      "Validation set: Average loss: 1.6363, Accuracy: 384/1353 (28%)\n",
      "\n",
      "\n",
      "Saved models in builds/2018-12-03 13:52:17.\n"
     ]
    },
    {
     "name": "stderr",
     "output_type": "stream",
     "text": [
      "Train - Epoch 11: : 170it [00:19,  8.60it/s, Loss: 1.5213453769683838]                           \n",
      "Val - Epoch 11: : 43it [00:04,  8.81it/s, Loss: 1.6414953470230103]                            \n",
      "Train - Epoch 12:   0%|          | 0/169.125 [00:00<?, ?it/s]"
     ]
    },
    {
     "name": "stdout",
     "output_type": "stream",
     "text": [
      "\n",
      "Validation set: Average loss: 1.6349, Accuracy: 388/1353 (28%)\n",
      "\n",
      "\n",
      "Saved models in builds/2018-12-03 13:52:17.\n"
     ]
    },
    {
     "name": "stderr",
     "output_type": "stream",
     "text": [
      "Train - Epoch 12: : 170it [00:23,  5.01it/s, Loss: 1.4963903427124023]                           \n",
      "Val - Epoch 12: : 43it [00:02, 14.74it/s, Loss: 1.6485189199447632]                            \n",
      "Train - Epoch 13:   1%|          | 1/169.125 [00:00<00:19,  8.42it/s, Loss: 1.3399925231933594]"
     ]
    },
    {
     "name": "stdout",
     "output_type": "stream",
     "text": [
      "\n",
      "Validation set: Average loss: 1.6289, Accuracy: 389/1353 (28%)\n",
      "\n",
      "\n",
      "Saved models in builds/2018-12-03 13:52:17.\n"
     ]
    },
    {
     "name": "stderr",
     "output_type": "stream",
     "text": [
      "Train - Epoch 13: : 170it [00:21,  8.02it/s, Loss: 1.441310167312622]                            \n",
      "Val - Epoch 13: : 43it [00:04, 10.22it/s, Loss: 1.6380342245101929]                            \n",
      "Train - Epoch 14:   0%|          | 0/169.125 [00:00<?, ?it/s]"
     ]
    },
    {
     "name": "stdout",
     "output_type": "stream",
     "text": [
      "\n",
      "Validation set: Average loss: 1.6268, Accuracy: 397/1353 (29%)\n",
      "\n",
      "\n",
      "Saved models in builds/2018-12-03 13:52:17.\n"
     ]
    },
    {
     "name": "stderr",
     "output_type": "stream",
     "text": [
      "Train - Epoch 14: : 170it [00:23,  4.96it/s, Loss: 1.380204200744629]                            \n",
      "Val - Epoch 14: : 43it [00:03, 11.50it/s, Loss: 1.7616692781448364]                            \n",
      "Train - Epoch 15:   1%|          | 1/169.125 [00:00<00:19,  8.74it/s, Loss: 1.4672635793685913]"
     ]
    },
    {
     "name": "stdout",
     "output_type": "stream",
     "text": [
      "\n",
      "Validation set: Average loss: 1.6336, Accuracy: 397/1353 (29%)\n",
      "\n",
      "\n",
      "Saved models in builds/2018-12-03 13:52:17.\n"
     ]
    },
    {
     "name": "stderr",
     "output_type": "stream",
     "text": [
      "Train - Epoch 15: : 170it [00:19, 13.54it/s, Loss: 1.4747726917266846]                           \n",
      "Val - Epoch 15: : 43it [00:04,  9.80it/s, Loss: 1.7310110330581665]                            \n",
      "Train - Epoch 16:   0%|          | 0/169.125 [00:00<?, ?it/s]"
     ]
    },
    {
     "name": "stdout",
     "output_type": "stream",
     "text": [
      "\n",
      "Validation set: Average loss: 1.6308, Accuracy: 397/1353 (29%)\n",
      "\n",
      "\n",
      "Saved models in builds/2018-12-03 13:52:17.\n"
     ]
    },
    {
     "name": "stderr",
     "output_type": "stream",
     "text": [
      "Train - Epoch 16: : 170it [00:23,  7.19it/s, Loss: 1.4200325012207031]                           \n",
      "Val - Epoch 16: : 43it [00:04, 10.63it/s, Loss: 1.6704049110412598]                            \n",
      "Train - Epoch 17:   0%|          | 0/169.125 [00:00<?, ?it/s, Loss: 1.3007540702819824]"
     ]
    },
    {
     "name": "stdout",
     "output_type": "stream",
     "text": [
      "\n",
      "Validation set: Average loss: 1.6257, Accuracy: 401/1353 (29%)\n",
      "\n",
      "\n",
      "Saved models in builds/2018-12-03 13:52:17.\n"
     ]
    },
    {
     "name": "stderr",
     "output_type": "stream",
     "text": [
      "Train - Epoch 17: : 170it [00:20,  8.31it/s, Loss: 1.3247218132019043]                           \n",
      "Val - Epoch 17: : 43it [00:04,  9.14it/s, Loss: 1.6989020109176636]                            \n",
      "Train - Epoch 18:   0%|          | 0/169.125 [00:00<?, ?it/s]"
     ]
    },
    {
     "name": "stdout",
     "output_type": "stream",
     "text": [
      "\n",
      "Validation set: Average loss: 1.6337, Accuracy: 389/1353 (28%)\n",
      "\n",
      "\n",
      "Saved models in builds/2018-12-03 13:52:17.\n"
     ]
    },
    {
     "name": "stderr",
     "output_type": "stream",
     "text": [
      "Train - Epoch 18:  28%|██▊       | 48/169.125 [00:07<00:23,  5.14it/s, Loss: 1.620147466659546] \n"
     ]
    },
    {
     "ename": "KeyboardInterrupt",
     "evalue": "",
     "output_type": "error",
     "traceback": [
      "\u001b[0;31m---------------------------------------------------------------------------\u001b[0m",
      "\u001b[0;31mKeyboardInterrupt\u001b[0m                         Traceback (most recent call last)",
      "\u001b[0;32m<ipython-input-8-6cda02fd7ae3>\u001b[0m in \u001b[0;36m<module>\u001b[0;34m\u001b[0m\n\u001b[1;32m      4\u001b[0m                   log_every=10, save_folder='builds', transform=transform)\n\u001b[1;32m      5\u001b[0m \u001b[0;34m\u001b[0m\u001b[0m\n\u001b[0;32m----> 6\u001b[0;31m \u001b[0mtrainer\u001b[0m\u001b[0;34m.\u001b[0m\u001b[0mtrain\u001b[0m\u001b[0;34m(\u001b[0m\u001b[0mn_epochs\u001b[0m\u001b[0;34m=\u001b[0m\u001b[0;36m50\u001b[0m\u001b[0;34m)\u001b[0m\u001b[0;34m\u001b[0m\u001b[0;34m\u001b[0m\u001b[0m\n\u001b[0m",
      "\u001b[0;32m/run/media/bdvllrs/Data/Documents/Supelec/OMA/MLC/Projet/tools/trainer.py\u001b[0m in \u001b[0;36mtrain\u001b[0;34m(self, n_epochs)\u001b[0m\n\u001b[1;32m    113\u001b[0m             \u001b[0mos\u001b[0m\u001b[0;34m.\u001b[0m\u001b[0mmkdir\u001b[0m\u001b[0;34m(\u001b[0m\u001b[0mpath\u001b[0m\u001b[0;34m)\u001b[0m\u001b[0;34m\u001b[0m\u001b[0;34m\u001b[0m\u001b[0m\n\u001b[1;32m    114\u001b[0m         \u001b[0;32mfor\u001b[0m \u001b[0mepoch\u001b[0m \u001b[0;32min\u001b[0m \u001b[0mrange\u001b[0m\u001b[0;34m(\u001b[0m\u001b[0;36m1\u001b[0m\u001b[0;34m,\u001b[0m \u001b[0mn_epochs\u001b[0m \u001b[0;34m+\u001b[0m \u001b[0;36m1\u001b[0m\u001b[0;34m)\u001b[0m\u001b[0;34m:\u001b[0m\u001b[0;34m\u001b[0m\u001b[0;34m\u001b[0m\u001b[0m\n\u001b[0;32m--> 115\u001b[0;31m             \u001b[0mself\u001b[0m\u001b[0;34m.\u001b[0m\u001b[0mstep_train\u001b[0m\u001b[0;34m(\u001b[0m\u001b[0mepoch\u001b[0m\u001b[0;34m)\u001b[0m\u001b[0;34m\u001b[0m\u001b[0;34m\u001b[0m\u001b[0m\n\u001b[0m\u001b[1;32m    116\u001b[0m             \u001b[0mself\u001b[0m\u001b[0;34m.\u001b[0m\u001b[0mstep_val\u001b[0m\u001b[0;34m(\u001b[0m\u001b[0mepoch\u001b[0m\u001b[0;34m)\u001b[0m\u001b[0;34m\u001b[0m\u001b[0;34m\u001b[0m\u001b[0m\n\u001b[1;32m    117\u001b[0m             \u001b[0;32mif\u001b[0m \u001b[0mself\u001b[0m\u001b[0;34m.\u001b[0m\u001b[0msave_folder\u001b[0m \u001b[0;32mis\u001b[0m \u001b[0;32mnot\u001b[0m \u001b[0;32mNone\u001b[0m\u001b[0;34m:\u001b[0m\u001b[0;34m\u001b[0m\u001b[0;34m\u001b[0m\u001b[0m\n",
      "\u001b[0;32m/run/media/bdvllrs/Data/Documents/Supelec/OMA/MLC/Projet/tools/trainer.py\u001b[0m in \u001b[0;36mstep_train\u001b[0;34m(self, epoch)\u001b[0m\n\u001b[1;32m     48\u001b[0m             \u001b[0mself\u001b[0m\u001b[0;34m.\u001b[0m\u001b[0mclassifier\u001b[0m\u001b[0;34m.\u001b[0m\u001b[0mtrain\u001b[0m\u001b[0;34m(\u001b[0m\u001b[0;34m)\u001b[0m\u001b[0;34m\u001b[0m\u001b[0;34m\u001b[0m\u001b[0m\n\u001b[1;32m     49\u001b[0m         \u001b[0;32mwith\u001b[0m \u001b[0mtqdm\u001b[0m\u001b[0;34m(\u001b[0m\u001b[0mtotal\u001b[0m\u001b[0;34m=\u001b[0m\u001b[0mlen\u001b[0m\u001b[0;34m(\u001b[0m\u001b[0mself\u001b[0m\u001b[0;34m.\u001b[0m\u001b[0mtrain_loader\u001b[0m\u001b[0;34m.\u001b[0m\u001b[0mdataset\u001b[0m\u001b[0;34m)\u001b[0m \u001b[0;34m/\u001b[0m \u001b[0mself\u001b[0m\u001b[0;34m.\u001b[0m\u001b[0mtrain_loader\u001b[0m\u001b[0;34m.\u001b[0m\u001b[0mbatch_size\u001b[0m\u001b[0;34m)\u001b[0m \u001b[0;32mas\u001b[0m \u001b[0mt\u001b[0m\u001b[0;34m:\u001b[0m\u001b[0;34m\u001b[0m\u001b[0;34m\u001b[0m\u001b[0m\n\u001b[0;32m---> 50\u001b[0;31m             \u001b[0;32mfor\u001b[0m \u001b[0mbatch_id\u001b[0m\u001b[0;34m,\u001b[0m \u001b[0mdata\u001b[0m \u001b[0;32min\u001b[0m \u001b[0menumerate\u001b[0m\u001b[0;34m(\u001b[0m\u001b[0mself\u001b[0m\u001b[0;34m.\u001b[0m\u001b[0mtrain_loader\u001b[0m\u001b[0;34m)\u001b[0m\u001b[0;34m:\u001b[0m\u001b[0;34m\u001b[0m\u001b[0;34m\u001b[0m\u001b[0m\n\u001b[0m\u001b[1;32m     51\u001b[0m                 \u001b[0;32mif\u001b[0m \u001b[0mlen\u001b[0m\u001b[0;34m(\u001b[0m\u001b[0mdata\u001b[0m\u001b[0;34m)\u001b[0m \u001b[0;34m==\u001b[0m \u001b[0;36m3\u001b[0m\u001b[0;34m:\u001b[0m\u001b[0;34m\u001b[0m\u001b[0;34m\u001b[0m\u001b[0m\n\u001b[1;32m     52\u001b[0m                     \u001b[0mdata_50hz\u001b[0m\u001b[0;34m,\u001b[0m \u001b[0mdata_10hz\u001b[0m\u001b[0;34m,\u001b[0m \u001b[0mtarget\u001b[0m \u001b[0;34m=\u001b[0m \u001b[0mdata\u001b[0m\u001b[0;34m\u001b[0m\u001b[0;34m\u001b[0m\u001b[0m\n",
      "\u001b[0;32m/usr/lib/python3.7/site-packages/torch/utils/data/dataloader.py\u001b[0m in \u001b[0;36m__next__\u001b[0;34m(self)\u001b[0m\n\u001b[1;32m    312\u001b[0m         \u001b[0;32mif\u001b[0m \u001b[0mself\u001b[0m\u001b[0;34m.\u001b[0m\u001b[0mnum_workers\u001b[0m \u001b[0;34m==\u001b[0m \u001b[0;36m0\u001b[0m\u001b[0;34m:\u001b[0m  \u001b[0;31m# same-process loading\u001b[0m\u001b[0;34m\u001b[0m\u001b[0;34m\u001b[0m\u001b[0m\n\u001b[1;32m    313\u001b[0m             \u001b[0mindices\u001b[0m \u001b[0;34m=\u001b[0m \u001b[0mnext\u001b[0m\u001b[0;34m(\u001b[0m\u001b[0mself\u001b[0m\u001b[0;34m.\u001b[0m\u001b[0msample_iter\u001b[0m\u001b[0;34m)\u001b[0m  \u001b[0;31m# may raise StopIteration\u001b[0m\u001b[0;34m\u001b[0m\u001b[0;34m\u001b[0m\u001b[0m\n\u001b[0;32m--> 314\u001b[0;31m             \u001b[0mbatch\u001b[0m \u001b[0;34m=\u001b[0m \u001b[0mself\u001b[0m\u001b[0;34m.\u001b[0m\u001b[0mcollate_fn\u001b[0m\u001b[0;34m(\u001b[0m\u001b[0;34m[\u001b[0m\u001b[0mself\u001b[0m\u001b[0;34m.\u001b[0m\u001b[0mdataset\u001b[0m\u001b[0;34m[\u001b[0m\u001b[0mi\u001b[0m\u001b[0;34m]\u001b[0m \u001b[0;32mfor\u001b[0m \u001b[0mi\u001b[0m \u001b[0;32min\u001b[0m \u001b[0mindices\u001b[0m\u001b[0;34m]\u001b[0m\u001b[0;34m)\u001b[0m\u001b[0;34m\u001b[0m\u001b[0;34m\u001b[0m\u001b[0m\n\u001b[0m\u001b[1;32m    315\u001b[0m             \u001b[0;32mif\u001b[0m \u001b[0mself\u001b[0m\u001b[0;34m.\u001b[0m\u001b[0mpin_memory\u001b[0m\u001b[0;34m:\u001b[0m\u001b[0;34m\u001b[0m\u001b[0;34m\u001b[0m\u001b[0m\n\u001b[1;32m    316\u001b[0m                 \u001b[0mbatch\u001b[0m \u001b[0;34m=\u001b[0m \u001b[0mpin_memory_batch\u001b[0m\u001b[0;34m(\u001b[0m\u001b[0mbatch\u001b[0m\u001b[0;34m)\u001b[0m\u001b[0;34m\u001b[0m\u001b[0;34m\u001b[0m\u001b[0m\n",
      "\u001b[0;32m/usr/lib/python3.7/site-packages/torch/utils/data/dataloader.py\u001b[0m in \u001b[0;36m<listcomp>\u001b[0;34m(.0)\u001b[0m\n\u001b[1;32m    312\u001b[0m         \u001b[0;32mif\u001b[0m \u001b[0mself\u001b[0m\u001b[0;34m.\u001b[0m\u001b[0mnum_workers\u001b[0m \u001b[0;34m==\u001b[0m \u001b[0;36m0\u001b[0m\u001b[0;34m:\u001b[0m  \u001b[0;31m# same-process loading\u001b[0m\u001b[0;34m\u001b[0m\u001b[0;34m\u001b[0m\u001b[0m\n\u001b[1;32m    313\u001b[0m             \u001b[0mindices\u001b[0m \u001b[0;34m=\u001b[0m \u001b[0mnext\u001b[0m\u001b[0;34m(\u001b[0m\u001b[0mself\u001b[0m\u001b[0;34m.\u001b[0m\u001b[0msample_iter\u001b[0m\u001b[0;34m)\u001b[0m  \u001b[0;31m# may raise StopIteration\u001b[0m\u001b[0;34m\u001b[0m\u001b[0;34m\u001b[0m\u001b[0m\n\u001b[0;32m--> 314\u001b[0;31m             \u001b[0mbatch\u001b[0m \u001b[0;34m=\u001b[0m \u001b[0mself\u001b[0m\u001b[0;34m.\u001b[0m\u001b[0mcollate_fn\u001b[0m\u001b[0;34m(\u001b[0m\u001b[0;34m[\u001b[0m\u001b[0mself\u001b[0m\u001b[0;34m.\u001b[0m\u001b[0mdataset\u001b[0m\u001b[0;34m[\u001b[0m\u001b[0mi\u001b[0m\u001b[0;34m]\u001b[0m \u001b[0;32mfor\u001b[0m \u001b[0mi\u001b[0m \u001b[0;32min\u001b[0m \u001b[0mindices\u001b[0m\u001b[0;34m]\u001b[0m\u001b[0;34m)\u001b[0m\u001b[0;34m\u001b[0m\u001b[0;34m\u001b[0m\u001b[0m\n\u001b[0m\u001b[1;32m    315\u001b[0m             \u001b[0;32mif\u001b[0m \u001b[0mself\u001b[0m\u001b[0;34m.\u001b[0m\u001b[0mpin_memory\u001b[0m\u001b[0;34m:\u001b[0m\u001b[0;34m\u001b[0m\u001b[0;34m\u001b[0m\u001b[0m\n\u001b[1;32m    316\u001b[0m                 \u001b[0mbatch\u001b[0m \u001b[0;34m=\u001b[0m \u001b[0mpin_memory_batch\u001b[0m\u001b[0;34m(\u001b[0m\u001b[0mbatch\u001b[0m\u001b[0;34m)\u001b[0m\u001b[0;34m\u001b[0m\u001b[0;34m\u001b[0m\u001b[0m\n",
      "\u001b[0;32m/run/media/bdvllrs/Data/Documents/Supelec/OMA/MLC/Projet/tools/data.py\u001b[0m in \u001b[0;36m__getitem__\u001b[0;34m(self, item)\u001b[0m\n\u001b[1;32m    285\u001b[0m             \u001b[0mdata_10hz\u001b[0m \u001b[0;34m=\u001b[0m \u001b[0mnp\u001b[0m\u001b[0;34m.\u001b[0m\u001b[0marray\u001b[0m\u001b[0;34m(\u001b[0m\u001b[0;34m[\u001b[0m\u001b[0;34m[\u001b[0m\u001b[0;36m0\u001b[0m\u001b[0;34m]\u001b[0m\u001b[0;34m]\u001b[0m\u001b[0;34m)\u001b[0m\u001b[0;34m\u001b[0m\u001b[0;34m\u001b[0m\u001b[0m\n\u001b[1;32m    286\u001b[0m         \u001b[0;32mif\u001b[0m \u001b[0mself\u001b[0m\u001b[0;34m.\u001b[0m\u001b[0mas_torch_dataset\u001b[0m\u001b[0;34m:\u001b[0m\u001b[0;34m\u001b[0m\u001b[0;34m\u001b[0m\u001b[0m\n\u001b[0;32m--> 287\u001b[0;31m             \u001b[0mdata_50hz\u001b[0m \u001b[0;34m=\u001b[0m \u001b[0mtorch\u001b[0m\u001b[0;34m.\u001b[0m\u001b[0mtensor\u001b[0m\u001b[0;34m(\u001b[0m\u001b[0mdata_50hz\u001b[0m\u001b[0;34m)\u001b[0m\u001b[0;34m\u001b[0m\u001b[0;34m\u001b[0m\u001b[0m\n\u001b[0m\u001b[1;32m    288\u001b[0m             \u001b[0mdata_10hz\u001b[0m \u001b[0;34m=\u001b[0m \u001b[0mtorch\u001b[0m\u001b[0;34m.\u001b[0m\u001b[0mtensor\u001b[0m\u001b[0;34m(\u001b[0m\u001b[0mdata_10hz\u001b[0m\u001b[0;34m)\u001b[0m\u001b[0;34m\u001b[0m\u001b[0;34m\u001b[0m\u001b[0m\n\u001b[1;32m    289\u001b[0m             \u001b[0mtargets\u001b[0m \u001b[0;34m=\u001b[0m \u001b[0mtorch\u001b[0m\u001b[0;34m.\u001b[0m\u001b[0mtensor\u001b[0m\u001b[0;34m(\u001b[0m\u001b[0mtargets\u001b[0m\u001b[0;34m,\u001b[0m \u001b[0mdtype\u001b[0m\u001b[0;34m=\u001b[0m\u001b[0mtorch\u001b[0m\u001b[0;34m.\u001b[0m\u001b[0mint64\u001b[0m\u001b[0;34m)\u001b[0m\u001b[0;34m\u001b[0m\u001b[0;34m\u001b[0m\u001b[0m\n",
      "\u001b[0;31mKeyboardInterrupt\u001b[0m: "
     ]
    }
   ],
   "source": [
    "optimizer = optim.Adam(model.parameters(), lr=0.001)\n",
    "\n",
    "trainer = Trainer(train_loader, val_loader, optimizer, model_50hz=model,\n",
    "                  log_every=10, save_folder='builds', transform=transform)\n",
    "\n",
    "trainer.train(n_epochs=50)"
   ]
  },
  {
   "cell_type": "code",
   "execution_count": null,
   "metadata": {},
   "outputs": [],
   "source": []
  },
  {
   "cell_type": "code",
   "execution_count": null,
   "metadata": {},
   "outputs": [],
   "source": []
  },
  {
   "cell_type": "code",
   "execution_count": null,
   "metadata": {},
   "outputs": [],
   "source": []
  }
 ],
 "metadata": {
  "kernelspec": {
   "display_name": "Python 3",
   "language": "python",
   "name": "python3"
  },
  "language_info": {
   "codemirror_mode": {
    "name": "ipython",
    "version": 3
   },
   "file_extension": ".py",
   "mimetype": "text/x-python",
   "name": "python",
   "nbconvert_exporter": "python",
   "pygments_lexer": "ipython3",
   "version": "3.7.1"
  }
 },
 "nbformat": 4,
 "nbformat_minor": 2
}
