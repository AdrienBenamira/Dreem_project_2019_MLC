{
 "cells": [
  {
   "cell_type": "markdown",
   "metadata": {},
   "source": [
    "# Run all train, all test and upload"
   ]
  },
  {
   "cell_type": "code",
   "execution_count": 1,
   "metadata": {},
   "outputs": [
    {
     "name": "stderr",
     "output_type": "stream",
     "text": [
      "/usr/local/lib/python3.6/dist-packages/h5py/__init__.py:36: FutureWarning: Conversion of the second argument of issubdtype from `float` to `np.floating` is deprecated. In future, it will be treated as `np.float64 == np.dtype(float).type`.\n",
      "  from ._conv import register_converters as _register_converters\n"
     ]
    }
   ],
   "source": [
    "import time\n",
    "import numpy as np\n",
    "from tools.csp import generate_projection, generate_eye, extract_feature\n",
    "from tools.filters import load_filterbank\n",
    "from sklearn.model_selection import KFold\n",
    "from sklearn.svm import LinearSVC, SVC\n",
    "from sklearn.metrics import accuracy_score, f1_score, confusion_matrix\n",
    "from sklearn.ensemble import RandomForestClassifier\n",
    "from tools.data import DreemDatasets\n",
    "from preprocessing import Compose, ExtractBands, ExtractSpectrum\n",
    "from models.riemannian_multiscale import riemannian_multiscale\n",
    "import pandas as pd"
   ]
  },
  {
   "cell_type": "code",
   "execution_count": 2,
   "metadata": {},
   "outputs": [],
   "source": [
    "fs = 50.  # sampling frequency\n",
    "NO_channels = 7  # number of EEG channels\n",
    "NO_riem = int(NO_channels * NO_channels + 1) / 2  # Total number of CSP feature per band and timewindow\n",
    "bw = np.array([2, 4, 8, 13, 22])\n",
    "ftype = 'butter'  # 'fir', 'butter'\n",
    "forder = 2  # 4\n",
    "filter_bank = load_filterbank(bw, fs, order=forder, max_freq=23, ftype=ftype)  # get filterbank coeffs\n",
    "time_windows_flt = np.array([[0, 30],\n",
    "                             [15, 30],\n",
    "                             [10, 25],\n",
    "                             [5, 20],\n",
    "                             [0, 15],\n",
    "                             [15, 25],\n",
    "                             [10, 20],\n",
    "                             [5, 15],\n",
    "                             [0, 10]\n",
    "]) * fs\n",
    "\n",
    "#time_windows = time_windows[0:1]  # use only largest timewindow\n",
    "\n",
    "\n",
    "riem_opt = \"No_Adaptation\"  # {\"Riemann\",\"Riemann_Euclid\",\"Whitened_Euclid\",\"No_Adaptation\"}\n",
    "rho = 0.1\n",
    "\n",
    "time_windows = time_windows_flt.astype(int)\n",
    "NO_bands = filter_bank.shape[0]\n",
    "NO_csp = 24  # Total number of CSP feature per band and timewindow\n",
    "useCSP = False"
   ]
  },
  {
   "cell_type": "code",
   "execution_count": 3,
   "metadata": {},
   "outputs": [],
   "source": [
    "def get_data(path, train=True):\n",
    "    if train:\n",
    "        for i in range(7):\n",
    "            if i==0:\n",
    "                feature_0 = np.load(\"dataset/\"+path+\"/train_split/eeg_\" + str(i + 1) + \".npy\")\n",
    "                X = np.zeros((7, feature_0.shape[0], feature_0.shape[1]))\n",
    "                X[0] = feature_0\n",
    "                del feature_0\n",
    "            else:\n",
    "                X[i] = np.load(\"dataset/\"+path+\"/train_split/eeg_\" + str(i + 1) + \".npy\")\n",
    "        Y = np.load(\"dataset/\"+path+\"/train_split/targets.npy\")\n",
    "        X = X.transpose((1, 0, 2))\n",
    "        return(X, Y)\n",
    "    else:\n",
    "        for i in range(7):\n",
    "            if i==0:\n",
    "                feature_0 = np.load(\"dataset/\"+path+\"/test/eeg_\" + str(i + 1) + \".npy\")\n",
    "                X = np.zeros((7, feature_0.shape[0], feature_0.shape[1]))\n",
    "                X[0] = feature_0\n",
    "                del feature_0\n",
    "            else:\n",
    "                X[i] = np.load(\"dataset/\"+path+\"/test/eeg_\" + str(i + 1) + \".npy\")\n",
    "        X = X.transpose((1, 0, 2))\n",
    "        return(X)\n",
    "    \n",
    "def get_data_extra_data_eeg(path, train=True):\n",
    "    if train:\n",
    "        for i in range(7):\n",
    "            if i==0:\n",
    "                feature_0 = np.load(\"dataset/\"+path+\"/extra_eeg/train_split/eeg_\" + str(i + 1) + \".npy\").transpose((1, 0, 2))\n",
    "                X = np.zeros((7, feature_0.shape[0], feature_0.shape[1]*feature_0.shape[2]))\n",
    "                X[i] = feature_0.reshape(feature_0.shape[0], feature_0.shape[1]*feature_0.shape[2])\n",
    "                del feature_0\n",
    "            else:\n",
    "                feature_0 = np.load(\"dataset/\"+path+\"/extra_eeg/train_split/eeg_\" + str(i + 1) + \".npy\").transpose((1, 0, 2))\n",
    "                X[i] = feature_0.reshape(feature_0.shape[0], feature_0.shape[1]*feature_0.shape[2])\n",
    "                del feature_0\n",
    "        Y = np.load(\"dataset/\"+path+\"/train_split/targets.npy\")\n",
    "        X = X.transpose((1, 0, 2))\n",
    "        return(X, Y)\n",
    "    else:\n",
    "        for i in range(7):\n",
    "            if i==0:\n",
    "                feature_0 = np.load(\"dataset/\"+path+\"/extra_eeg/test/eeg_\" + str(i + 1) + \".npy\").transpose((1, 0, 2))\n",
    "                X = np.zeros((7, feature_0.shape[0], feature_0.shape[1]*feature_0.shape[2]))\n",
    "                X[i] = feature_0.reshape(feature_0.shape[0], feature_0.shape[1]*feature_0.shape[2])\n",
    "                del feature_0\n",
    "            else:\n",
    "                feature_0 = np.load(\"dataset/\"+path+\"/extra_eeg/test/eeg_\" + str(i + 1) + \".npy\").transpose((1, 0, 2))\n",
    "                X[i] = feature_0.reshape(feature_0.shape[0], feature_0.shape[1]*feature_0.shape[2])\n",
    "                del feature_0\n",
    "        X = X.transpose((1, 0, 2))\n",
    "        return(X)\n",
    "\n",
    "def get_extra_data(path, train=True):\n",
    "    if train:\n",
    "        use_datasets = [\"accelerometer_x\",\"accelerometer_y\",\"accelerometer_z\",\"pulse_oximeter_infrared\"]\n",
    "        for i in range(4):\n",
    "            if i==0:\n",
    "                feature_0 = np.load(\"dataset/\"+path+\"/train_split/\" + use_datasets[i] + \".npy\").transpose((1, 0, 2))\n",
    "                print(feature_0.shape)\n",
    "                X = np.zeros((4, feature_0.shape[0], feature_0.shape[1]*feature_0.shape[2]))\n",
    "                X[i] = feature_0.reshape(feature_0.shape[0], feature_0.shape[1]*feature_0.shape[2])\n",
    "                del feature_0\n",
    "            else:\n",
    "                feature_0 = np.load(\"dataset/\"+path+\"/train_split/\" + use_datasets[i] + \".npy\").transpose((1, 0, 2))\n",
    "                X[i] = feature_0.reshape(feature_0.shape[0], feature_0.shape[1]*feature_0.shape[2])\n",
    "                del feature_0\n",
    "        Y = np.load(\"dataset/\"+path+\"/train_split/targets.npy\")\n",
    "        X = X.transpose((1, 0, 2))\n",
    "        return(X, Y)\n",
    "    else:\n",
    "        use_datasets = [\"accelerometer_x\",\"accelerometer_y\",\"accelerometer_z\",\"pulse_oximeter_infrared\"]\n",
    "        for i in range(4):\n",
    "            if i==0:\n",
    "                feature_0 = np.load(\"dataset/\"+path+\"/test/\" + use_datasets[i] + \".npy\").transpose((1, 0, 2))\n",
    "                print(feature_0.shape)\n",
    "                X = np.zeros((4, feature_0.shape[0], feature_0.shape[1]*feature_0.shape[2]))\n",
    "                X[i] = feature_0.reshape(feature_0.shape[0], feature_0.shape[1]*feature_0.shape[2])\n",
    "                del feature_0\n",
    "            else:\n",
    "                feature_0 = np.load(\"dataset/\"+path+\"/test/\" + use_datasets[i] + \".npy\").transpose((1, 0, 2))\n",
    "                X[i] = feature_0.reshape(feature_0.shape[0], feature_0.shape[1]*feature_0.shape[2])\n",
    "                del feature_0\n",
    "        X = X.transpose((1, 0, 2))\n",
    "        return(X)\n",
    "    \n",
    "def get_data_val(path):\n",
    "    for i in range(7):\n",
    "        if i==0:\n",
    "            feature_0 = np.load(\"dataset/\"+path+\"/val_split/eeg_\" + str(i + 1) + \".npy\")\n",
    "            X = np.zeros((7, feature_0.shape[0], feature_0.shape[1]))\n",
    "            X[0] = feature_0\n",
    "            del feature_0\n",
    "        else:\n",
    "            X[i] = np.load(\"dataset/\"+path+\"/val_split/eeg_\" + str(i + 1) + \".npy\")\n",
    "    Y = np.load(\"dataset/\"+path+\"/val_split/targets.npy\")\n",
    "    X = X.transpose((1, 0, 2))\n",
    "    return(X, Y)\n",
    "\n",
    "def get_extrat_data_val_eeg(path):\n",
    "    for i in range(7):\n",
    "        if i==0:\n",
    "            feature_0 = np.load(\"dataset/\"+path+\"/extra_eeg/val_split/eeg_\" + str(i + 1) + \".npy\").transpose((1, 0, 2))\n",
    "            X = np.zeros((7, feature_0.shape[0], feature_0.shape[1]*feature_0.shape[2]))\n",
    "            X[i] = feature_0.reshape(feature_0.shape[0], feature_0.shape[1]*feature_0.shape[2])\n",
    "            del feature_0\n",
    "        else:\n",
    "            feature_0 = np.load(\"dataset/\"+path+\"/extra_eeg/val_split/eeg_\" + str(i + 1) + \".npy\").transpose((1, 0, 2))\n",
    "            X[i] = feature_0.reshape(feature_0.shape[0], feature_0.shape[1]*feature_0.shape[2])\n",
    "            del feature_0\n",
    "    Y = np.load(\"dataset/\"+path+\"/extra_eeg/val_split/targets.npy\")\n",
    "    X = X.transpose((1, 0, 2))\n",
    "    return(X, Y)\n",
    "\n",
    "def get_extra_data_val(path):\n",
    "    use_datasets = [\"accelerometer_x\",\"accelerometer_y\",\"accelerometer_z\",\"pulse_oximeter_infrared\"]\n",
    "    for i in range(4):\n",
    "        if i==0:\n",
    "            feature_0 = np.load(\"dataset/\"+path+\"/val_split/\" + use_datasets[i] + \".npy\").transpose((1, 0, 2))\n",
    "            print(feature_0.shape)\n",
    "            X = np.zeros((4, feature_0.shape[0], feature_0.shape[1]*feature_0.shape[2]))\n",
    "            X[i] = feature_0.reshape(feature_0.shape[0], feature_0.shape[1]*feature_0.shape[2])\n",
    "            del feature_0\n",
    "        else:\n",
    "            feature_0 = np.load(\"dataset/\"+path+\"/val_split/\" + use_datasets[i] + \".npy\").transpose((1, 0, 2))\n",
    "            X[i] = feature_0.reshape(feature_0.shape[0], feature_0.shape[1]*feature_0.shape[2])\n",
    "            del feature_0\n",
    "    Y = np.load(\"dataset/\"+path+\"/val_split/targets.npy\")\n",
    "    X = X.transpose((1, 0, 2))\n",
    "    return(X, Y)\n",
    "\n",
    "path = \"balanced\"\n",
    "train_data, train_label = get_data(path, train = True)\n",
    "path = \"all\"\n",
    "test_data, test_label = get_data(path)"
   ]
  },
  {
   "cell_type": "markdown",
   "metadata": {},
   "source": [
    "## Features simples"
   ]
  },
  {
   "cell_type": "code",
   "execution_count": 4,
   "metadata": {},
   "outputs": [
    {
     "name": "stdout",
     "output_type": "stream",
     "text": [
      "(5412, 4, 4)\n",
      "(30631, 4, 4)\n"
     ]
    }
   ],
   "source": [
    "path = \"balanced\"\n",
    "train_extra_data, train_extra_label = get_extra_data(path, train = True)\n",
    "path = \"all\"\n",
    "test_extra_data,_ = get_extra_data(path)\n",
    "train_extra_data = train_extra_data.reshape(-1, 4*16)\n",
    "test_extra_data = test_extra_data.reshape(-1,  4*16)"
   ]
  },
  {
   "cell_type": "code",
   "execution_count": 5,
   "metadata": {},
   "outputs": [
    {
     "name": "stdout",
     "output_type": "stream",
     "text": [
      "trained\n",
      "predicted\n",
      "[[1990  482  123   62  227]\n",
      " [  54  950   39   18   32]\n",
      " [ 681 1321 6650 2290 2753]\n",
      " [ 130  182  420 3499  314]\n",
      " [ 518  841 1593  730 4732]] 0.5817962195161764 0.5638819160728847\n",
      "time :  26.15091872215271\n"
     ]
    }
   ],
   "source": [
    "start = time.time()\n",
    "\n",
    "clf = RandomForestClassifier(n_estimators=700,max_features='auto', random_state=0)\n",
    "clf.fit(train_extra_data, train_label)\n",
    "print(\"trained\")\n",
    "\n",
    "labels_pred = clf.predict(test_extra_data)\n",
    "print(\"predicted\")\n",
    "\n",
    "cm = confusion_matrix(test_label, labels_pred)\n",
    "acc = accuracy_score(test_label, labels_pred)\n",
    "f1 = f1_score(test_label, labels_pred, average='macro')\n",
    "print(cm, acc, f1)\n",
    "\n",
    "\n",
    "print(\"time : \", time.time() - start)"
   ]
  },
  {
   "cell_type": "code",
   "execution_count": 5,
   "metadata": {},
   "outputs": [
    {
     "name": "stdout",
     "output_type": "stream",
     "text": [
      "(30631, 7, 24)\n"
     ]
    }
   ],
   "source": [
    "path = \"balanced\"\n",
    "train_extra_data_eeg, train_extra_label = get_data_extra_data_eeg(path, train = True)\n",
    "path = \"all\"\n",
    "test_extra_data_eeg,_ = get_data_extra_data_eeg(path)\n",
    "print(test_extra_data_eeg.shape)\n",
    "train_extra_data_eeg = train_extra_data_eeg.reshape(-1, 7*24)\n",
    "test_extra_data_eeg = test_extra_data_eeg.reshape(-1,  7*24)"
   ]
  },
  {
   "cell_type": "code",
   "execution_count": 7,
   "metadata": {},
   "outputs": [
    {
     "name": "stdout",
     "output_type": "stream",
     "text": [
      "trained\n",
      "predicted\n",
      "[[2316  338   53   51  126]\n",
      " [  59  958   29   18   29]\n",
      " [ 843 1291 7439 2067 2055]\n",
      " [ 151  167  363 3835   29]\n",
      " [ 638  803 1231  264 5478]] 0.6537821161568346 0.6254347640147918\n",
      "time :  38.527586936950684\n"
     ]
    }
   ],
   "source": [
    "start = time.time()\n",
    "\n",
    "clf = RandomForestClassifier(n_estimators=700,max_features='auto', random_state=0)\n",
    "clf.fit(train_extra_data_eeg, train_label)\n",
    "print(\"trained\")\n",
    "\n",
    "labels_pred = clf.predict(test_extra_data_eeg)\n",
    "print(\"predicted\")\n",
    "\n",
    "cm = confusion_matrix(test_label, labels_pred)\n",
    "acc = accuracy_score(test_label, labels_pred)\n",
    "f1 = f1_score(test_label, labels_pred, average='macro')\n",
    "print(cm, acc, f1)\n",
    "\n",
    "print(\"time : \", time.time() - start)"
   ]
  },
  {
   "cell_type": "code",
   "execution_count": 8,
   "metadata": {},
   "outputs": [
    {
     "name": "stdout",
     "output_type": "stream",
     "text": [
      "(5412, 232)\n"
     ]
    }
   ],
   "source": [
    "all_final_features = np.concatenate((train_extra_data_eeg, train_extra_data), axis= 1)\n",
    "all_final_features_test = np.concatenate((test_extra_data_eeg, test_extra_data), axis= 1)\n",
    "print(all_final_features.shape)"
   ]
  },
  {
   "cell_type": "code",
   "execution_count": 9,
   "metadata": {},
   "outputs": [
    {
     "name": "stdout",
     "output_type": "stream",
     "text": [
      "trained\n",
      "predicted\n",
      "[[2294  367   52   41  130]\n",
      " [  56  963   30   16   28]\n",
      " [ 656 1218 7684 2051 2086]\n",
      " [ 118  162  328 3904   33]\n",
      " [ 518  788 1181  312 5615]] 0.6679507688289641 0.6397347891229647\n",
      "time :  46.03363013267517\n"
     ]
    }
   ],
   "source": [
    "start = time.time()\n",
    "\n",
    "clf = RandomForestClassifier(n_estimators=700,max_features='auto', random_state=0)\n",
    "clf.fit(all_final_features, train_label)\n",
    "print(\"trained\")\n",
    "\n",
    "labels_pred = clf.predict(all_final_features_test)\n",
    "print(\"predicted\")\n",
    "\n",
    "cm = confusion_matrix(test_label, labels_pred)\n",
    "acc = accuracy_score(test_label, labels_pred)\n",
    "f1 = f1_score(test_label, labels_pred, average='macro')\n",
    "print(cm, acc, f1)\n",
    "\n",
    "print(\"time : \", time.time() - start)"
   ]
  },
  {
   "cell_type": "markdown",
   "metadata": {},
   "source": [
    "## Avec CSP"
   ]
  },
  {
   "cell_type": "code",
   "execution_count": 6,
   "metadata": {},
   "outputs": [],
   "source": [
    "def get_features(data, label, time_windows, useCSP = True):\n",
    "    if useCSP:\n",
    "        w = generate_projection(data, label, NO_csp, filter_bank, time_windows, NO_classes=5)\n",
    "    else:\n",
    "        w = generate_eye(data, label, filter_bank, time_windows)\n",
    "    feature_mat = extract_feature(data, w, filter_bank, time_windows)\n",
    "    return(w, feature_mat)"
   ]
  },
  {
   "cell_type": "code",
   "execution_count": 7,
   "metadata": {},
   "outputs": [],
   "source": [
    "w, train_feat_CSP = get_features(train_data, train_label, time_windows, useCSP)\n",
    "test_feature_CSP = extract_feature(test_data, w, filter_bank, time_windows)\n",
    "#val_feature_CSP = extract_feature(val_data, w, filter_bank, time_windows)\n",
    "del w"
   ]
  },
  {
   "cell_type": "code",
   "execution_count": 8,
   "metadata": {},
   "outputs": [],
   "source": [
    "features_CSP_train = train_feat_CSP\n",
    "features_CSP_test = test_feature_CSP"
   ]
  },
  {
   "cell_type": "code",
   "execution_count": 16,
   "metadata": {},
   "outputs": [
    {
     "name": "stdout",
     "output_type": "stream",
     "text": [
      "trained\n",
      "predicted\n",
      "[[2334  326   56   36  132]\n",
      " [  48  974   24    9   38]\n",
      " [ 832 1299 7080 2390 2094]\n",
      " [ 152  141  463 3738   51]\n",
      " [ 523  903 1207  351 5430]] 0.6384381835395514 0.6153261240810197\n",
      "time :  124.42029213905334\n"
     ]
    }
   ],
   "source": [
    "start = time.time()\n",
    "\n",
    "clf = RandomForestClassifier(n_estimators=700,max_features='auto', random_state=0)\n",
    "clf.fit(features_CSP_train, train_label)\n",
    "print(\"trained\")\n",
    "\n",
    "labels_pred = clf.predict(features_CSP_test)\n",
    "print(\"predicted\")\n",
    "\n",
    "cm = confusion_matrix(test_label, labels_pred)\n",
    "acc = accuracy_score(test_label, labels_pred)\n",
    "f1 = f1_score(test_label, labels_pred, average='macro')\n",
    "print(cm, acc, f1)\n",
    "\n",
    "print(\"time : \", time.time() - start)"
   ]
  },
  {
   "cell_type": "code",
   "execution_count": 17,
   "metadata": {},
   "outputs": [
    {
     "name": "stdout",
     "output_type": "stream",
     "text": [
      "(5412, 1198)\n"
     ]
    }
   ],
   "source": [
    "all_final_features = np.concatenate((features_CSP_train, train_extra_data), axis= 1)\n",
    "all_final_features_test = np.concatenate((features_CSP_test, test_extra_data), axis= 1)\n",
    "print(all_final_features.shape)"
   ]
  },
  {
   "cell_type": "code",
   "execution_count": 18,
   "metadata": {},
   "outputs": [
    {
     "name": "stdout",
     "output_type": "stream",
     "text": [
      "trained\n",
      "predicted\n",
      "[[2354  320   60   31  119]\n",
      " [  45  983   27    6   32]\n",
      " [ 796 1216 7214 2357 2112]\n",
      " [ 150  122  453 3764   56]\n",
      " [ 499  838 1238  361 5478]] 0.6461754431784793 0.624394433438417\n",
      "time :  130.97637939453125\n"
     ]
    }
   ],
   "source": [
    "start = time.time()\n",
    "\n",
    "clf = RandomForestClassifier(n_estimators=700,max_features='auto', random_state=0)\n",
    "clf.fit(all_final_features, train_label)\n",
    "print(\"trained\")\n",
    "\n",
    "labels_pred = clf.predict(all_final_features_test)\n",
    "print(\"predicted\")\n",
    "\n",
    "cm = confusion_matrix(test_label, labels_pred)\n",
    "acc = accuracy_score(test_label, labels_pred)\n",
    "f1 = f1_score(test_label, labels_pred, average='macro')\n",
    "print(cm, acc, f1)\n",
    "\n",
    "print(\"time : \", time.time() - start)"
   ]
  },
  {
   "cell_type": "code",
   "execution_count": 19,
   "metadata": {},
   "outputs": [
    {
     "name": "stdout",
     "output_type": "stream",
     "text": [
      "(5412, 1302)\n"
     ]
    }
   ],
   "source": [
    "all_final_features = np.concatenate((features_CSP_train, train_extra_data_eeg), axis= 1)\n",
    "all_final_features_test = np.concatenate((features_CSP_test, test_extra_data_eeg), axis= 1)\n",
    "print(all_final_features.shape)"
   ]
  },
  {
   "cell_type": "code",
   "execution_count": 20,
   "metadata": {},
   "outputs": [
    {
     "name": "stdout",
     "output_type": "stream",
     "text": [
      "trained\n",
      "predicted\n",
      "[[2338  314   64   37  131]\n",
      " [  43  979   25   11   35]\n",
      " [ 818 1238 7491 2052 2096]\n",
      " [ 148  133  434 3787   43]\n",
      " [ 523  867 1272  289 5463]] 0.6548268094414156 0.6298723684993595\n",
      "time :  139.8023717403412\n"
     ]
    }
   ],
   "source": [
    "start = time.time()\n",
    "\n",
    "clf = RandomForestClassifier(n_estimators=700,max_features='auto', random_state=0)\n",
    "clf.fit(all_final_features, train_label)\n",
    "print(\"trained\")\n",
    "\n",
    "labels_pred = clf.predict(all_final_features_test)\n",
    "print(\"predicted\")\n",
    "\n",
    "cm = confusion_matrix(test_label, labels_pred)\n",
    "acc = accuracy_score(test_label, labels_pred)\n",
    "f1 = f1_score(test_label, labels_pred, average='macro')\n",
    "print(cm, acc, f1)\n",
    "\n",
    "print(\"time : \", time.time() - start)"
   ]
  },
  {
   "cell_type": "code",
   "execution_count": 24,
   "metadata": {},
   "outputs": [
    {
     "name": "stdout",
     "output_type": "stream",
     "text": [
      "(5412, 1198)\n",
      "(5412, 1366)\n"
     ]
    }
   ],
   "source": [
    "all_final_features = np.concatenate((features_CSP_train, train_extra_data), axis= 1)\n",
    "all_final_features_test = np.concatenate((features_CSP_test, test_extra_data), axis= 1)\n",
    "print(all_final_features.shape)\n",
    "\n",
    "all_final_features = np.concatenate((all_final_features, train_extra_data_eeg), axis= 1)\n",
    "all_final_features_test = np.concatenate((all_final_features_test, test_extra_data_eeg), axis= 1)\n",
    "print(all_final_features.shape)"
   ]
  },
  {
   "cell_type": "code",
   "execution_count": 22,
   "metadata": {},
   "outputs": [
    {
     "name": "stdout",
     "output_type": "stream",
     "text": [
      "trained\n",
      "predicted\n",
      "[[2380  303   52   28  121]\n",
      " [  43  983   24   10   33]\n",
      " [ 790 1169 7604 2022 2110]\n",
      " [ 138  123  420 3819   45]\n",
      " [ 506  817 1268  298 5525]] 0.6630864157226339 0.639209140962282\n",
      "time :  124.20704317092896\n"
     ]
    }
   ],
   "source": [
    "start = time.time()\n",
    "\n",
    "clf = RandomForestClassifier(n_estimators=700,max_features='auto', random_state=0)\n",
    "clf.fit(all_final_features, train_label)\n",
    "print(\"trained\")\n",
    "\n",
    "labels_pred = clf.predict(all_final_features_test)\n",
    "print(\"predicted\")\n",
    "\n",
    "cm = confusion_matrix(test_label, labels_pred)\n",
    "acc = accuracy_score(test_label, labels_pred)\n",
    "f1 = f1_score(test_label, labels_pred, average='macro')\n",
    "print(cm, acc, f1)\n",
    "\n",
    "print(\"time : \", time.time() - start)"
   ]
  },
  {
   "cell_type": "markdown",
   "metadata": {},
   "source": [
    "## Rieman"
   ]
  },
  {
   "cell_type": "code",
   "execution_count": 9,
   "metadata": {},
   "outputs": [],
   "source": [
    "riemann = riemannian_multiscale(filter_bank, time_windows, riem_opt=riem_opt, rho=rho, vectorized=True)\n",
    "features_CSP_train_R = riemann.fit(train_data)\n",
    "features_CSP_test_R = riemann.features(test_data)"
   ]
  },
  {
   "cell_type": "code",
   "execution_count": 10,
   "metadata": {},
   "outputs": [
    {
     "name": "stdout",
     "output_type": "stream",
     "text": [
      "trained\n",
      "predicted\n",
      "[[2358  327   55   21  123]\n",
      " [  41  977   28    8   39]\n",
      " [ 780 1211 7219 2353 2132]\n",
      " [ 164  122  441 3771   47]\n",
      " [ 506  910 1139  362 5497]] 0.6471221964676308 0.6238878372262942\n",
      "time :  266.51126074790955\n"
     ]
    }
   ],
   "source": [
    "start = time.time()\n",
    "\n",
    "clf = RandomForestClassifier(n_estimators=700,max_features='auto', random_state=0)\n",
    "clf.fit(features_CSP_train_R, train_label)\n",
    "print(\"trained\")\n",
    "\n",
    "labels_pred = clf.predict(features_CSP_test_R)\n",
    "print(\"predicted\")\n",
    "\n",
    "cm = confusion_matrix(test_label, labels_pred)\n",
    "acc = accuracy_score(test_label, labels_pred)\n",
    "f1 = f1_score(test_label, labels_pred, average='macro')\n",
    "print(cm, acc, f1)\n",
    "\n",
    "print(\"time : \", time.time() - start)"
   ]
  },
  {
   "cell_type": "code",
   "execution_count": 11,
   "metadata": {},
   "outputs": [
    {
     "name": "stdout",
     "output_type": "stream",
     "text": [
      "(5412, 4600)\n"
     ]
    }
   ],
   "source": [
    "all_final_features = np.concatenate((features_CSP_train_R, train_extra_data), axis= 1)\n",
    "all_final_features_test = np.concatenate((features_CSP_test_R, test_extra_data), axis= 1)\n",
    "print(all_final_features.shape)"
   ]
  },
  {
   "cell_type": "code",
   "execution_count": 12,
   "metadata": {},
   "outputs": [
    {
     "name": "stdout",
     "output_type": "stream",
     "text": [
      "trained\n",
      "predicted\n",
      "[[2369  322   57   17  119]\n",
      " [  44  981   24    9   35]\n",
      " [ 788 1157 7334 2316 2100]\n",
      " [ 153  126  448 3774   44]\n",
      " [ 510  817 1158  369 5560]] 0.6535209428356893 0.6303864279955638\n",
      "time :  286.47879576683044\n"
     ]
    }
   ],
   "source": [
    "start = time.time()\n",
    "\n",
    "clf = RandomForestClassifier(n_estimators=700,max_features='auto', random_state=0)\n",
    "clf.fit(all_final_features, train_label)\n",
    "print(\"trained\")\n",
    "\n",
    "labels_pred = clf.predict(all_final_features_test)\n",
    "print(\"predicted\")\n",
    "\n",
    "cm = confusion_matrix(test_label, labels_pred)\n",
    "acc = accuracy_score(test_label, labels_pred)\n",
    "f1 = f1_score(test_label, labels_pred, average='macro')\n",
    "print(cm, acc, f1)\n",
    "\n",
    "print(\"time : \", time.time() - start)"
   ]
  },
  {
   "cell_type": "code",
   "execution_count": 13,
   "metadata": {},
   "outputs": [
    {
     "name": "stdout",
     "output_type": "stream",
     "text": [
      "(5412, 4704)\n"
     ]
    }
   ],
   "source": [
    "all_final_features = np.concatenate((features_CSP_train_R, train_extra_data_eeg), axis= 1)\n",
    "all_final_features_test = np.concatenate((features_CSP_test_R, test_extra_data_eeg), axis= 1)\n",
    "print(all_final_features.shape)"
   ]
  },
  {
   "cell_type": "code",
   "execution_count": 14,
   "metadata": {},
   "outputs": [
    {
     "name": "stdout",
     "output_type": "stream",
     "text": [
      "trained\n",
      "predicted\n",
      "[[2357  329   57   22  119]\n",
      " [  42  979   27    7   38]\n",
      " [ 772 1236 7455 2111 2121]\n",
      " [ 156  119  451 3779   40]\n",
      " [ 489  904 1219  296 5506]] 0.6554144494139924 0.6310620901244586\n",
      "time :  269.5309417247772\n"
     ]
    }
   ],
   "source": [
    "start = time.time()\n",
    "\n",
    "clf = RandomForestClassifier(n_estimators=700,max_features='auto', random_state=0)\n",
    "clf.fit(all_final_features, train_label)\n",
    "print(\"trained\")\n",
    "\n",
    "labels_pred = clf.predict(all_final_features_test)\n",
    "print(\"predicted\")\n",
    "\n",
    "cm = confusion_matrix(test_label, labels_pred)\n",
    "acc = accuracy_score(test_label, labels_pred)\n",
    "f1 = f1_score(test_label, labels_pred, average='macro')\n",
    "print(cm, acc, f1)\n",
    "\n",
    "print(\"time : \", time.time() - start)"
   ]
  },
  {
   "cell_type": "code",
   "execution_count": 23,
   "metadata": {},
   "outputs": [
    {
     "name": "stdout",
     "output_type": "stream",
     "text": [
      "(5412, 4600)\n",
      "(5412, 4768)\n"
     ]
    }
   ],
   "source": [
    "all_final_features = np.concatenate((features_CSP_train_R, train_extra_data), axis= 1)\n",
    "all_final_features_test = np.concatenate((features_CSP_test_R, test_extra_data), axis= 1)\n",
    "print(all_final_features.shape)\n",
    "\n",
    "all_final_features = np.concatenate((all_final_features, train_extra_data_eeg), axis= 1)\n",
    "all_final_features_test = np.concatenate((all_final_features_test, test_extra_data_eeg), axis= 1)\n",
    "print(all_final_features.shape)"
   ]
  },
  {
   "cell_type": "code",
   "execution_count": 16,
   "metadata": {},
   "outputs": [
    {
     "name": "stdout",
     "output_type": "stream",
     "text": [
      "trained\n",
      "predicted\n",
      "[[2365  324   59   18  118]\n",
      " [  47  983   23   10   30]\n",
      " [ 765 1139 7616 2062 2113]\n",
      " [ 143  121  441 3796   44]\n",
      " [ 494  822 1233  281 5584]] 0.6641637556723581 0.6397853700614984\n",
      "time :  260.5643541812897\n"
     ]
    }
   ],
   "source": [
    "start = time.time()\n",
    "\n",
    "clf = RandomForestClassifier(n_estimators=700,max_features='auto', random_state=0)\n",
    "clf.fit(all_final_features, train_label)\n",
    "print(\"trained\")\n",
    "\n",
    "labels_pred = clf.predict(all_final_features_test)\n",
    "print(\"predicted\")\n",
    "\n",
    "cm = confusion_matrix(test_label, labels_pred)\n",
    "acc = accuracy_score(test_label, labels_pred)\n",
    "f1 = f1_score(test_label, labels_pred, average='macro')\n",
    "print(cm, acc, f1)\n",
    "\n",
    "print(\"time : \", time.time() - start)"
   ]
  },
  {
   "cell_type": "markdown",
   "metadata": {},
   "source": [
    "## Tout"
   ]
  },
  {
   "cell_type": "code",
   "execution_count": 21,
   "metadata": {},
   "outputs": [
    {
     "name": "stdout",
     "output_type": "stream",
     "text": [
      "(5412, 4600)\n",
      "(5412, 4768)\n",
      "(5412, 5902)\n"
     ]
    }
   ],
   "source": [
    "all_final_features = np.concatenate((features_CSP_train_R, train_extra_data), axis= 1)\n",
    "all_final_features_test = np.concatenate((features_CSP_test_R, test_extra_data), axis= 1)\n",
    "print(all_final_features.shape)\n",
    "\n",
    "all_final_features = np.concatenate((all_final_features, train_extra_data_eeg), axis= 1)\n",
    "all_final_features_test = np.concatenate((all_final_features_test, test_extra_data_eeg), axis= 1)\n",
    "print(all_final_features.shape)\n",
    "\n",
    "all_final_features = np.concatenate((all_final_features, features_CSP_train), axis= 1)\n",
    "all_final_features_test = np.concatenate((all_final_features_test, features_CSP_test), axis= 1)\n",
    "print(all_final_features.shape)"
   ]
  },
  {
   "cell_type": "code",
   "execution_count": 22,
   "metadata": {},
   "outputs": [
    {
     "name": "stdout",
     "output_type": "stream",
     "text": [
      "trained\n",
      "predicted\n",
      "[[2372  321   60   16  115]\n",
      " [  45  982   23    8   35]\n",
      " [ 777 1169 7533 2103 2113]\n",
      " [ 139  122  429 3810   45]\n",
      " [ 489  859 1196  302 5568]] 0.6615846691260487 0.6373075172953593\n",
      "time :  287.50331234931946\n"
     ]
    }
   ],
   "source": [
    "start = time.time()\n",
    "\n",
    "clf = RandomForestClassifier(n_estimators=700,max_features='auto', random_state=0)\n",
    "clf.fit(all_final_features, train_label)\n",
    "print(\"trained\")\n",
    "\n",
    "labels_pred = clf.predict(all_final_features_test)\n",
    "print(\"predicted\")\n",
    "\n",
    "cm = confusion_matrix(test_label, labels_pred)\n",
    "acc = accuracy_score(test_label, labels_pred)\n",
    "f1 = f1_score(test_label, labels_pred, average='macro')\n",
    "print(cm, acc, f1)\n",
    "\n",
    "print(\"time : \", time.time() - start)"
   ]
  },
  {
   "cell_type": "code",
   "execution_count": null,
   "metadata": {},
   "outputs": [],
   "source": [
    ""
   ]
  },
  {
   "cell_type": "code",
   "execution_count": null,
   "metadata": {},
   "outputs": [],
   "source": [
    ""
   ]
  }
 ],
 "metadata": {
  "kernelspec": {
   "display_name": "Python 3",
   "language": "python",
   "name": "python3"
  },
  "language_info": {
   "codemirror_mode": {
    "name": "ipython",
    "version": 3.0
   },
   "file_extension": ".py",
   "mimetype": "text/x-python",
   "name": "python",
   "nbconvert_exporter": "python",
   "pygments_lexer": "ipython3",
   "version": "3.6.6"
  }
 },
 "nbformat": 4,
 "nbformat_minor": 0
}