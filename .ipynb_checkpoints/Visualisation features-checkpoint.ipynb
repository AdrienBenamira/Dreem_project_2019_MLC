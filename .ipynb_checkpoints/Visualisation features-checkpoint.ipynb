{
 "cells": [
  {
   "cell_type": "markdown",
   "metadata": {},
   "source": [
    "# Visualisation des features"
   ]
  },
  {
   "cell_type": "code",
   "execution_count": 1,
   "metadata": {},
   "outputs": [],
   "source": [
    "from tools.data import DreemDatasets\n",
    "from preprocessing.features import ExtractFeatures\n",
    "import numpy as np\n",
    "import matplotlib.pyplot as plt"
   ]
  },
  {
   "cell_type": "code",
   "execution_count": 2,
   "metadata": {},
   "outputs": [],
   "source": [
    "use_datasets = ['eeg_1', 'eeg_2', 'eeg_3', 'eeg_4', 'eeg_5', 'eeg_6']\n",
    "features = ['min', 'max', 'energy', 'mmd', 'esis']"
   ]
  },
  {
   "cell_type": "markdown",
   "metadata": {},
   "source": [
    "## Créer features\n",
    "\n",
    "Sauter à la prochaine section si déjà créées."
   ]
  },
  {
   "cell_type": "markdown",
   "metadata": {},
   "source": [
    "On définit les transformations pour les différents eeg. On choisit d'extraire toutes les bandes de fréquence (d'où la wildcard `'*'`)."
   ]
  },
  {
   "cell_type": "code",
   "execution_count": 3,
   "metadata": {},
   "outputs": [],
   "source": [
    "dataset_transforms = {\n",
    "    \"eeg_1\": ExtractFeatures(features, bands='*'),\n",
    "    \"eeg_2\": ExtractFeatures(features, bands='*'),\n",
    "    \"eeg_3\": ExtractFeatures(features, bands='*'),\n",
    "    \"eeg_4\": ExtractFeatures(features, bands='*'),\n",
    "    \"eeg_5\": ExtractFeatures(features, bands='*'),\n",
    "    \"eeg_6\": ExtractFeatures(features, bands='*')\n",
    "}"
   ]
  },
  {
   "cell_type": "markdown",
   "metadata": {},
   "source": [
    "Récupère tout les datasets et load en mémoire."
   ]
  },
  {
   "cell_type": "code",
   "execution_count": 4,
   "metadata": {},
   "outputs": [],
   "source": [
    "train_set, val_set = DreemDatasets('dataset/train.h5', 'dataset/train_y.csv', \n",
    "                                   keep_datasets=use_datasets, split_train_val=0.8, seed=0,\n",
    "                                   size=5000, transforms=dataset_transforms).get()\n",
    "\n",
    "train_set.load_data()  # Charge en mémoire. Peut-être un peu long\n",
    "\n",
    "train_set.close()  # On ferme les fichiers h5\n",
    "val_set.close()"
   ]
  },
  {
   "cell_type": "code",
   "execution_count": null,
   "metadata": {},
   "outputs": [],
   "source": [
    "data, _, targets = train_set[:]\n",
    "\n",
    "print(data.shape)"
   ]
  },
  {
   "cell_type": "code",
   "execution_count": null,
   "metadata": {},
   "outputs": [],
   "source": [
    "np.save(\"dataset/train_features.npy\", data)\n",
    "np.save(\"dataset/train_targets.npy\", targets)"
   ]
  },
  {
   "cell_type": "markdown",
   "metadata": {},
   "source": [
    "## Visualiser les features"
   ]
  },
  {
   "cell_type": "code",
   "execution_count": null,
   "metadata": {},
   "outputs": [],
   "source": [
    "data = np.load(\"dataset/train_features.npy\")\n",
    "targets = np.load(\"dataset/train_targets.npy\")\n",
    "\n",
    "print(data.shape)  # Shape: nombre eeg x nombre bande x nombre de data x nombre features"
   ]
  },
  {
   "cell_type": "markdown",
   "metadata": {},
   "source": [
    "Calcul les moyennes et écarts type pour chaque features"
   ]
  },
  {
   "cell_type": "code",
   "execution_count": null,
   "metadata": {},
   "outputs": [],
   "source": [
    "target_labels = ['awake', 'rem', 'stage 1', 'stage 2', 'stage 3']\n",
    "\n",
    "keys = {name: targets == k for k, name in enumerate(target_labels)}\n",
    "print(keys['awake'])"
   ]
  },
  {
   "cell_type": "code",
   "execution_count": 22,
   "metadata": {},
   "outputs": [],
   "source": [
    "bands = ['delta', 'theta', 'alpha', 'beta']"
   ]
  },
  {
   "cell_type": "code",
   "execution_count": 34,
   "metadata": {
    "scrolled": true
   },
   "outputs": [
    {
     "name": "stdout",
     "output_type": "stream",
     "text": [
      "[[[1.19072438e+05 8.16123434e+04 1.07029636e+11 3.35617858e+05\n",
      "   2.14059272e+13]\n",
      "  [2.70094032e+04 2.75772940e+04 3.57331260e+09 9.25375460e+04\n",
      "   2.14398756e+12]\n",
      "  [1.90883043e+04 1.89025629e+04 1.31018612e+09 5.64526571e+04\n",
      "   1.37569543e+12]\n",
      "  [1.55302868e+04 1.55713006e+04 7.45940796e+08 3.81368091e+04\n",
      "   1.30539639e+12]]\n",
      "\n",
      " [[1.11025512e+05 1.15925230e+05 1.17180771e+11 4.27039226e+05\n",
      "   2.34361541e+13]\n",
      "  [3.25103980e+04 3.31922939e+04 4.55627140e+09 1.23107877e+05\n",
      "   2.73376284e+12]\n",
      "  [1.75332783e+04 1.81682223e+04 1.06444233e+09 5.93709883e+04\n",
      "   1.11766444e+12]\n",
      "  [1.14084796e+04 1.22317296e+04 3.42616426e+08 3.54396086e+04\n",
      "   5.99578745e+11]]\n",
      "\n",
      " [[1.29492234e+05 8.81654587e+04 1.49713761e+11 3.91920735e+05\n",
      "   2.99427523e+13]\n",
      "  [2.83125491e+04 2.77434315e+04 3.16302784e+09 1.05055487e+05\n",
      "   1.89781671e+12]\n",
      "  [1.85650416e+04 1.84330637e+04 1.12258641e+09 6.09491909e+04\n",
      "   1.17871573e+12]\n",
      "  [1.56154033e+04 1.36981350e+04 5.28070630e+08 4.30803505e+04\n",
      "   9.24123603e+11]]\n",
      "\n",
      " [[1.23218077e+05 1.30432708e+05 1.60616298e+11 4.71835397e+05\n",
      "   3.21232597e+13]\n",
      "  [4.04771340e+04 3.87262895e+04 5.35079831e+09 1.64478348e+05\n",
      "   3.21047898e+12]\n",
      "  [2.92203959e+04 2.83765376e+04 3.04091257e+09 1.09192801e+05\n",
      "   3.19295820e+12]\n",
      "  [2.36434211e+04 2.41918118e+04 1.66010994e+09 8.53930466e+04\n",
      "   2.90519239e+12]]\n",
      "\n",
      " [[1.17535814e+05 1.05344003e+05 1.39269348e+11 3.73557739e+05\n",
      "   2.78538696e+13]\n",
      "  [3.34256098e+04 3.38087528e+04 5.50644657e+09 1.05936864e+05\n",
      "   3.30386794e+12]\n",
      "  [2.07959714e+04 1.99710925e+04 1.57206599e+09 5.98011627e+04\n",
      "   1.65066929e+12]\n",
      "  [1.78419956e+04 1.86055594e+04 9.60866383e+08 4.57069007e+04\n",
      "   1.68151617e+12]]\n",
      "\n",
      " [[1.18688328e+05 1.56675853e+05 1.88996051e+11 5.20414993e+05\n",
      "   3.77992102e+13]\n",
      "  [4.37819841e+04 4.30969071e+04 5.74898504e+09 1.72881948e+05\n",
      "   3.44939103e+12]\n",
      "  [2.82194226e+04 2.86775314e+04 2.94116695e+09 1.04444132e+05\n",
      "   3.08822530e+12]\n",
      "  [2.33218817e+04 2.25969604e+04 1.37790204e+09 7.79498429e+04\n",
      "   2.41132858e+12]]]\n"
     ]
    },
    {
     "data": {
      "image/png": "[encoded data removed]",
      "text/plain": [
       "<Figure size 432x288 with 1 Axes>"
      ]
     },
     "metadata": {
      "needs_background": "light"
     },
     "output_type": "display_data"
    }
   ],
   "source": []
  }
 ],
 "metadata": {
  "kernelspec": {
   "display_name": "Python 3",
   "language": "python",
   "name": "python3"
  },
  "language_info": {
   "codemirror_mode": {
    "name": "ipython",
    "version": 3
   },
   "file_extension": ".py",
   "mimetype": "text/x-python",
   "name": "python",
   "nbconvert_exporter": "python",
   "pygments_lexer": "ipython3",
   "version": "3.7.1"
  }
 },
 "nbformat": 4,
 "nbformat_minor": 2
}
