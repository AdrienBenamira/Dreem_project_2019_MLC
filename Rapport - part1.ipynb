{
 "cells": [
  {
   "cell_type": "markdown",
   "metadata": {
    "collapsed": true
   },
   "source": [
    "# Machine Learning and Classification : Rapport de projet\n",
    "*Par BENAMIRA Adrien, CARRIÉ Hanaé et DEVILLERS Benjamin*\n",
    "\n",
    " <img src=\"figures/dreemcentralesupeleclogo.png\" alt=\"Schéma simplifié de l'algorithme du  Random Forest\" title=\"Schéma simplifié de l'algorithme du  Random Forest\" style=\"width: 300px\" />\n",
    "\n",
    "## PLAN :\n",
    "\n",
    "(donné par le prof.)   \n",
    "a. L'étape de prétraitement des données  \n",
    "b. L'extraction de features (s'il en est)  \n",
    "c. Une description théorique (et aussi pédagogique que possible) du modèle utilisé  \n",
    "d. Le protocole de validation croisée utilisée  \n",
    "e. Présentation des résultats, figures, etc...."
   ]
  },
  {
   "cell_type": "markdown",
   "metadata": {},
   "source": [
    "## 1. Introduction"
   ]
  },
  {
   "cell_type": "markdown",
   "metadata": {},
   "source": [
    "Ce projet a pour but de proposer d'utiliser les données du bandeau de Dreem pour évaluer le stade de sommeil sur des périodes de 30 secondes de signaux biophysiologiques.\n",
    "\n",
    "\n",
    "Le sommeil joue un rôle vital dans la santé et le bien-être d'une personne. Le sommeil progresse selon des cycles qui impliquent plusieurs stades de sommeil : réveil, sommeil léger, sommeil profond, sommeil paradoxal et à chaque stades du sommeil sont associés différentes fonctions physiologiques. Déterminer ce stade est indispensable pour diagnostiquer les troubles du sommeil. Aujourd'hui, les études polysomnographiques sont menées dans un hôpital ou dans un laboratoire du sommeil etde multiples signaux physiologiques sont enregistrés comme l'électroencéphalogramme, l'électrocardiogramme, etc. L'évaluation de l'étape du sommeil est ensuite effectué visuellement par un expert sur les époques de 30 secondes d'enregistrement des signaux. Le graphique qui en résulte est appelé hypnogramme. \n",
    "\n",
    "\n",
    "Le bandeau Dreem permet de faire de la polysomnographie à domicile grâce à trois types de capteurs : électroencéphalogramme (EEG), pouls et signaux accélérométriques. Les données mesurées par Dreem ont été labélisés par un expert en sommeil qualifié.\n",
    "\n",
    "Le but de cet compétition Kaggle est de développer un algorithme pour classifier les phases de sommeil Wake, N1, N2, N3 et REM sur des fenêtres de 30 secondes de données brutes. Elles comprennent 7 canaux eegs en position frontale et occipitale, 1 canal infrarouge d'oxymètre de pouls et 3 canaux accéléromètres (x, y et z).\n"
   ]
  },
  {
   "cell_type": "markdown",
   "metadata": {},
   "source": [
    "## 2. Chargement des données et pré-traitements"
   ]
  },
  {
   "cell_type": "markdown",
   "metadata": {},
   "source": [
    "### 2.1. Chargement des données\n",
    "\n",
    "Les données sont sauvegardée au format HDF5. Ce format est particulièrement intéressant car il permet de stocker des lourdes données compréssées en un dataset. La bibliothèque Python `h5py` permet de pouvoir les lire ces données facilement de la même manière que nous utiliserions un tableau `Numpy`.\n",
    "\n",
    "La class python `DreemDataset` dans le package `tools.data` permet de récupérer et manipuler les datasets.\n",
    "Comme nous voulons effectuer des prétraitements sur nos données et les stocker pour pouvoir rapidement appliquer les algorithmes d'apprentissage sur nos données traitées, nous avons conçu cette classe de sorte que nous puissions appliquer puis sauvegarder.\n",
    "\n",
    "Nous avons choisis de les sauvegarder ensuite dans des tableaux `npy` pour des questions de performances d'execution.\n",
    "\n",
    "La classe python `DreemDatasets` permet quant à elle de générer un \"dev set\" et \"train set\" à partir des données. Celle-ci retourne un couple d'instance de `DreemDataset`. Puis que les différentes classes ne sont pas équilibrées, nous pouvons également ne récupérer qu'un sous-ensemble du dataset équilibré."
   ]
  },
  {
   "cell_type": "code",
   "execution_count": 34,
   "metadata": {},
   "outputs": [],
   "source": [
    "from tools.data import DreemDatasets"
   ]
  },
  {
   "cell_type": "markdown",
   "metadata": {},
   "source": [
    "Les paramètres sont :\n",
    "\n",
    "- chemin vers les données\n",
    "- chemin vers les cibles\n",
    "- `keep_datasets` Liste des datasets à garder, parmi les suivants :\n",
    "    * `eeg_1` - EEG in frontal position sampled at 50 Hz -> 1500 values\n",
    "    * `eeg_2` - EEG in frontal position sampled at 50 Hz -> 1500 values\n",
    "    * `eeg_3` - EEG in frontal position sampled at 50 Hz -> 1500 values\n",
    "    * `eeg_4` - EEG in frontal-occipital position sampled at 50 Hz -> 1500 values\n",
    "    * `eeg_5` - EEG in frontal-occipital position sampled at 50 Hz -> 1500 values\n",
    "    * `eeg_6` - EEG in frontal-occipital position sampled at 50 Hz -> 1500 values\n",
    "    * `eeg_7` - EEG in frontal-occipital position sampled at 50 Hz -> 1500 values\n",
    "    * `accelerometer_x` - Accelerometer along x axis sampled at 10 Hz -> 300 values\n",
    "    * `accelerometer_y` - Accelerometer along y axis sampled at 10 Hz -> 300 values\n",
    "    * `accelerometer_z` - Accelerometer along z axis sampled at 10 Hz -> 300 values\n",
    "    * `pulse_oximeter_infrared` - Pulse oximeter infrared channel sampled at 10 Hz -> 300 values\n",
    "- `split_train_val` Pourcentage pour partager le train set et validation set\n",
    "- `seed` Une seed pour la reproductibilité\n",
    "- `balance_data` si vrai, équilibre le dataset pour avoir le nombre de donnée par classe\n",
    "- `size` Une taille maximale pour le dataset (si non renseignée, tout le dataset)\n",
    "- `transforms` des transformations à appliquer aux données (voir la partie transformation)\n",
    "- `transforms_val` si renseignée, `transforms` sera pour le train et `transforms_val` pour la validation. Sinon, même transformation que `transforms`."
   ]
  },
  {
   "cell_type": "code",
   "execution_count": 36,
   "metadata": {},
   "outputs": [
    {
     "name": "stdout",
     "output_type": "stream",
     "text": [
      "Loading data in memory...\n",
      "5412 in 1 datasets to load\n",
      "Loading dataset eeg_1 ...\n",
      "Done.\n",
      "Loading data in memory...\n",
      "1353 in 1 datasets to load\n",
      "Loading dataset eeg_1 ...\n",
      "Done.\n"
     ]
    }
   ],
   "source": [
    "train_set, val_set = DreemDatasets('dataset/train.h5', \n",
    "                                   'dataset/train_y.csv', \n",
    "                                   split_train_val=0.8, \n",
    "                                   seed=0, \n",
    "                                   keep_datasets=['eeg_1']).get()\n",
    "\n",
    "train_set.load_data()  # Load les données en mémoire\n",
    "\n",
    "val_set.load_data()\n",
    "\n",
    "# Ne pas oublier de fermer les datasets\n",
    "# Ne ferme que les fichiers h5. Si .load_data() a été appelé, on a toujours accès aux données !\n",
    "train_set.close()\n",
    "val_set.close()"
   ]
  },
  {
   "cell_type": "markdown",
   "metadata": {},
   "source": [
    "#### 2.1.1. Récupération des données"
   ]
  },
  {
   "cell_type": "code",
   "execution_count": 37,
   "metadata": {},
   "outputs": [
    {
     "name": "stdout",
     "output_type": "stream",
     "text": [
      "(1, 1500)\n",
      "(1, 10, 1500)\n"
     ]
    }
   ],
   "source": [
    "data_50hz, data_10hz, target = train_set[0]  # Une valeur\n",
    "\n",
    "# Dimension nb_datasets x tailles_features\n",
    "print(data_50hz.shape)\n",
    "\n",
    "data_50hz, data_10hz, targets = train_set[:10]  # 10 valeurs\n",
    "# Dimension nb_datasets x nb_elements (=10) x tailles_features\n",
    "\n",
    "print(data_50hz.shape)"
   ]
  },
  {
   "cell_type": "markdown",
   "metadata": {},
   "source": [
    "#### 2.1.2. Enregistrer un dataset\n",
    "\n",
    "On peut utiliser la méthode `save_data` pour enregistrer dans un `.npy`. Pour des questions de mémoire, il y aura un fichier par dataset (ex, si on choisit d'ouvrir `[\"eeg_1\", \"eeg_2\"]` alors il y aura deux fichiers).\n",
    "\n",
    "Attention, le nom des fichiers ne peut pas être précisé, seulement un dossier parent.\n",
    "\n",
    "Par exemple, avec le `save_data(\"dataset/test\")`, on aura les fichiers :\n",
    "- `dataset/test/eeg_1.npy`\n",
    "- `dataset/test/eeg_2.npy`\n",
    "\n",
    "On peut préciser le chemin vers un nouveau dossier, celui-ci sera créé.\n",
    "\n",
    "La sauvegarde enregistre les données **transformée**. Les données brutes ne sont pas enregistrées."
   ]
  },
  {
   "cell_type": "code",
   "execution_count": 38,
   "metadata": {},
   "outputs": [
    {
     "name": "stdout",
     "output_type": "stream",
     "text": [
      "Saving into dataset/sauvegarde/train ...\n",
      "Loading dataset eeg_1 ...\n",
      "Saved.\n",
      "Saving into dataset/sauvegarde/val ...\n",
      "Loading dataset eeg_1 ...\n",
      "Saved.\n"
     ]
    }
   ],
   "source": [
    "train_set, val_set = DreemDatasets('dataset/train.h5', 'dataset/train_y.csv', \n",
    "                                   split_train_val=0.8, seed=0, keep_datasets=['eeg_1']).get()\n",
    "\n",
    "train_set.save_data(\"dataset/sauvegarde/train\")  # Attention, pas de / à la fin !\n",
    "val_set.save_data(\"dataset/sauvegarde/val\")\n",
    "\n",
    "train_set.close()\n",
    "val_set.close()"
   ]
  },
  {
   "cell_type": "markdown",
   "metadata": {},
   "source": [
    "Si l'on a déjà enregistré le dataset, on peut utiliser `load_data` en précisant le dossier dans lequel sont tous les fichiers"
   ]
  },
  {
   "cell_type": "code",
   "execution_count": 39,
   "metadata": {},
   "outputs": [
    {
     "name": "stdout",
     "output_type": "stream",
     "text": [
      "Loading data in memory...\n",
      "5412 in 1 datasets to load\n",
      "Loading dataset eeg_1 ...\n",
      "Done.\n",
      "Loading data in memory...\n",
      "1353 in 1 datasets to load\n",
      "Loading dataset eeg_1 ...\n",
      "Done.\n",
      "(1, 1500)\n"
     ]
    }
   ],
   "source": [
    "train_set, val_set = DreemDatasets('dataset/train.h5', 'dataset/train_y.csv', \n",
    "                                   split_train_val=0.8, seed=0, keep_datasets=['eeg_1']).get()\n",
    "\n",
    "# Cela remplace les données données des fichiers h5.\n",
    "train_set.load_data(\"dataset/sauvegarde/train\")  # Attention, pas de / à la fin !\n",
    "val_set.load_data(\"dataset/sauvegarde/val\")\n",
    "\n",
    "train_set.close()\n",
    "val_set.close()\n",
    "\n",
    "data_50hz, data_10hz, target = train_set[0]\n",
    "\n",
    "print(data_50hz.shape)"
   ]
  },
  {
   "cell_type": "markdown",
   "metadata": {},
   "source": [
    "#### 2.1.3. Test set\n",
    "\n",
    "On peut faire la même chose avec le test set qu'avec les autres données.\n",
    "\n",
    "Attention à bien appeler `init()`."
   ]
  },
  {
   "cell_type": "code",
   "execution_count": 40,
   "metadata": {},
   "outputs": [
    {
     "name": "stdout",
     "output_type": "stream",
     "text": [
      "Loading data in memory...\n",
      "37439 in 1 datasets to load\n",
      "Loading dataset eeg_1 ...\n",
      "Done.\n"
     ]
    }
   ],
   "source": [
    "from tools.data import DreemDataset\n",
    "\n",
    "test_set = DreemDataset('dataset/test.h5', keep_datasets=['eeg_1']).init()\n",
    "\n",
    "# Rappel : charge en mémoire. On peut également charget un fichier en précisant un chemin\n",
    "test_set.load_data()  \n",
    "\n",
    "test_set.close()"
   ]
  },
  {
   "cell_type": "markdown",
   "metadata": {},
   "source": [
    "### 2.2. Pré-traitements\n",
    "\n",
    "#### 2.2.1. Introduction : Transformations\n",
    "\n",
    "Une transformation est ce qui nous permet de faire nos pré-traitements sur nos données.\n",
    "Pour effectuer des transformations sur nos données, nous devons definir un dictionnaire :"
   ]
  },
  {
   "cell_type": "code",
   "execution_count": 41,
   "metadata": {},
   "outputs": [],
   "source": [
    "def transformation_eeg_1(batch_signals, batch_targets):\n",
    "    return batch_signals[:, 0]\n",
    "\n",
    "transformations = {\n",
    "    \"eeg_1\": transformation_eeg_1\n",
    "}"
   ]
  },
  {
   "cell_type": "markdown",
   "metadata": {},
   "source": [
    "Prenant en clé le nom du dataset sur lequel effectuer la transformation et en valeur une fonction prenant 2 paramètres :\n",
    "\n",
    "* un batch du signal de taille (batch, taille_signal)\n",
    "* les \"targets\" qui correspondent aux classes de sommeils que nous devons prédire pour le batch en question.\n",
    "\n",
    "Ces deux paramètres peuvent être utiles pour nos différentes fonctions de pré-processing.\n",
    "\n",
    "La transformation doit retourner le batch modifié.\n",
    "\n",
    "Dans l'exemple ci-dessus, nous appliquerons une transformation au dataset `eeg_1` qui tranformera les signaux en seulement la première valeur du signal."
   ]
  },
  {
   "cell_type": "markdown",
   "metadata": {},
   "source": [
    "#### 2.2.2. Extraction en bandes\n",
    "\n",
    "D'après [[1: Malhotra, R. K., & Avidan, A. Y. (2014). Sleep stages and scoring technique. Atlas of Sleep Medicine, 77-99.](http://www.fmed.edu.uy/sites/www.labsueno.fmed.edu.uy/files/9.Diagnostico-polisomnogr%C3%A1fico.pdf)] et [[2: Aboalayon, K., Faezipour, M., Almuhammadi, W., & Moslehpour, S. (2016). Sleep stage classification using EEG signal analysis: a comprehensive survey and new investigation. Entropy, 18(9), 272.](https://www.mdpi.com/1099-4300/18/9/272)], les électroencéphalogrames (eegs) peuvent être séparés en bande de fréquences contenant différentes informations :\n",
    "\n",
    "* Bande $\\delta$ : de 0 à 4 Hz,\n",
    "* bande $\\theta$ : de 4 à 8 Hz,\n",
    "* bande $\\alpha$ : de 8 à 13 Hz,\n",
    "* bande $\\beta$ : de 13 à 38 Hz,\n",
    "* bande $\\gamma$ : de 38 à 42 Hz.\n",
    "\n",
    "Cependant nos eegs sont échantillonés à 50 Hz. Le thèorème de Shannon (Sampling theorem) indique que nous ne pourrons récupérer que des informations sur une bande de fréquence entre 0 et 25 Hz.\n",
    "\n",
    "Nous ne considerons donc pour cela pas la bande $\\gamma$ et gardon la bande $\\beta$ que de 13 à 22 Hz."
   ]
  },
  {
   "cell_type": "code",
   "execution_count": 42,
   "metadata": {},
   "outputs": [],
   "source": [
    "from preprocessing.signals import ExtractBands"
   ]
  },
  {
   "cell_type": "code",
   "execution_count": 43,
   "metadata": {},
   "outputs": [],
   "source": [
    "extract_bands = ExtractBands(bands='*')  # toutes les bandes (de delta à beta)"
   ]
  },
  {
   "cell_type": "markdown",
   "metadata": {},
   "source": [
    "`extract_bands` est une transformation que nous pouvons appliquer aux eegs et qui sort des signaux extraits en bande :"
   ]
  },
  {
   "cell_type": "code",
   "execution_count": 44,
   "metadata": {},
   "outputs": [
    {
     "name": "stdout",
     "output_type": "stream",
     "text": [
      "Loading data in memory...\n",
      "5412 in 1 datasets to load\n",
      "Loading dataset eeg_1 ...\n",
      "Apply transformations...\n",
      "Applied.\n",
      "Done.\n",
      "Loading data in memory...\n",
      "1353 in 1 datasets to load\n",
      "Loading dataset eeg_1 ...\n",
      "Apply transformations...\n",
      "Applied.\n",
      "Done.\n",
      "(1, 4, 1500)\n"
     ]
    }
   ],
   "source": [
    "train_set, val_set = DreemDatasets('dataset/train.h5', \n",
    "                                   'dataset/train_y.csv', \n",
    "                                   split_train_val=0.8, \n",
    "                                   seed=0, \n",
    "                                   keep_datasets=['eeg_1'],\n",
    "                                   transforms={\"eeg_1\": extract_bands}).get()\n",
    "\n",
    "train_set.load_data()  # Load les données en mémoire\n",
    "\n",
    "val_set.load_data()\n",
    "\n",
    "# Ne pas oublier de fermer les datasets\n",
    "# Ne ferme que les fichiers h5. Si .load_data() a été appelé, on a toujours accès aux données !\n",
    "train_set.close()\n",
    "val_set.close()\n",
    "\n",
    "data_50hz, data_10hz, target = train_set[0]\n",
    "\n",
    "print(data_50hz.shape)"
   ]
  },
  {
   "cell_type": "markdown",
   "metadata": {},
   "source": [
    "Noter la dimension \"4\" ajoutée qui correspond aux 4 bandes de fréquence."
   ]
  },
  {
   "cell_type": "markdown",
   "metadata": {},
   "source": [
    "#### 2.2.3. Features plus avancées"
   ]
  },
  {
   "cell_type": "markdown",
   "metadata": {},
   "source": [
    "Nous avons ensuite ajouté différents pré-traitements de base sur nos features tel que :\n",
    "\n",
    "* `min` valeur min du signal,\n",
    "* `max` valeur max du signal,\n",
    "* `frequency` fréquence du signal,\n",
    "* `energy` énergie du signal.\n",
    "\n",
    "Puis nous avons essayé les features proposés par [[2](https://www.mdpi.com/1099-4300/18/9/272)] :\n",
    "* `mmd` distance minimum-maximum\n",
    "* `esis` correspond à l'énergie et \"vitesse\" du signal\n",
    "\n",
    "De plus, comme expliqué par [[1](http://www.fmed.edu.uy/sites/www.labsueno.fmed.edu.uy/files/9.Diagnostico-polisomnogr%C3%A1fico.pdf)], section \"_Stages of Sleep_\", nous pouvons distinguer différentes étapes du sommeil par différentes prédominances \"d'utilisation\" d'une bande :\n",
    "* `band-usage` est la feature qui indique, sur une fenêtre glissante, la bande qui est a la plus grande valeur sur la fenêtre parmi toutes les bandes. Cela donne une indication de la bande prédominante sur la fenêtre."
   ]
  },
  {
   "cell_type": "code",
   "execution_count": 45,
   "metadata": {},
   "outputs": [],
   "source": [
    "# Transformation pour ces featyres\n",
    "from preprocessing.features import ExtractFeatures\n",
    "\n",
    "# Extract features peut directement extraire les bandes\n",
    "extract_features = ExtractFeatures(bands='*', features=['mmd', 'esis'])"
   ]
  },
  {
   "cell_type": "code",
   "execution_count": 46,
   "metadata": {},
   "outputs": [
    {
     "name": "stdout",
     "output_type": "stream",
     "text": [
      "Loading data in memory...\n",
      "5412 in 1 datasets to load\n",
      "Loading dataset eeg_1 ...\n",
      "Apply transformations...\n",
      "Applied.\n",
      "Done.\n",
      "Loading data in memory...\n",
      "1353 in 1 datasets to load\n",
      "Loading dataset eeg_1 ...\n",
      "Apply transformations...\n",
      "Applied.\n",
      "Done.\n",
      "(1, 4, 5412, 2)\n"
     ]
    }
   ],
   "source": [
    "train_set, val_set = DreemDatasets('dataset/train.h5', \n",
    "                                   'dataset/train_y.csv', \n",
    "                                   split_train_val=0.8, \n",
    "                                   seed=0, \n",
    "                                   keep_datasets=['eeg_1'],\n",
    "                                   transforms={\"eeg_1\": extract_features}).get()\n",
    "\n",
    "train_set.load_data()  # Load les données en mémoire\n",
    "\n",
    "val_set.load_data()\n",
    "\n",
    "# Ne pas oublier de fermer les datasets\n",
    "# Ne ferme que les fichiers h5. Si .load_data() a été appelé, on a toujours accès aux données !\n",
    "train_set.close()\n",
    "val_set.close()\n",
    "\n",
    "data_50hz, data_10hz, target = train_set[:]\n",
    "\n",
    "print(data_50hz.shape)"
   ]
  },
  {
   "cell_type": "markdown",
   "metadata": {},
   "source": [
    "On voit ici que la dimension est de 1 (=1 dataset) x 4 (=4 bandes) x nombre de signaux x 2 (=2 features)."
   ]
  },
  {
   "cell_type": "markdown",
   "metadata": {},
   "source": [
    "### 2.3. Etat de l'art : Caractéristiques temporelles et spectrales à grande échelle"
   ]
  },
  {
   "cell_type": "markdown",
   "metadata": {},
   "source": [
    "La classification multi-classes précise, rapide et fiable de signaux d'électroencéphalographie (EEG) est un défi pour le développement de systèmes d'interface cerveau-ordinateur (MI-BCI) d'imagerie motrice. \n",
    "C'est un domaine assez actif, comme le montre les différentes concours tel que [le concours BCI Competition IV C. Brunner et al.](http://bnci-horizon-2020.eu/database/data-sets)\n",
    "\n",
    "\n",
    "Après un état de l'art efficace, plusieurs approches auraient pu etre envisagé : \n",
    "\n",
    "A commencé par une approche monodirectionelle concentré sur les EEGS : à partir d'une seule courbe de l'un des EEG de 30secondes déterminé sa classe et répété l'opération pour les 7 courbes (reférence : [S. Sakhav and al.](https://ieeexplore.ieee.org/document/7362882) ). Ou bien une approche multidirectionnelle concentré sur l'extraction de caractéristique qui maximisent la discriminabilité entre deux classes. \n",
    "    \n",
    "\n",
    "\n",
    "\n",
    "Nous nous sommes attaché à exploré la seconde voie et il semblerait que la méthode la plus efficace soit celle propsosé par [Hersche et al.](https://arxiv.org/abs/1806.06823)\n",
    "\n",
    "\n",
    "L'idée est d'utiliser le modèle spatial commun (CSP) et celui avec la géométrie de Riemannian pour l'étendre aux cas de multifenêtrage temporelle et spectrale.\n"
   ]
  },
  {
   "cell_type": "markdown",
   "metadata": {},
   "source": [
    "#### 2.3.1 Filter Bank Common Spatial Pattern (FBCSP)"
   ]
  },
  {
   "cell_type": "markdown",
   "metadata": {},
   "source": [
    "L'algorithme des modèles spatiaux communs (CSP) apprend des filtres spatiaux qui maximisent la discriminabilité entre deux classes ([F. Lotte and al.](https://ieeexplore.ieee.org/document/5593210)). Ses performances dépendent fortement des bandes de fréquences opérationnelles considérées. Ainsi, dans la plupart des applications, les données sont d'abord divisées en plusieurs bandes de fréquences, puis spatialement filtrées. C'est ce que l'on appelle la configuration spatiale commune des bancs de filtres. \n",
    "\n",
    "Dans notre cas nous utiliserons les paramètres suivants :"
   ]
  },
  {
   "cell_type": "code",
   "execution_count": 47,
   "metadata": {},
   "outputs": [
    {
     "data": {
      "image/png": "[encoded data removed]",
      "text/plain": [
       "<IPython.core.display.Image object>"
      ]
     },
     "execution_count": 47,
     "metadata": {},
     "output_type": "execute_result"
    }
   ],
   "source": [
    "import os\n",
    "import numpy as np\n",
    "from tools.filters import load_filterbank\n",
    "from IPython.display import Image\n",
    "from tools.csp import generate_projection, generate_eye, extract_feature\n",
    "from preprocessing import Compose, ExtractBands, ExtractSpectrum\n",
    "\n",
    "fs = 50.  # sampling frequency\n",
    "NO_channels = 7  # number of EEG channels\n",
    "NO_riem = int(NO_channels * NO_channels + 1) / 2  # Total number of CSP feature per band and timewindow\n",
    "bw = np.array([2, 4, 8, 13, 22])\n",
    "ftype = 'butter'  # 'fir', 'butter'\n",
    "forder = 2  # 4\n",
    "filter_bank = load_filterbank(bw, fs, order=forder, max_freq=23, ftype=ftype)  # get filterbank coeffs\n",
    "time_windows_flt = np.array([[0, 30],\n",
    "                             [15, 30],\n",
    "                             [10, 25],\n",
    "                             [5, 20],\n",
    "                             [0, 15],\n",
    "                             [15, 25],\n",
    "                             [10, 20],\n",
    "                             [5, 15],\n",
    "                             [0, 10]\n",
    "]) * fs\n",
    "time_windows = time_windows_flt.astype(int)\n",
    "NO_bands = filter_bank.shape[0]\n",
    "NO_csp = 24  # Total number of CSP feature per band and timewindow\n",
    "useCSP = False\n",
    "\n",
    "Image(os.path.join(\"figures\",\"fig1.png\"))"
   ]
  },
  {
   "cell_type": "markdown",
   "metadata": {},
   "source": [
    "Cette figure est extraite de [Hersche et al.](https://arxiv.org/abs/1806.06823)\n",
    "Pour nous, le temps varie de 0 à 30 secondes et la fréquence de 2 à 22 Herts. Le code pour appliquer ce préprocess est le suivant : "
   ]
  },
  {
   "cell_type": "code",
   "execution_count": 8,
   "metadata": {},
   "outputs": [],
   "source": [
    "def get_features(data, label, time_windows, useCSP = True):\n",
    "    if useCSP:\n",
    "        w = generate_projection(data, label, NO_csp, filter_bank, time_windows, NO_classes=5)\n",
    "    else:\n",
    "        w = generate_eye(data, label, filter_bank, time_windows)\n",
    "    feature_mat = extract_feature(data, w, filter_bank, time_windows)\n",
    "    return(w, feature_mat)\n",
    "#w, train_feat_CSP = get_features(train_data, train_label, time_windows, useCSP)\n",
    "#test_feature_CSP = extract_feature(test_data, w, filter_bank, time_windows)"
   ]
  },
  {
   "cell_type": "markdown",
   "metadata": {},
   "source": [
    "#### 2.3.2 Riemannian covariance features"
   ]
  },
  {
   "cell_type": "markdown",
   "metadata": {},
   "source": [
    "Nous n'irons pas dans les détails puisque nous l'avons implémenté et essayé mais ces caractéristiques donnent de (légers) moins bons résultats que les CSP features. Vous pourrez vous refairez au paragraphe 4 de la publication [Hersche et al.](https://arxiv.org/abs/1806.06823) pour plus de détails.\n",
    "\n",
    "Voici toutefois le code à déployer pour utiliser ces features : "
   ]
  },
  {
   "cell_type": "code",
   "execution_count": null,
   "metadata": {},
   "outputs": [],
   "source": [
    "from models.riemannian_multiscale import riemannian_multiscale\n",
    "riemann = riemannian_multiscale(filter_bank, time_windows, riem_opt=riem_opt, rho=rho, vectorized=True)\n",
    "features_CSP_train_R = riemann.fit(train_data)\n",
    "features_CSP_test_R = riemann.features(test_data)"
   ]
  },
  {
   "cell_type": "markdown",
   "metadata": {},
   "source": [
    "### 2.4.3 Comparaison de toutes les features"
   ]
  },
  {
   "cell_type": "markdown",
   "metadata": {},
   "source": [
    "Notre base de données est déséquilibré : \n"
   ]
  },
  {
   "cell_type": "code",
   "execution_count": 95,
   "metadata": {},
   "outputs": [
    {
     "data": {
      "image/png": "[encoded data removed]",
      "text/plain": [
       "<Figure size 360x144 with 1 Axes>"
      ]
     },
     "metadata": {
      "needs_background": "light"
     },
     "output_type": "display_data"
    },
    {
     "name": "stdout",
     "output_type": "stream",
     "text": [
      "percentage per stage:  [ 9.45180078  3.53365196 44.74392123 14.96774531 27.30288072]\n"
     ]
    }
   ],
   "source": [
    "import matplotlib.pyplot as plt\n",
    "plt.figure(figsize=(5,2))\n",
    "label_train = np.load(\"dataset/data/train_label.npy\")\n",
    "(n, bins, patches) = plt.hist(label_train, density=True, bins=range(5+1))\n",
    "plt.show()\n",
    "print('percentage per stage: ', n*100)"
   ]
  },
  {
   "cell_type": "markdown",
   "metadata": {},
   "source": [
    "Nous avons donc tester toutes nos features sur deux approches : un subdataset équilibré et sur tout le dataset. Pour chaque test nous utilisons la même méthode de classification : \n",
    "\n",
    "clf = RandomForestClassifier(n_estimators=700,max_features='auto', random_state=0)\n",
    "\n",
    "Nous obtenons les résultats suivant (cf All_features_method.ipynb et All_features_method_balanced.ipynb) : "
   ]
  },
  {
   "cell_type": "code",
   "execution_count": 23,
   "metadata": {},
   "outputs": [
    {
     "data": {
      "text/html": [
       "<div>\n",
       "<style scoped>\n",
       "    .dataframe tbody tr th:only-of-type {\n",
       "        vertical-align: middle;\n",
       "    }\n",
       "\n",
       "    .dataframe tbody tr th {\n",
       "        vertical-align: top;\n",
       "    }\n",
       "\n",
       "    .dataframe thead th {\n",
       "        text-align: right;\n",
       "    }\n",
       "</style>\n",
       "<table border=\"1\" class=\"dataframe\">\n",
       "  <thead>\n",
       "    <tr style=\"text-align: right;\">\n",
       "      <th></th>\n",
       "      <th>Différents models sur tout le dataset</th>\n",
       "      <th>F1-score val</th>\n",
       "      <th>Time</th>\n",
       "    </tr>\n",
       "  </thead>\n",
       "  <tbody>\n",
       "    <tr>\n",
       "      <th>0</th>\n",
       "      <td>Min - max - freq - energy on pulse et accelero...</td>\n",
       "      <td>0.518055</td>\n",
       "      <td>193</td>\n",
       "    </tr>\n",
       "    <tr>\n",
       "      <th>1</th>\n",
       "      <td>Min - max - freq - energy on eegs</td>\n",
       "      <td>0.563267</td>\n",
       "      <td>308</td>\n",
       "    </tr>\n",
       "    <tr>\n",
       "      <th>2</th>\n",
       "      <td>Min - max - freq - energy on all</td>\n",
       "      <td>0.589399</td>\n",
       "      <td>408</td>\n",
       "    </tr>\n",
       "    <tr>\n",
       "      <th>3</th>\n",
       "      <td>Min - max - freq - energy on all + Riemann</td>\n",
       "      <td>0.604606</td>\n",
       "      <td>2500</td>\n",
       "    </tr>\n",
       "    <tr>\n",
       "      <th>4</th>\n",
       "      <td>Min - max - freq - energy on all + CSP</td>\n",
       "      <td>0.617818</td>\n",
       "      <td>3000</td>\n",
       "    </tr>\n",
       "  </tbody>\n",
       "</table>\n",
       "</div>"
      ],
      "text/plain": [
       "               Différents models sur tout le dataset  F1-score val  Time\n",
       "0  Min - max - freq - energy on pulse et accelero...      0.518055   193\n",
       "1                  Min - max - freq - energy on eegs      0.563267   308\n",
       "2                   Min - max - freq - energy on all      0.589399   408\n",
       "3         Min - max - freq - energy on all + Riemann      0.604606  2500\n",
       "4             Min - max - freq - energy on all + CSP      0.617818  3000"
      ]
     },
     "execution_count": 23,
     "metadata": {},
     "output_type": "execute_result"
    }
   ],
   "source": [
    "import pandas as pd\n",
    "\n",
    "df_all = pd.DataFrame({'Différents models sur tout le dataset':['Min - max - freq - energy on pulse et accelerometre','Min - max - freq - energy on eegs',\n",
    "         'Min - max - freq - energy on all', ' Min - max - freq - energy on all + Riemann',' Min - max - freq - energy on all + CSP'], \n",
    " 'F1-score val':[0.518054836809841, 0.5632674016257432, 0.5893988863012602, 0.6046064049161487, 0.6178183804270211], \n",
    " 'Time' : [193,308,408, 2500, 3000]})\n",
    "\n",
    "df_all"
   ]
  },
  {
   "cell_type": "code",
   "execution_count": 28,
   "metadata": {},
   "outputs": [
    {
     "data": {
      "text/html": [
       "<div>\n",
       "<style scoped>\n",
       "    .dataframe tbody tr th:only-of-type {\n",
       "        vertical-align: middle;\n",
       "    }\n",
       "\n",
       "    .dataframe tbody tr th {\n",
       "        vertical-align: top;\n",
       "    }\n",
       "\n",
       "    .dataframe thead th {\n",
       "        text-align: right;\n",
       "    }\n",
       "</style>\n",
       "<table border=\"1\" class=\"dataframe\">\n",
       "  <thead>\n",
       "    <tr style=\"text-align: right;\">\n",
       "      <th></th>\n",
       "      <th>Différents models sur un subdataset balanced</th>\n",
       "      <th>F1-score val</th>\n",
       "      <th>Time</th>\n",
       "    </tr>\n",
       "  </thead>\n",
       "  <tbody>\n",
       "    <tr>\n",
       "      <th>0</th>\n",
       "      <td>Min - max - freq - energy on pulse et accelero...</td>\n",
       "      <td>0.563882</td>\n",
       "      <td>150</td>\n",
       "    </tr>\n",
       "    <tr>\n",
       "      <th>1</th>\n",
       "      <td>Min - max - freq - energy on eegs</td>\n",
       "      <td>0.625435</td>\n",
       "      <td>300</td>\n",
       "    </tr>\n",
       "    <tr>\n",
       "      <th>2</th>\n",
       "      <td>Min - max - freq - energy on all</td>\n",
       "      <td>0.639735</td>\n",
       "      <td>400</td>\n",
       "    </tr>\n",
       "    <tr>\n",
       "      <th>3</th>\n",
       "      <td>Min - max - freq - energy on all + Riemann</td>\n",
       "      <td>0.639785</td>\n",
       "      <td>2000</td>\n",
       "    </tr>\n",
       "    <tr>\n",
       "      <th>4</th>\n",
       "      <td>Min - max - freq - energy on all + CSP</td>\n",
       "      <td>0.639209</td>\n",
       "      <td>2500</td>\n",
       "    </tr>\n",
       "  </tbody>\n",
       "</table>\n",
       "</div>"
      ],
      "text/plain": [
       "        Différents models sur un subdataset balanced  F1-score val  Time\n",
       "0  Min - max - freq - energy on pulse et accelero...      0.563882   150\n",
       "1                  Min - max - freq - energy on eegs      0.625435   300\n",
       "2                   Min - max - freq - energy on all      0.639735   400\n",
       "3         Min - max - freq - energy on all + Riemann      0.639785  2000\n",
       "4             Min - max - freq - energy on all + CSP      0.639209  2500"
      ]
     },
     "execution_count": 28,
     "metadata": {},
     "output_type": "execute_result"
    }
   ],
   "source": [
    "df_balanced = pd.DataFrame({'Différents models sur un subdataset balanced':['Min - max - freq - energy on pulse et accelerometre',\n",
    "                                                                           'Min - max - freq - energy on eegs',\n",
    "                                                                           'Min - max - freq - energy on all',\n",
    "                                                                           ' Min - max - freq - energy on all + Riemann',\n",
    "                                                                           ' Min - max - freq - energy on all + CSP'], \n",
    " 'F1-score val':[0.5638819160728847, 0.6254347640147918, 0.6397347891229647, 0.6397853700614984, 0.639209140962282], \n",
    " 'Time' : [150,300, 400, 2000, 2500]})\n",
    "\n",
    "df_balanced"
   ]
  },
  {
   "cell_type": "markdown",
   "metadata": {},
   "source": [
    "Malgré de meilleurs résultats pour le F1-score pour le balanced dataset (ATTENTION c'est bien le même validation set pour les 2 expériences !), nous obtenons de biens moins bons scores sur le Kaggle (environ 59%) contre 64.22% pour le all dataset avec la meilleure configuration. On en déduit que le test set doit être très proche du tran set"
   ]
  },
  {
   "cell_type": "markdown",
   "metadata": {},
   "source": [
    "3. Sélection des features (caractéristiques)"
   ]
  },
  {
   "cell_type": "markdown",
   "metadata": {},
   "source": [
    "# 3. Modèle de classification : évaluation, optimisation et choix\n",
    "\n",
    "## 3.1. Principe des modèles de classification étudiés\n",
    "\n",
    "Voici une explication théorique et aussi pédagogique que possible des différents modèles considérés."
   ]
  },
  {
   "cell_type": "markdown",
   "metadata": {},
   "source": [
    "### 3.1.1. *Random Forest*\n",
    "\n",
    "Il s'agit d'un algorithme utilisant une technique ensembliste adaptée à la classification multi-classes et proposé en 2001 par Breiman & Cutter.\n",
    "\n",
    "#### Principe\n",
    "\n",
    "L'élément de base est l'**arbre décisionnel ou arbre CART** (Classi􏰂cation And Regression Tree) qui permet de décomposer le problème de classification en une suite de tests correspondant à une partition de l’espace des données en sous-régions homogènes en terme de classe.  \n",
    "Il est construit de manière *récursive* à partir d'une base d'apprentissage. Ces arbres fournissent non seulement une solution au problème de classi􏰂cation mais permettent également de retracer les questions à poser pour e􏰀ffectuer ce choix.  \n",
    "\n",
    "Les forêts sont en général plus efficaces que les simples arbres de décision, dont la construction dépend de l'échantillon initial et qui sont fortement instables, mais possèdent l'inconvénient d'être plus di􏰃fficilement interprétables.  \n",
    "Une **forêt aléatoire** est un ensemble d'arbres de décision binaires dans lequel a été introduit de l'aléatoire dans le but d'obtenir des *arbres les plus décorrélés possibles*. De cette manière, on ne construit plus un seul arbre de décision mais plusieurs arbres de décision, chacun ayant ses propres caractéristiques dues à l'aléa introduit.  \n",
    "Le nouveau classifi􏰂eur correspondant à la forêt aléatoire est calculé par *vote majoritaire*, soit en prenant la majorité des votes de chacun des classifi􏰂eurs. Ce n'est donc plus l'arbre qui vote, mais la forêt (aléatoire) cachée derrière.  \n",
    "La forêt aléatoire constitue ainsi un modèle plus *stable* que l'arbre décisionnel.\n",
    "\n",
    "\n",
    "􏰁***Random Forest*** est un type de forêt aléatoire qui consiste pour à mélanger les arbres CART, le *bagging* (*boostrap aggregating*) et le *random subspace*.  \n",
    "Le principe simplifié de l'algorithme est décrit par le schéma ci-dessous (fig 1.).  \n",
    "Pour chaque arbre, on tire un échantillon à partir de l'échantillon initial. A chaque noeud, on choisit aléatoirement K variables et on prend, parmi celles-ci, celle qui minimise le critère de l'algorithme CART. On laisse grandir l'arbre jusqu'à ce qu'il n'y ait plus qu'un seul élément dans chaque noeud.\n",
    "\n",
    "<img src=\"figures/RandomForest.png\" alt=\"Schéma simplifié de l'algorithme du  Random Forest\" title=\"Schéma simplifié de l'algorithme du  Random Forest\" style=\"width: 400px\" />\n",
    "\n",
    "\n",
    "#### Deux approches:  multi-classes ou *one-vs-all*\n",
    "\n",
    "Les deux approches sont illustrées ci-dessous (fig.3).  \n",
    "\n",
    "L'approche plus classique **multi-classes** a d'abord été testée. Le même algorithme est capable de distinguer les labels {0,1,2,3,4}.    \n",
    "\n",
    "Puis, l'approche ***one-vs-all*** a été explorée dans laquelle on construit successivement plusieurs modèles de classification binaires. On attribue donc les labels classe par classe. Dans notre problème, l'ordre des labels à attribuer est le suivant :\n",
    "1. différencier parmi les données les labels {2, ≠2} (classifieur #1) puis retirer les labels égaux à 2\n",
    "2. différencier parmi le reste les labels {4, ≠4} (classifieur #2) puis retirer les labels égaux à 4\n",
    "3. différencier parmi le reste les labels {3, ≠3} (classifieur #3) puis retirer les labels égaux à 3\n",
    "4. différencier parmi le reste les labels {0, 1(≠0)} (classifieur #4) puis conclure  \n",
    "\n",
    "Notons qu'aucun classifieur ne sera parfait. Ainsi, pour l'entraînement, on retire à chaque étape les données correspondant *réellement aux labels i* afin que pour l'étape suivante la base d'apprentissage ne contienne aucun de ces labels i. Mais, pour le test, on retirera les données correspondant aux *labels prédits i* par le classifieur. Le reste contiendra donc certaines erreurs (faux-positifs prédits i mais non égaux à i et faux-négatifs prédits comme non i mais égaux à i).  \n",
    "\n",
    "<img src=\"figures/1vsall-or-multiclass.png\" alt=\"Schéma simplifié de l'algorithme du  Random Forest\" title=\"Schéma simplifié de l'algorithme du  Random Forest\" style=\"width: 600px\" />\n"
   ]
  },
  {
   "cell_type": "markdown",
   "metadata": {},
   "source": [
    "### 3.1.2.  *Gradient Boosting Decision Tree*\n",
    "\n",
    "#### Algorithme classique\n",
    "\n",
    "Le **classifieur *Gradient Boosting***  combine les éléments suivants : *boosting* (renforcement), descente de gradient et arbre décisionnel. \n",
    "\n",
    "Le ***boosting*** pour la classification en Machine Learning consiste à construire un ensemble de classifieurs de façon **incrémentale**. A chaque étape, nous ajoutons un nouveau **sous-modèle** simple de petit **arbre décisionnel** (principe expliqué plus haut) pour éviter l'*overfitting*, qui essaie de **compenser les erreurs** faites par les sous-modèles précédents.  \n",
    "Ce principe est illustré schématiquement plus bas (fig.4). L'algorithme de *gradient boosting* classique fait pousser les arbres **horizontalement**, c'est-à-dire qu'il fait croître le niveau de l'arbre.\n",
    "\n",
    "Cette procédure de *boosting* peut être considérée comme une forme de descente de gradient.    \n",
    "En effet, rappelons que la **descente en gradient** optimise une fonction de perte en appliquant la règle de mise à jour suivante à plusieurs reprises :  \n",
    "\\begin{equation*}\n",
    "x = x = x - η∇Loss(x)\n",
    "\\end{equation*}\n",
    "où ∇Loss(x) est le gradient de la fonction de perte et η est le taux d'apprentissage\n",
    "\n",
    "L'observation clé à retenir ici est que le gradient (négatif) de la fonction de perte d'erreur au carré, évalué à la valeur de sortie $\\hat{y}$, est le même que le résiduel (multiplié par 2) :  \n",
    "\\begin{equation*}\n",
    "Loss(yi,\\hat{y}) = (yi - \\hat{y})^2  \\\\\n",
    "-∇Loss(\\hat{y}) = 2*(yi - \\hat{y})  \n",
    "\\end{equation*}\n",
    "\n",
    "Or, dans l'algorithme de *boosting*, on ajoute à chaque itération un sous-modèle **qui essaie d'imiter le négatif\n",
    "de cette perte**, d'où le lien avec la descente de gradient. Le taux d'apprentissage η serait de 1 dans ce cas.  \n",
    "\n",
    "<img src=\"figures/gradientboosting.png\" alt=\"Schéma simplifié de l'algorithme du  Random Forest\" title=\"Schéma simplifié de l'algorithme du  Random Forest\" style=\"width: 350px\" />\n",
    "\n",
    "#### *Light GBM*\n",
    "\n",
    "**Light GBM** est un gradient boosting framework qui utilise un algorithme d'apprentissage basé sur l'arbre décisionnel. Lien vers la documentation : https://lightgbm.readthedocs.io/en/latest/index.html.  \n",
    "Light GBM fait pousser l'arbre **verticalement**, soit les feuilles de l'arbre, contrairement à l'agorithme classique de *gradient boosting* vu précédemment. Le principe est illustré ci-dessous (fig.5). Il choisira la feuille avec une perte ∇ maximale pour grandir. Lorsqu'on cultive la même feuille, l'algorithme de Leaf-wise peut réduire plus de pertes qu'un algorithme de niveau.\n",
    "\n",
    "Light GBM peut gérer la grande taille des données et nécessite moins de mémoire pour fonctionner que le Gradient Boosting classique. Le préfixe  'Light' fait référence à la vitesse d'apprentissage plus élevée de l'algorithme. \n",
    "Cet algorithme est recommandé pour des grands datasets (> 10000 éléments) uniquement, ce qui est notre cas, car il est sensible à l'*overfitting* sinon.  \n",
    "\n",
    " <img src=\"figures/lgbm.png\" alt=\"Schéma simplifié de l'algorithme du  Random Forest\" title=\"Schéma simplifié de l'algorithme du  Random Forest\" style=\"width: 400px\" />"
   ]
  },
  {
   "cell_type": "markdown",
   "metadata": {},
   "source": [
    "### 3.1.4. Comparaison *a priori* des modèles\n",
    "\n",
    "\n",
    "\n",
    "|Algorithme               | Avantages   | Inconvénients |Usage habituel|\n",
    "|-------------------------|-------------|---------------|---------------|\n",
    "|Random Forest|rapidité <br> Robuste aux datasets bruités |Biaisé si classes non-équilibrées envers la classe la plus représentée |Polyvalent|\n",
    "|Gradient Boosting  |Bonne précision <br>(rapidité et adapté aux grands datasets avec Light GBM) |Peut *overfitter* facilement <br> Réglage des paramètres important |Polyvalent|\n"
   ]
  },
  {
   "cell_type": "markdown",
   "metadata": {},
   "source": [
    "## 3.2. Protocole de validation croisée pour l'évaluation de la performance"
   ]
  },
  {
   "cell_type": "markdown",
   "metadata": {},
   "source": [
    "Afin d'estimer la performance du modèle entraîné, nous devons choisir un protocole de validation croisé parmi (entre autres):\n",
    "- **leave-one-out (LOO)**   \n",
    "On entraîne N modèles sur N-1 échantillons et on les teste respectivement sur l'échantillon retiré.\n",
    "- **K-fold**  \n",
    "Son principe est illustré ci-dessous pour K=5 (fig.7). On entraine K modèles (K<N) sur N(1-1/K) échantillons et on les teste respectivement sur les N/K échantillons retirés.\n",
    "\n",
    "\n",
    "\n",
    "La validation croisée possède l'avantage d'exploiter l'ensemble du set d'entraînement. De plus, plusieurs modèles sont appris et évalués ce qui permet d'avoir une meilleure idée de la stabilité et de la performance du modèle.  \n",
    "La LOO est plus coûteuse sur le plan du calcul que la validation K-fold mais cette dernière peut surestimer l'erreur de généralisation si la courbe d'apprentissage est abrupte pour la taille de la formation en question.  \n",
    "En règle générale, la plupart des auteurs et données empiriques suggèrent que la validation croisée K-fold avec K=5 ou K=10 devrait être préférée à la LOO.  \n",
    "In fine, nous avons opté pour la **validation croisée K-fold avec K=10**. \n",
    "\n",
    "\n",
    "<img src=\"figures/crossvalidation.png\" alt=\"Schéma simplifié de l'algorithme du  Random Forest\" title=\"Schéma simplifié de l'algorithme du  Random Forest\" style=\"width: 500px\" />\n",
    "\n"
   ]
  },
  {
   "cell_type": "markdown",
   "metadata": {},
   "source": [
    "## 3.3. Réglage des hyperparamètres"
   ]
  },
  {
   "cell_type": "markdown",
   "metadata": {},
   "source": [
    "Pour trouver le meilleur lot de paramètres, on réalise souvent une **recherche exhaustive par grille** d'hyperparamètres. Ici, nous avons opté pour une **recherche aléatoire**. Les deux démarches sont décrites ci-dessous (fig.8). \n",
    "La recherche aléatoire et la recherche par grille explorent exactement **le même espace de paramètres**. Le résultat des réglages de paramètres est assez similaire, tandis que le **temps d'exécution** de la recherche aléatoire est nettement inférieur.  \n",
    "Pour s'assurer que les grilles de recherche sont pertinentes, on veillera à ce que le meilleur paramètre trouvé dans la grille ne soit pas un paramètre extrême de la grille.\n",
    "\n",
    "<img src=\"figures/randomgridsearchcv.jpg\" alt=\"Schéma simplifié de l'algorithme du  Random Forest\" title=\"Schéma simplifié de l'algorithme du  Random Forest\" style=\"width: 300px\" />\n",
    "\n",
    "Pour chaque modèle, on emploira la démarche suivante :\n",
    "- sélectionner quelques paramètres à ajuster et éventuellement un ordre de priorité\n",
    "- ne garder que 20% du train par soucis de rapidité et les mêmes 20% par soucis de reproductibilité\n",
    "- recherche aléatoire des meilleurs hyperparamètres avec une crossvalidation K-fold avec K=3 (et non K=10, par soucis de rapidité)\n",
    "- pour les meilleurs paramètres, estimer plus finement les performances avec une crossvalidation K-fold avec K=10 sur 80% du train\n",
    "- enfin, entraîner le modèle avec ces mêmes paramètres sur tout le train"
   ]
  },
  {
   "cell_type": "markdown",
   "metadata": {},
   "source": [
    "### 3.3.1. Random Forest\n",
    "\n",
    "Les paramètres par défaut du modèle implémenté sur la bibliothèque scikit-learn sont :"
   ]
  },
  {
   "cell_type": "code",
   "execution_count": 24,
   "metadata": {},
   "outputs": [
    {
     "data": {
      "text/html": [
       "<div>\n",
       "<style scoped>\n",
       "    .dataframe tbody tr th:only-of-type {\n",
       "        vertical-align: middle;\n",
       "    }\n",
       "\n",
       "    .dataframe tbody tr th {\n",
       "        vertical-align: top;\n",
       "    }\n",
       "\n",
       "    .dataframe thead th {\n",
       "        text-align: right;\n",
       "    }\n",
       "</style>\n",
       "<table border=\"1\" class=\"dataframe\">\n",
       "  <thead>\n",
       "    <tr style=\"text-align: right;\">\n",
       "      <th></th>\n",
       "      <th>bootstrap</th>\n",
       "      <th>class_weight</th>\n",
       "      <th>criterion</th>\n",
       "      <th>max_depth</th>\n",
       "      <th>max_features</th>\n",
       "      <th>max_leaf_nodes</th>\n",
       "      <th>min_impurity_decrease</th>\n",
       "      <th>min_impurity_split</th>\n",
       "      <th>min_samples_leaf</th>\n",
       "      <th>min_samples_split</th>\n",
       "      <th>min_weight_fraction_leaf</th>\n",
       "      <th>n_estimators</th>\n",
       "      <th>n_jobs</th>\n",
       "      <th>oob_score</th>\n",
       "      <th>random_state</th>\n",
       "      <th>verbose</th>\n",
       "      <th>warm_start</th>\n",
       "    </tr>\n",
       "  </thead>\n",
       "  <tbody>\n",
       "    <tr>\n",
       "      <th>RandomForest</th>\n",
       "      <td>True</td>\n",
       "      <td>None</td>\n",
       "      <td>gini</td>\n",
       "      <td>None</td>\n",
       "      <td>auto</td>\n",
       "      <td>None</td>\n",
       "      <td>0.0</td>\n",
       "      <td>None</td>\n",
       "      <td>1</td>\n",
       "      <td>2</td>\n",
       "      <td>0.0</td>\n",
       "      <td>warn</td>\n",
       "      <td>None</td>\n",
       "      <td>False</td>\n",
       "      <td>None</td>\n",
       "      <td>0</td>\n",
       "      <td>False</td>\n",
       "    </tr>\n",
       "  </tbody>\n",
       "</table>\n",
       "</div>"
      ],
      "text/plain": [
       "              bootstrap class_weight criterion max_depth max_features  \\\n",
       "RandomForest       True         None      gini      None         auto   \n",
       "\n",
       "             max_leaf_nodes  min_impurity_decrease min_impurity_split  \\\n",
       "RandomForest           None                    0.0               None   \n",
       "\n",
       "              min_samples_leaf  min_samples_split  min_weight_fraction_leaf  \\\n",
       "RandomForest                 1                  2                       0.0   \n",
       "\n",
       "             n_estimators n_jobs  oob_score random_state  verbose  warm_start  \n",
       "RandomForest         warn   None      False         None        0       False  "
      ]
     },
     "execution_count": 24,
     "metadata": {},
     "output_type": "execute_result"
    }
   ],
   "source": [
    "from sklearn.ensemble import RandomForestClassifier\n",
    "import pandas as pd\n",
    "rf = RandomForestClassifier()\n",
    "rf_default_params = pd.DataFrame(rf.get_params(), index=[\"RandomForest\"])\n",
    "rf_default_params"
   ]
  },
  {
   "cell_type": "markdown",
   "metadata": {},
   "source": [
    "*n_estimators* (nombre d'arbres dans la forêt ) et *max_features* (taille des sous-ensembles aléatoires de caractéristiques à prendre en compte lors du fractionnement d'un nœud) sont les principaux paramètres à ajuster. On veut donc les considérer en priorité. Mais, en raison du compromis temps/qualité posé par *n_estimators*, il s'agira du dernier paramètre à estimer. Les autres paramètres qui influencent l'apprentissage sont : *max_depth*, *min_sample_leaf*, *min_sample_split* et *class_weight*.\n",
    "\n",
    "En pratique, on ajustera les paramètres ainsi :\n",
    "1. ***max_features*** : ['auto', 0.9, 0.95, 0.98, 0.99, 0.995, 0.998, 0.999, None]  \n",
    "Les bonnes valeurs empiriques par défaut sont *max_features=sqrt(n_features)* pour les tâches de classification.  \n",
    "Méthode : *GridSearchCV* sur la grille avec paramètres par défaut pour le reste, validation croisée K-fold avec K=5 sur 20% du train.     \n",
    "Résultat : **max_features = 0.998**\n",
    "2. ***max_depth*** : [10, 20, 30, 40, 50, 60, 70, 80, 90, 100, 110, None], ***min_samples_leaf*** : [1, 2, 4] et ***min_samples_split*** : [2, 5, 10]   \n",
    "De bons résultats sont souvent obtenus en réglant max_depth=None en combinaison avec min_samples_split=2 (c'est-à-dire lorsque les arbres sont en plein développement).   \n",
    "Méthode : *RandomizeGridSearchCV* sur une grille de 100 combinaisons possibles mais 50 combinaisons aléatoirement choisies testées, avec le meilleur *max_features* et les paramètres par défaut pour le reste, validation croisée K-fold avec K=3 sur 20% du train.  \n",
    "Résultats : **max_depth = None, min_samples_leaf = 2, min_samples_split = 2**\n",
    "3. ***boostrap*** : [True, False], ***class_weight*** : [None, 'balanced']  \n",
    "Les échantillons bootstrap sont utilisés par défaut (bootstrap=True) alors que la stratégie par défaut pour les arbres supplémentaires est d'utiliser l'ensemble des données (bootstrap=False).  \n",
    "Méthode : pour chacune des quatre possibilités, validation croisée K-fold avec K=10 sur 20% du train avec les meilleurs paramètres trouvés précedemment et les paramètres par défaut pour le reste.   \n",
    "Résultat : **class_weight = None**, **boostrap = True**\n",
    "4. ***n_estimators*** : [750, 1000, 1250, 1500, 1750, 2000, 2250, 2500, 2750, 3000]  \n",
    "Plus il est grand, mieux c'est, mais aussi plus il faudra de temps pour le calculer. De plus, les résultats cesseront de s'améliorer de façon significative au-delà d'un nombre critique d'arbres.  \n",
    "Méthode : *GridSearchCV* sur la grille avec les meilleurs paramètres trouvés précedemment et les paramètres par défaut pour le reste, validation croisée K-fold avec K=3 sur 20% du train.     \n",
    "Résultat : **n_estimators = 1500**\n",
    "\n",
    "\n",
    "|Modèle                              | Moyenne F1-score sur 20% du train    | Écart-type F1-score sur 20% du train | \n",
    "|------------------------------------|----------------------|---------------------|\n",
    "|Random Forest, paramètres par défaut|0.5595                |0.78                 |\n",
    "|Random Forest, paramètres optimisés |0.5711                |0.93                 |"
   ]
  },
  {
   "cell_type": "code",
   "execution_count": 79,
   "metadata": {},
   "outputs": [
    {
     "name": "stdout",
     "output_type": "stream",
     "text": [
      "shape all dataset features_train:  (38289, 1366) , features_test:  (37439, 1366)\n",
      "shape 20% dataset features:  (30631, 1366) , X_test:  30631\n"
     ]
    }
   ],
   "source": [
    "# load all features for train and test and train labels\n",
    "import csv\n",
    "label_train = np.load(\"dataset/data/train_label.npy\")\n",
    "features_train = np.load(\"dataset/data/all_features_train.npy\")\n",
    "features_test = np.load(\"dataset/data/all_features_test.npy\")\n",
    "print(\"shape all dataset features_train: \", features_train.shape, \", features_test: \", features_test.shape)\n",
    "\n",
    "# final estimation on 80% of the whole dataset only\n",
    "from sklearn.model_selection import train_test_split\n",
    "features, X_test, label, y_test = train_test_split(features_train, label_train, test_size=0.2, random_state=0)\n",
    "print(\"shape 20% dataset features: \", features.shape, \", X_test: \", len(label))"
   ]
  },
  {
   "cell_type": "code",
   "execution_count": 91,
   "metadata": {},
   "outputs": [],
   "source": [
    "# random forest hyperparameter tuning\n",
    "from sklearn.model_selection import cross_val_score\n",
    "best_RF_params = {'max_features':0.998,\n",
    "                  'min_samples_split': 2,\n",
    "                  'min_samples_leaf': 2,\n",
    "                  'max_depth': None,\n",
    "                  'class_weight': None,\n",
    "                  'bootstrap': True,\n",
    "                  'n_estimators': 1500}\n",
    "rf = RandomForestClassifier(**best_RF_params, random_state=0, verbose=2)\n",
    "# rf_cv_score = cross_val_score(rf, features, label, cv=10, verbose=10) # final evaluation K-foldCV (K=10) on 80% of the whole dataset\n",
    "# rf.fit(features_train, label_train) # train the model with best parameters on the whole dataset\n",
    "# rf.predict(features_test) # apply on test set"
   ]
  },
  {
   "cell_type": "markdown",
   "metadata": {},
   "source": [
    "### 3.3.2. Gradient Boosting"
   ]
  },
  {
   "cell_type": "code",
   "execution_count": 25,
   "metadata": {},
   "outputs": [
    {
     "data": {
      "text/html": [
       "<div>\n",
       "<style scoped>\n",
       "    .dataframe tbody tr th:only-of-type {\n",
       "        vertical-align: middle;\n",
       "    }\n",
       "\n",
       "    .dataframe tbody tr th {\n",
       "        vertical-align: top;\n",
       "    }\n",
       "\n",
       "    .dataframe thead th {\n",
       "        text-align: right;\n",
       "    }\n",
       "</style>\n",
       "<table border=\"1\" class=\"dataframe\">\n",
       "  <thead>\n",
       "    <tr style=\"text-align: right;\">\n",
       "      <th></th>\n",
       "      <th>criterion</th>\n",
       "      <th>init</th>\n",
       "      <th>learning_rate</th>\n",
       "      <th>loss</th>\n",
       "      <th>max_depth</th>\n",
       "      <th>max_features</th>\n",
       "      <th>max_leaf_nodes</th>\n",
       "      <th>min_impurity_decrease</th>\n",
       "      <th>min_impurity_split</th>\n",
       "      <th>min_samples_leaf</th>\n",
       "      <th>...</th>\n",
       "      <th>min_weight_fraction_leaf</th>\n",
       "      <th>n_estimators</th>\n",
       "      <th>n_iter_no_change</th>\n",
       "      <th>presort</th>\n",
       "      <th>random_state</th>\n",
       "      <th>subsample</th>\n",
       "      <th>tol</th>\n",
       "      <th>validation_fraction</th>\n",
       "      <th>verbose</th>\n",
       "      <th>warm_start</th>\n",
       "    </tr>\n",
       "  </thead>\n",
       "  <tbody>\n",
       "    <tr>\n",
       "      <th>GradientBoosting</th>\n",
       "      <td>friedman_mse</td>\n",
       "      <td>None</td>\n",
       "      <td>0.1</td>\n",
       "      <td>deviance</td>\n",
       "      <td>3</td>\n",
       "      <td>None</td>\n",
       "      <td>None</td>\n",
       "      <td>0.0</td>\n",
       "      <td>None</td>\n",
       "      <td>1</td>\n",
       "      <td>...</td>\n",
       "      <td>0.0</td>\n",
       "      <td>100</td>\n",
       "      <td>None</td>\n",
       "      <td>auto</td>\n",
       "      <td>None</td>\n",
       "      <td>1.0</td>\n",
       "      <td>0.0001</td>\n",
       "      <td>0.1</td>\n",
       "      <td>0</td>\n",
       "      <td>False</td>\n",
       "    </tr>\n",
       "  </tbody>\n",
       "</table>\n",
       "<p>1 rows × 21 columns</p>\n",
       "</div>"
      ],
      "text/plain": [
       "                     criterion  init  learning_rate      loss  max_depth  \\\n",
       "GradientBoosting  friedman_mse  None            0.1  deviance          3   \n",
       "\n",
       "                 max_features max_leaf_nodes  min_impurity_decrease  \\\n",
       "GradientBoosting         None           None                    0.0   \n",
       "\n",
       "                 min_impurity_split  min_samples_leaf     ...      \\\n",
       "GradientBoosting               None                 1     ...       \n",
       "\n",
       "                  min_weight_fraction_leaf  n_estimators  n_iter_no_change  \\\n",
       "GradientBoosting                       0.0           100              None   \n",
       "\n",
       "                 presort random_state subsample     tol  validation_fraction  \\\n",
       "GradientBoosting    auto         None       1.0  0.0001                  0.1   \n",
       "\n",
       "                  verbose  warm_start  \n",
       "GradientBoosting        0       False  \n",
       "\n",
       "[1 rows x 21 columns]"
      ]
     },
     "execution_count": 25,
     "metadata": {},
     "output_type": "execute_result"
    }
   ],
   "source": [
    "from sklearn.ensemble import GradientBoostingClassifier\n",
    "gb = GradientBoostingClassifier()\n",
    "gb_default_params = pd.DataFrame(gb.get_params(), index=[\"GradientBoosting\"])\n",
    "gb_default_params"
   ]
  },
  {
   "cell_type": "markdown",
   "metadata": {},
   "source": [
    "On ajustera tous les paramètres qui influencent le résultat en même temps à l'exception du *n_estimators*, en raison du compromis temps/qualité qu'il pose. De plus, on ne peut ajuster en même temps le *learning_rate* et *n_estimators* car il est nécessaire de trouver un compromis entre ces deux paramètres. \n",
    " \n",
    "En pratique, on ajustera les paramètres ainsi :\n",
    "1. ***max_depth*** : [10, 20, 30, 40, 50, 60, 70, 80, 90, 100, 110, None], ***min_sample_leaf*** : [1, 2, 4] et ***min_sample_split*** : [2, 5, 10], ***subsample*** :  [0.8, 1.0], ***learning_rate*** : [1, 0.1, 0.01, 0.001, 0.0001], ***max_features*** : ['auto', 'log2', 0.95, 0.98, 0.99, 0.995, None]  \n",
    "Méthode : *RandomizeGridSearchCV* sur une grille de 100 combinaisons possibles mais 20 combinaisons aléatoirement choisies testées, avec les paramètres par défaut pour le reste, validation croisée K-fold avec K=3 sur 20% du .  \n",
    "Résultats : **max_depth = 100, min_sample_leaf = 4, min_sample_split = 5, subsample = 0.8, learning_rate = 0.1, max_features = 0.99.**\n",
    "2. ***n_estimators*** : [500, 700, 1000, 1250, 1500, 1750, 2000, 2250, 2500, 2750]  \n",
    "  Méthode : *GridSearchCV* sur la grille avec les meilleurs paramètres trouvés précedemment et les paramètres par défaut pour le reste, validation croisée K-fold avec K=3 sur 20% du train.     \n",
    "Résultat : **n_estimators = 1500**"
   ]
  },
  {
   "cell_type": "code",
   "execution_count": 92,
   "metadata": {},
   "outputs": [],
   "source": [
    "# gradient boosting hyperparameter tuning\n",
    "best_GB_params = {'subsample': 0.8,\n",
    "                  'min_samples_split': 5,\n",
    "                  'min_samples_leaf': 4,\n",
    "                  'max_features': 0.99,\n",
    "                  'max_depth': 100,\n",
    "                  'learning_rate': 0.1,\n",
    "                  'n_estimators': 1500\n",
    "                 }\n",
    "gb = GradientBoostingClassifier(**best_GB_params, random_state=0, verbose=2)\n",
    "# gb_cv_score = cross_val_score(gb, features, label, cv=10, verbose=10) # final evaluation K-foldCV (K=10) on 80% of the whole dataset\n",
    "# gb.fit(features_train, label_train) # train the model with best parameters on the whole dataset\n",
    "# y_pred_gb = gb.predict(features_test) # apply on test set"
   ]
  },
  {
   "cell_type": "markdown",
   "metadata": {},
   "source": [
    "## 3.4. Autres tentatives"
   ]
  },
  {
   "cell_type": "code",
   "execution_count": null,
   "metadata": {},
   "outputs": [],
   "source": [
    "## One-vs-all\n"
   ]
  },
  {
   "cell_type": "code",
   "execution_count": null,
   "metadata": {},
   "outputs": [],
   "source": [
    "# Light gbm \n",
    "import lightgbm as lgb\n",
    "X_train, X_test, y_train, y_test = train_test_split(features_train, label_train, test_size=0.33, random_state=42)\n",
    "model = lgb.LGBMClassifier(objective='binary', reg_lambda=10,n_estimators=10000)\n",
    "model.fit(X_train, y_train, eval_set=[(X_test, y_test)], early_stopping_rounds=50)\n",
    "y_pred_lgbm = model.predict(features_test)"
   ]
  },
  {
   "cell_type": "markdown",
   "metadata": {},
   "source": [
    "# 4.  Comparaison, choix des modèles & synthèse des résultats"
   ]
  },
  {
   "cell_type": "markdown",
   "metadata": {},
   "source": [
    "Pour évaluer l'augmentation de la performance entre les paramètres par défaut et ces paramètres ajustés, on regarde l'évolution du F1-score entre avec une validation croisée K-fold, K=10 sur 80% du training set. \n",
    "\n",
    "|Modèle et paramètres  | Résultat de F1-score moyen sur 80% du dataset en CV  | Résultat en F1-score en soumission | \n",
    "|------------------------------------|-----------------------------|------------------------------------|\n",
    "|Random Forest, paramètres par défaut| 0.61330                     | 0.64223                             |\n",
    "|Random Forest, paramètres optimisés | 0.62951                     | 0.64303                 | \n",
    "|Random Forest OneVSall              |                                          |                 | \n",
    "|Gradient Boosting, paramètres par défaut|                         | 0.63320                               |\n",
    "|Gradient Boosting, paramètres optimisés |                         |                 |  \n",
    "|Light GBM                       |          0.67140                    | 0.64554                 | \n",
    "\n",
    "Ce tableau récapitulatif permet de constater que la richesse des *features* permet d'obtenir de bons f1-scores même avec les paramètres par défaut des différents modèles. L'apport du réglage des hyperparmètres sur les résultats est relativement faible.  \n",
    "Les modèles les plus intéressants à conserver paraissent être le Light GBM qui donne les meilleurs résultats en soumission (soit sur 50% du test) ainsi que le Random Forest avec les paramètres optimisés.\n"
   ]
  },
  {
   "cell_type": "code",
   "execution_count": null,
   "metadata": {},
   "outputs": [],
   "source": []
  }
 ],
 "metadata": {
  "kernelspec": {
   "display_name": "Python 3",
   "language": "python",
   "name": "python3"
  },
  "language_info": {
   "codemirror_mode": {
    "name": "ipython",
    "version": 3
   },
   "file_extension": ".py",
   "mimetype": "text/x-python",
   "name": "python",
   "nbconvert_exporter": "python",
   "pygments_lexer": "ipython3",
   "version": "3.6.6"
  }
 },
 "nbformat": 4,
 "nbformat_minor": 1
}
